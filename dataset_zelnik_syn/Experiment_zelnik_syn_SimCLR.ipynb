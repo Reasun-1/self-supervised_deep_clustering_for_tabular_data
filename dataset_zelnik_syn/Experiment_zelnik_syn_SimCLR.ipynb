{
  "nbformat": 4,
  "nbformat_minor": 0,
  "metadata": {
    "colab": {
      "name": "Experiment_zelnik_syn_SimCLR.ipynb",
      "provenance": []
    },
    "kernelspec": {
      "name": "python3",
      "display_name": "Python 3"
    },
    "language_info": {
      "name": "python"
    }
  },
  "cells": [
    {
      "cell_type": "code",
      "execution_count": null,
      "metadata": {
        "id": "AbiurfDfzul0"
      },
      "outputs": [],
      "source": [
        ""
      ]
    },
    {
      "cell_type": "markdown",
      "source": [
        "## Conifuration"
      ],
      "metadata": {
        "id": "yclVA5qcDxcs"
      }
    },
    {
      "cell_type": "code",
      "execution_count": 1,
      "metadata": {
        "colab": {
          "base_uri": "https://localhost:8080/",
          "height": 1000
        },
        "id": "lpTeHV5f6RDe",
        "outputId": "d27a04ad-b26a-4b54-a7b2-be1019217046"
      },
      "outputs": [
        {
          "output_type": "stream",
          "name": "stdout",
          "text": [
            "Looking in indexes: https://pypi.org/simple, https://us-python.pkg.dev/colab-wheels/public/simple/\n",
            "Collecting lightly\n",
            "  Downloading lightly-1.2.23-py3-none-any.whl (459 kB)\n",
            "\u001b[K     |████████████████████████████████| 459 kB 5.2 MB/s \n",
            "\u001b[?25hRequirement already satisfied: setuptools>=21.0.0 in /usr/local/lib/python3.7/dist-packages (from lightly) (57.4.0)\n",
            "Requirement already satisfied: urllib3>=1.15.1 in /usr/local/lib/python3.7/dist-packages (from lightly) (1.24.3)\n",
            "Requirement already satisfied: six>=1.10 in /usr/local/lib/python3.7/dist-packages (from lightly) (1.15.0)\n",
            "Requirement already satisfied: numpy>=1.18.1 in /usr/local/lib/python3.7/dist-packages (from lightly) (1.21.6)\n",
            "Collecting lightly-utils~=0.0.0\n",
            "  Downloading lightly_utils-0.0.2-py3-none-any.whl (6.4 kB)\n",
            "Collecting hydra-core>=1.0.0\n",
            "  Downloading hydra_core-1.2.0-py3-none-any.whl (151 kB)\n",
            "\u001b[K     |████████████████████████████████| 151 kB 51.8 MB/s \n",
            "\u001b[?25hRequirement already satisfied: tqdm>=4.44 in /usr/local/lib/python3.7/dist-packages (from lightly) (4.64.0)\n",
            "Requirement already satisfied: python-dateutil>=2.5.3 in /usr/local/lib/python3.7/dist-packages (from lightly) (2.8.2)\n",
            "Collecting pytorch-lightning>=1.0.4\n",
            "  Downloading pytorch_lightning-1.6.4-py3-none-any.whl (585 kB)\n",
            "\u001b[K     |████████████████████████████████| 585 kB 48.9 MB/s \n",
            "\u001b[?25hRequirement already satisfied: torchvision in /usr/local/lib/python3.7/dist-packages (from lightly) (0.12.0+cu113)\n",
            "Requirement already satisfied: requests>=2.23.0 in /usr/local/lib/python3.7/dist-packages (from lightly) (2.23.0)\n",
            "Requirement already satisfied: certifi>=14.05.14 in /usr/local/lib/python3.7/dist-packages (from lightly) (2022.6.15)\n",
            "Collecting omegaconf~=2.2\n",
            "  Downloading omegaconf-2.2.2-py3-none-any.whl (79 kB)\n",
            "\u001b[K     |████████████████████████████████| 79 kB 6.7 MB/s \n",
            "\u001b[?25hRequirement already satisfied: packaging in /usr/local/lib/python3.7/dist-packages (from hydra-core>=1.0.0->lightly) (21.3)\n",
            "Collecting antlr4-python3-runtime==4.9.*\n",
            "  Downloading antlr4-python3-runtime-4.9.3.tar.gz (117 kB)\n",
            "\u001b[K     |████████████████████████████████| 117 kB 55.6 MB/s \n",
            "\u001b[?25hRequirement already satisfied: importlib-resources in /usr/local/lib/python3.7/dist-packages (from hydra-core>=1.0.0->lightly) (5.7.1)\n",
            "Requirement already satisfied: Pillow in /usr/local/lib/python3.7/dist-packages (from lightly-utils~=0.0.0->lightly) (7.1.2)\n",
            "Collecting PyYAML>=5.1.0\n",
            "  Downloading PyYAML-6.0-cp37-cp37m-manylinux_2_5_x86_64.manylinux1_x86_64.manylinux_2_12_x86_64.manylinux2010_x86_64.whl (596 kB)\n",
            "\u001b[K     |████████████████████████████████| 596 kB 46.6 MB/s \n",
            "\u001b[?25hRequirement already satisfied: tensorboard>=2.2.0 in /usr/local/lib/python3.7/dist-packages (from pytorch-lightning>=1.0.4->lightly) (2.8.0)\n",
            "Collecting pyDeprecate>=0.3.1\n",
            "  Downloading pyDeprecate-0.3.2-py3-none-any.whl (10 kB)\n",
            "Collecting torchmetrics>=0.4.1\n",
            "  Downloading torchmetrics-0.9.2-py3-none-any.whl (419 kB)\n",
            "\u001b[K     |████████████████████████████████| 419 kB 53.5 MB/s \n",
            "\u001b[?25hRequirement already satisfied: protobuf<=3.20.1 in /usr/local/lib/python3.7/dist-packages (from pytorch-lightning>=1.0.4->lightly) (3.17.3)\n",
            "Requirement already satisfied: torch>=1.8.* in /usr/local/lib/python3.7/dist-packages (from pytorch-lightning>=1.0.4->lightly) (1.11.0+cu113)\n",
            "Requirement already satisfied: typing-extensions>=4.0.0 in /usr/local/lib/python3.7/dist-packages (from pytorch-lightning>=1.0.4->lightly) (4.1.1)\n",
            "Collecting fsspec[http]!=2021.06.0,>=2021.05.0\n",
            "  Downloading fsspec-2022.5.0-py3-none-any.whl (140 kB)\n",
            "\u001b[K     |████████████████████████████████| 140 kB 57.2 MB/s \n",
            "\u001b[?25hCollecting aiohttp\n",
            "  Downloading aiohttp-3.8.1-cp37-cp37m-manylinux_2_5_x86_64.manylinux1_x86_64.manylinux_2_12_x86_64.manylinux2010_x86_64.whl (1.1 MB)\n",
            "\u001b[K     |████████████████████████████████| 1.1 MB 48.2 MB/s \n",
            "\u001b[?25hRequirement already satisfied: pyparsing!=3.0.5,>=2.0.2 in /usr/local/lib/python3.7/dist-packages (from packaging->hydra-core>=1.0.0->lightly) (3.0.9)\n",
            "Requirement already satisfied: chardet<4,>=3.0.2 in /usr/local/lib/python3.7/dist-packages (from requests>=2.23.0->lightly) (3.0.4)\n",
            "Requirement already satisfied: idna<3,>=2.5 in /usr/local/lib/python3.7/dist-packages (from requests>=2.23.0->lightly) (2.10)\n",
            "Requirement already satisfied: google-auth<3,>=1.6.3 in /usr/local/lib/python3.7/dist-packages (from tensorboard>=2.2.0->pytorch-lightning>=1.0.4->lightly) (1.35.0)\n",
            "Requirement already satisfied: google-auth-oauthlib<0.5,>=0.4.1 in /usr/local/lib/python3.7/dist-packages (from tensorboard>=2.2.0->pytorch-lightning>=1.0.4->lightly) (0.4.6)\n",
            "Requirement already satisfied: absl-py>=0.4 in /usr/local/lib/python3.7/dist-packages (from tensorboard>=2.2.0->pytorch-lightning>=1.0.4->lightly) (1.1.0)\n",
            "Requirement already satisfied: wheel>=0.26 in /usr/local/lib/python3.7/dist-packages (from tensorboard>=2.2.0->pytorch-lightning>=1.0.4->lightly) (0.37.1)\n",
            "Requirement already satisfied: tensorboard-plugin-wit>=1.6.0 in /usr/local/lib/python3.7/dist-packages (from tensorboard>=2.2.0->pytorch-lightning>=1.0.4->lightly) (1.8.1)\n",
            "Requirement already satisfied: tensorboard-data-server<0.7.0,>=0.6.0 in /usr/local/lib/python3.7/dist-packages (from tensorboard>=2.2.0->pytorch-lightning>=1.0.4->lightly) (0.6.1)\n",
            "Requirement already satisfied: werkzeug>=0.11.15 in /usr/local/lib/python3.7/dist-packages (from tensorboard>=2.2.0->pytorch-lightning>=1.0.4->lightly) (1.0.1)\n",
            "Requirement already satisfied: markdown>=2.6.8 in /usr/local/lib/python3.7/dist-packages (from tensorboard>=2.2.0->pytorch-lightning>=1.0.4->lightly) (3.3.7)\n",
            "Requirement already satisfied: grpcio>=1.24.3 in /usr/local/lib/python3.7/dist-packages (from tensorboard>=2.2.0->pytorch-lightning>=1.0.4->lightly) (1.46.3)\n",
            "Requirement already satisfied: cachetools<5.0,>=2.0.0 in /usr/local/lib/python3.7/dist-packages (from google-auth<3,>=1.6.3->tensorboard>=2.2.0->pytorch-lightning>=1.0.4->lightly) (4.2.4)\n",
            "Requirement already satisfied: pyasn1-modules>=0.2.1 in /usr/local/lib/python3.7/dist-packages (from google-auth<3,>=1.6.3->tensorboard>=2.2.0->pytorch-lightning>=1.0.4->lightly) (0.2.8)\n",
            "Requirement already satisfied: rsa<5,>=3.1.4 in /usr/local/lib/python3.7/dist-packages (from google-auth<3,>=1.6.3->tensorboard>=2.2.0->pytorch-lightning>=1.0.4->lightly) (4.8)\n",
            "Requirement already satisfied: requests-oauthlib>=0.7.0 in /usr/local/lib/python3.7/dist-packages (from google-auth-oauthlib<0.5,>=0.4.1->tensorboard>=2.2.0->pytorch-lightning>=1.0.4->lightly) (1.3.1)\n",
            "Requirement already satisfied: importlib-metadata>=4.4 in /usr/local/lib/python3.7/dist-packages (from markdown>=2.6.8->tensorboard>=2.2.0->pytorch-lightning>=1.0.4->lightly) (4.11.4)\n",
            "Requirement already satisfied: zipp>=0.5 in /usr/local/lib/python3.7/dist-packages (from importlib-metadata>=4.4->markdown>=2.6.8->tensorboard>=2.2.0->pytorch-lightning>=1.0.4->lightly) (3.8.0)\n",
            "Requirement already satisfied: pyasn1<0.5.0,>=0.4.6 in /usr/local/lib/python3.7/dist-packages (from pyasn1-modules>=0.2.1->google-auth<3,>=1.6.3->tensorboard>=2.2.0->pytorch-lightning>=1.0.4->lightly) (0.4.8)\n",
            "Requirement already satisfied: oauthlib>=3.0.0 in /usr/local/lib/python3.7/dist-packages (from requests-oauthlib>=0.7.0->google-auth-oauthlib<0.5,>=0.4.1->tensorboard>=2.2.0->pytorch-lightning>=1.0.4->lightly) (3.2.0)\n",
            "Collecting frozenlist>=1.1.1\n",
            "  Downloading frozenlist-1.3.0-cp37-cp37m-manylinux_2_5_x86_64.manylinux1_x86_64.manylinux_2_17_x86_64.manylinux2014_x86_64.whl (144 kB)\n",
            "\u001b[K     |████████████████████████████████| 144 kB 40.5 MB/s \n",
            "\u001b[?25hCollecting yarl<2.0,>=1.0\n",
            "  Downloading yarl-1.7.2-cp37-cp37m-manylinux_2_5_x86_64.manylinux1_x86_64.manylinux_2_12_x86_64.manylinux2010_x86_64.whl (271 kB)\n",
            "\u001b[K     |████████████████████████████████| 271 kB 82.4 MB/s \n",
            "\u001b[?25hRequirement already satisfied: attrs>=17.3.0 in /usr/local/lib/python3.7/dist-packages (from aiohttp->fsspec[http]!=2021.06.0,>=2021.05.0->pytorch-lightning>=1.0.4->lightly) (21.4.0)\n",
            "Collecting async-timeout<5.0,>=4.0.0a3\n",
            "  Downloading async_timeout-4.0.2-py3-none-any.whl (5.8 kB)\n",
            "Collecting asynctest==0.13.0\n",
            "  Downloading asynctest-0.13.0-py3-none-any.whl (26 kB)\n",
            "Collecting multidict<7.0,>=4.5\n",
            "  Downloading multidict-6.0.2-cp37-cp37m-manylinux_2_17_x86_64.manylinux2014_x86_64.whl (94 kB)\n",
            "\u001b[K     |████████████████████████████████| 94 kB 4.2 MB/s \n",
            "\u001b[?25hCollecting aiosignal>=1.1.2\n",
            "  Downloading aiosignal-1.2.0-py3-none-any.whl (8.2 kB)\n",
            "Requirement already satisfied: charset-normalizer<3.0,>=2.0 in /usr/local/lib/python3.7/dist-packages (from aiohttp->fsspec[http]!=2021.06.0,>=2021.05.0->pytorch-lightning>=1.0.4->lightly) (2.1.0)\n",
            "Building wheels for collected packages: antlr4-python3-runtime\n",
            "  Building wheel for antlr4-python3-runtime (setup.py) ... \u001b[?25l\u001b[?25hdone\n",
            "  Created wheel for antlr4-python3-runtime: filename=antlr4_python3_runtime-4.9.3-py3-none-any.whl size=144575 sha256=fa37e4b056a3e318ca6b5717a6de76866eb27515b5184f03d8690ed0b6c1e310\n",
            "  Stored in directory: /root/.cache/pip/wheels/8b/8d/53/2af8772d9aec614e3fc65e53d4a993ad73c61daa8bbd85a873\n",
            "Successfully built antlr4-python3-runtime\n",
            "Installing collected packages: multidict, frozenlist, yarl, asynctest, async-timeout, aiosignal, PyYAML, fsspec, antlr4-python3-runtime, aiohttp, torchmetrics, pyDeprecate, omegaconf, pytorch-lightning, lightly-utils, hydra-core, lightly\n",
            "  Attempting uninstall: PyYAML\n",
            "    Found existing installation: PyYAML 3.13\n",
            "    Uninstalling PyYAML-3.13:\n",
            "      Successfully uninstalled PyYAML-3.13\n",
            "Successfully installed PyYAML-6.0 aiohttp-3.8.1 aiosignal-1.2.0 antlr4-python3-runtime-4.9.3 async-timeout-4.0.2 asynctest-0.13.0 frozenlist-1.3.0 fsspec-2022.5.0 hydra-core-1.2.0 lightly-1.2.23 lightly-utils-0.0.2 multidict-6.0.2 omegaconf-2.2.2 pyDeprecate-0.3.2 pytorch-lightning-1.6.4 torchmetrics-0.9.2 yarl-1.7.2\n"
          ]
        },
        {
          "output_type": "display_data",
          "data": {
            "application/vnd.colab-display-data+json": {
              "pip_warning": {
                "packages": [
                  "pydevd_plugins"
                ]
              }
            }
          },
          "metadata": {}
        }
      ],
      "source": [
        "#import the lib for contrastive learning framework\n",
        "!pip install lightly"
      ]
    },
    {
      "cell_type": "code",
      "execution_count": 2,
      "metadata": {
        "id": "eFdQeuUd6HEf"
      },
      "outputs": [],
      "source": [
        "import lightly\n",
        "from lightly.models.modules.heads import SimSiamPredictionHead\n",
        "from lightly.models.modules.heads import SimSiamProjectionHead\n",
        "\n",
        "from lightly.data import LightlyDataset\n",
        "from lightly.data import ImageCollateFunction\n",
        "from lightly.models.modules import BarlowTwinsProjectionHead\n",
        "from lightly.loss import BarlowTwinsLoss\n",
        "\n",
        "from lightly.data import LightlyDataset\n",
        "from lightly.data import SimCLRCollateFunction\n",
        "from lightly.loss import NTXentLoss\n",
        "from lightly.loss import NegativeCosineSimilarity\n",
        "from lightly.models.modules import SimCLRProjectionHead"
      ]
    },
    {
      "cell_type": "code",
      "execution_count": 3,
      "metadata": {
        "id": "6QpWyfxuMr_3"
      },
      "outputs": [],
      "source": [
        "import math\n",
        "import torch\n",
        "import torch.nn as nn\n",
        "import torchvision\n",
        "import pandas as pd\n",
        "import numpy as np\n",
        "from collections import Counter\n",
        "from sklearn.model_selection import train_test_split\n",
        "from sklearn.preprocessing import LabelEncoder\n",
        "from sklearn.preprocessing import StandardScaler\n",
        "\n",
        "from torch.utils.data import Dataset, DataLoader\n",
        "import torch.optim as torch_optim\n",
        "import torch.optim.lr_scheduler as lr_scheduler\n",
        "import torch.nn as nn\n",
        "import torch.nn.functional as F\n",
        "from torchvision import models\n",
        "from datetime import datetime\n",
        "\n",
        "from numpy import unique\n",
        "from numpy import where\n",
        "from sklearn.datasets import make_classification\n",
        "from sklearn.cluster import DBSCAN\n",
        "from sklearn.cluster import KMeans\n",
        "from sklearn.cluster import SpectralClustering\n",
        "from matplotlib import pyplot\n",
        "import seaborn as sns\n",
        "\n",
        "from sklearn.metrics.cluster import normalized_mutual_info_score\n",
        "from sklearn.metrics.cluster import adjusted_mutual_info_score\n",
        "from sklearn.metrics import silhouette_score\n",
        "from sklearn import mixture\n",
        "from sklearn.cluster import DBSCAN\n",
        "from sklearn.cluster import OPTICS\n",
        "from sklearn.cluster import AgglomerativeClustering\n",
        "\n",
        "import tensorboard\n",
        "from tensorboard import notebook\n",
        "from torch.utils.tensorboard import SummaryWriter\n",
        "\n",
        "import matplotlib \n",
        "import matplotlib.pyplot as plt\n",
        "#import plotly.express as px\n",
        "\n",
        "from sklearn.manifold import TSNE\n",
        "from sklearn.decomposition import PCA\n",
        "\n",
        "from sklearn.datasets import make_blobs\n",
        "from sklearn.datasets import make_moons\n",
        "from sklearn.utils import shuffle\n",
        "\n",
        "import torchvision.transforms as transforms\n",
        "import torchvision.datasets as datasets\n",
        "from sklearn.metrics.pairwise import cosine_similarity\n",
        "\n",
        "import random\n",
        "from torch.nn.modules.loss import MSELoss\n",
        "from sklearn.neighbors import KDTree\n",
        "#from kmodes.kprototypes import KPrototypes\n",
        "\n",
        "from scipy.io.arff import loadarff\n",
        "from sklearn.preprocessing import MinMaxScaler \n",
        "from sklearn.datasets import make_classification"
      ]
    },
    {
      "cell_type": "markdown",
      "source": [
        "## Load Dataset Zelnik and Check Clustering Result with the Baseline Method Kmeans"
      ],
      "metadata": {
        "id": "r8Uf1cXQEbyp"
      }
    },
    {
      "cell_type": "code",
      "execution_count": 4,
      "metadata": {
        "id": "MYmlFY_u6HEm"
      },
      "outputs": [],
      "source": [
        "# set the path to the dataset\n",
        "path_to_data = '/content/drive/MyDrive/Colab_Notebooks/zelnik5.arff'"
      ]
    },
    {
      "cell_type": "code",
      "source": [
        "raw = loadarff(path_to_data)\n",
        "data = pd.DataFrame(raw[0])"
      ],
      "metadata": {
        "id": "cx8MlPX9k2oh"
      },
      "execution_count": 5,
      "outputs": []
    },
    {
      "cell_type": "code",
      "execution_count": 6,
      "metadata": {
        "id": "nSREjuRwanGT"
      },
      "outputs": [],
      "source": [
        "X_ds = data.copy()\n",
        "X_ds = X_ds.drop(['CLASS'], axis=1)\n",
        "X_ds = pd.DataFrame(X_ds).to_numpy()\n",
        "\n",
        "y_ds = data.copy()\n",
        "y_ds = y_ds['CLASS']"
      ]
    },
    {
      "cell_type": "code",
      "execution_count": 7,
      "metadata": {
        "id": "hfATCbTCR0bC"
      },
      "outputs": [],
      "source": [
        "y_ds = LabelEncoder().fit_transform(y_ds)"
      ]
    },
    {
      "cell_type": "code",
      "source": [
        "colors = ['blue', 'orange', 'green', 'red']\n",
        "plt.scatter(X_ds[:, 0], X_ds[:, 1], s=0.55, c=y_ds, cmap=matplotlib.colors.ListedColormap(colors))\n",
        "plt.show()"
      ],
      "metadata": {
        "id": "aT_qS-Fl4EfY",
        "colab": {
          "base_uri": "https://localhost:8080/",
          "height": 265
        },
        "outputId": "7ae01c7a-6bd0-47fd-85c0-a646a4452254"
      },
      "execution_count": 8,
      "outputs": [
        {
          "output_type": "display_data",
          "data": {
            "text/plain": [
              "<Figure size 432x288 with 1 Axes>"
            ],
            "image/png": "[encoded data removed]"
          },
          "metadata": {
            "needs_background": "light"
          }
        }
      ]
    },
    {
      "cell_type": "code",
      "execution_count": 9,
      "metadata": {
        "id": "lLHJfC3oZAWx",
        "colab": {
          "base_uri": "https://localhost:8080/"
        },
        "outputId": "8efe9ee9-5a5d-4c6f-e266-dbd27343ce38"
      },
      "outputs": [
        {
          "output_type": "execute_result",
          "data": {
            "text/plain": [
              "0.6735266670058799"
            ]
          },
          "metadata": {},
          "execution_count": 9
        }
      ],
      "source": [
        "#check the clustering result with Kmeans\n",
        "kmeans_ori = KMeans(n_clusters=4).fit(X_ds)\n",
        "kmeans_labels_ori = kmeans_ori.labels_\n",
        "\n",
        "normalized_mutual_info_score(kmeans_labels_ori, y_ds)"
      ]
    },
    {
      "cell_type": "code",
      "source": [
        "colors = ['blue', 'orange', 'green', 'red']\n",
        "plt.scatter(X_ds[:, 0], X_ds[:, 1], s=0.55, c=kmeans_labels_ori, cmap=matplotlib.colors.ListedColormap(colors))\n",
        "plt.show()"
      ],
      "metadata": {
        "id": "7iFLGYp9_3fa",
        "colab": {
          "base_uri": "https://localhost:8080/",
          "height": 265
        },
        "outputId": "e2c454d4-0cc2-46d3-815d-f082634fceea"
      },
      "execution_count": 10,
      "outputs": [
        {
          "output_type": "display_data",
          "data": {
            "text/plain": [
              "<Figure size 432x288 with 1 Axes>"
            ],
            "image/png": "[encoded data removed]"
          },
          "metadata": {
            "needs_background": "light"
          }
        }
      ]
    },
    {
      "cell_type": "markdown",
      "source": [
        "## Data Augmentation"
      ],
      "metadata": {
        "id": "cR6Lx66iF5Qw"
      }
    },
    {
      "cell_type": "markdown",
      "source": [
        "####MixUp"
      ],
      "metadata": {
        "id": "tO72X3KYICDE"
      }
    },
    {
      "cell_type": "code",
      "source": [
        "def mixup(data):\n",
        "  view = data.copy()\n",
        "  for i in range(len(view)):\n",
        "    random_row_index = random.randint(0, len(view)-1)\n",
        "    view[i] = view[i]*0.5  + view[random_row_index]*0.5\n",
        "  return view"
      ],
      "metadata": {
        "id": "OZVKCFBEF6sQ"
      },
      "execution_count": 11,
      "outputs": []
    },
    {
      "cell_type": "markdown",
      "source": [
        "####MixCut"
      ],
      "metadata": {
        "id": "CM4yTA-vIbh3"
      }
    },
    {
      "cell_type": "code",
      "source": [
        "def mixcut(data):\n",
        "  data_copy = data.copy()\n",
        "  view = data.copy()\n",
        "  mask_len = 100\n",
        "\n",
        "  for i in range(len(data_copy)):\n",
        "    random_row_id = random.randint(0, len(data_copy)-1)\n",
        "    random_column_id = random.randint(0, data_copy.shape[1]-mask_len)\n",
        "    view[i,random_column_id:(random_column_id+mask_len)] = data_copy[random_row_id,random_column_id:(random_column_id+mask_len)]\n",
        "  return view"
      ],
      "metadata": {
        "id": "bR2wqE9KIcvn"
      },
      "execution_count": 12,
      "outputs": []
    },
    {
      "cell_type": "markdown",
      "source": [
        "#### Masking with mean"
      ],
      "metadata": {
        "id": "LWUnCGGYJI3T"
      }
    },
    {
      "cell_type": "code",
      "execution_count": 13,
      "metadata": {
        "id": "YsZovZZ7ZcNc"
      },
      "outputs": [],
      "source": [
        "def get_random_indices(data, portion_of_mask):\n",
        "  return np.random.choice(data.shape[1], size=np.floor(data.shape[1]*portion_of_mask).astype(int), replace=False)"
      ]
    },
    {
      "cell_type": "code",
      "execution_count": 14,
      "metadata": {
        "id": "4wKjI9VvMGzg"
      },
      "outputs": [],
      "source": [
        "def masking_with_mean(data, portion_of_mask):\n",
        "  mean = np.mean(data, axis=0)\n",
        "  column_mu = np.mean(data, axis=0)\n",
        "  column_std = np.std(data, axis=0)\n",
        "\n",
        "  view = data.copy()\n",
        "\n",
        "  for i in range(len(data)): \n",
        "    masked_indices = get_random_indices(data, portion_of_mask)\n",
        "   \n",
        "    for j in range(len(mean)):\n",
        "      if j in masked_indices:\n",
        "        view[i,j] = column_mu[j]\n",
        "              \n",
        "  return view"
      ]
    },
    {
      "cell_type": "markdown",
      "source": [
        "####Masking with random value in domain range"
      ],
      "metadata": {
        "id": "hsByPxdTKFEQ"
      }
    },
    {
      "cell_type": "code",
      "execution_count": 15,
      "metadata": {
        "id": "WwNS_odMKNIJ"
      },
      "outputs": [],
      "source": [
        "def masking_with_random(data, portion_of_mask):\n",
        "  mean = np.mean(data, axis=0)\n",
        "  column_mu = np.mean(data, axis=0)\n",
        "  column_std = np.std(data, axis=0)\n",
        "  column_min = np.minimum(data)\n",
        "  column_max = np.maximum(data)\n",
        "\n",
        "  view = data.copy()\n",
        "\n",
        "  for i in range(len(data)): \n",
        "    masked_indices = get_random_indices(data, portion_of_mask)\n",
        "   \n",
        "    for j in range(len(mean)):\n",
        "      if j in masked_indices:\n",
        "        view[i,j] = random.randint(column_min[j], column_max[j])\n",
        "              \n",
        "  return view"
      ]
    },
    {
      "cell_type": "markdown",
      "source": [
        "####Masking with margin distribution"
      ],
      "metadata": {
        "id": "DdMnRe_oLaP0"
      }
    },
    {
      "cell_type": "code",
      "execution_count": 16,
      "metadata": {
        "id": "73ZdiItNLiWb"
      },
      "outputs": [],
      "source": [
        "def masking_with_margin_distribution(data, portion_of_mask):\n",
        "  mean = np.mean(data, axis=0)\n",
        "  column_mu = np.mean(data, axis=0)\n",
        "  column_std = np.std(data, axis=0)\n",
        "\n",
        "  view = data.copy()\n",
        "\n",
        "  for i in range(len(data)): \n",
        "    masked_indices = get_random_indices(data, portion_of_mask)\n",
        "   \n",
        "    for j in range(len(mean)):\n",
        "      if j in masked_indices:\n",
        "        view[i,j] = np.random.normal(column_mu[j], column_std[j])\n",
        "              \n",
        "  return view"
      ]
    },
    {
      "cell_type": "markdown",
      "source": [
        "####Upsampling (SMOTE like)"
      ],
      "metadata": {
        "id": "VjcGRC-PLqka"
      }
    },
    {
      "cell_type": "code",
      "source": [
        "#put all data points in kd-tree for fast searching\n",
        "kdtree = KDTree(X_ds, leaf_size=2)"
      ],
      "metadata": {
        "id": "fVtPB2xEFUDM"
      },
      "execution_count": 17,
      "outputs": []
    },
    {
      "cell_type": "code",
      "source": [
        "#get random point in the k nearest neighbors\n",
        "def get_idx_random_knn(x,k):\n",
        "   _, ids = kdtree.query(x.reshape(1, -1), k=k)\n",
        "   ids = ids.flatten()\n",
        "   ids = ids[1:-1]\n",
        "   random_id = np.random.choice(ids, 1)\n",
        "   return random_id"
      ],
      "metadata": {
        "id": "RRNpp0pBsMmI"
      },
      "execution_count": 18,
      "outputs": []
    },
    {
      "cell_type": "code",
      "source": [
        "#mix up with a random near neighbor \n",
        "def mixup_random_neighbor(data, k):\n",
        "  view = data.copy()\n",
        "  for i in range(len(view)):\n",
        "    point = data[i]\n",
        "    random_neighbor_id = get_idx_random_knn(x=point, k=k)\n",
        "    view[i] = 0.5*data[i] + 0.5*data[random_neighbor_id]\n",
        "  return view"
      ],
      "metadata": {
        "id": "15ISb58Wtz8V"
      },
      "execution_count": 19,
      "outputs": []
    },
    {
      "cell_type": "code",
      "source": [
        "#a random neighbor as augmentation\n",
        "def random_near_neighbor(data, k):\n",
        "  view = data.copy()\n",
        "  for i in range(len(view)):\n",
        "    point = data[i]\n",
        "    random_neighbor_id = get_idx_random_knn(x=point, k=k)\n",
        "    view[i] = data[random_neighbor_id]\n",
        "  return view"
      ],
      "metadata": {
        "id": "6Ml9SaG2rNoI"
      },
      "execution_count": 20,
      "outputs": []
    },
    {
      "cell_type": "markdown",
      "source": [
        "##Create Model and Train with Augmented Data"
      ],
      "metadata": {
        "id": "eY9ivgZtMzKe"
      }
    },
    {
      "cell_type": "code",
      "execution_count": 21,
      "metadata": {
        "id": "SEi44QG1OtHO"
      },
      "outputs": [],
      "source": [
        "class MyDataSet(Dataset):\n",
        "  def __init__(self, view1, view2):\n",
        " \n",
        "    X_view1 = view1.copy()\n",
        "    X_view2 = view2.copy()\n",
        "    self.X_view1 = X_view1.copy().astype(np.float32)\n",
        "    self.X_view2 = X_view2.copy().astype(np.float32)\n",
        "  \n",
        "  def __len__(self):\n",
        "    return len(self.X_view1)\n",
        "  \n",
        "  def __getitem__(self, idx):\n",
        "    return self.X_view1[idx], self.X_view2[idx]"
      ]
    },
    {
      "cell_type": "code",
      "execution_count": 22,
      "metadata": {
        "id": "fkcWKpQzD096"
      },
      "outputs": [],
      "source": [
        "# define the NN architecture\n",
        "class convBackbone(nn.Module):\n",
        "    def __init__(self):\n",
        "        super(convBackbone, self).__init__()\n",
        "\n",
        "        #turn on dropout for testing the 'cropping' data augmentation \n",
        "        #self.dropout = nn.Dropout(p=0.1)\n",
        "        \n",
        "        self.fc1 = nn.Linear(2, 2, bias=False)\n",
        "        self.bn1 = nn.BatchNorm1d(2)\n",
        "\n",
        "        self.fc2 = nn.Linear(2, 2, bias=False)\n",
        "        self.bn2 = nn.BatchNorm1d(2)\n",
        "\n",
        "        self.fc3 = nn.Linear(2, 2, bias=False)\n",
        "        self.bn3 = nn.BatchNorm1d(2)\n",
        "\n",
        "\n",
        "    def forward(self, x):\n",
        "\n",
        "        #turn on dropout for testing the 'cropping' data augmentation \n",
        "        #x = self.dropout(x)\n",
        "        \n",
        "        #x = F.relu(self.bn1(self.fc1(x)))\n",
        "        x = F.relu(self.bn2(self.fc2(x)))\n",
        "        x = self.bn3(self.fc3(x))\n",
        "                \n",
        "        return x"
      ]
    },
    {
      "cell_type": "code",
      "source": [
        "class SimCLR(nn.Module):\n",
        "    def __init__(self, backbone):\n",
        "        super().__init__()\n",
        "        self.backbone = backbone\n",
        "        self.projection_head = SimCLRProjectionHead(2, 2, 2)\n",
        "\n",
        "    def forward(self, x):\n",
        "        x = self.backbone(x).flatten(start_dim=1)\n",
        "        z = self.projection_head(x)\n",
        "        return x,z\n",
        "\n",
        "backbone = convBackbone()\n",
        "model = SimCLR(backbone)"
      ],
      "metadata": {
        "id": "EIfNnfTtD2si"
      },
      "execution_count": 23,
      "outputs": []
    },
    {
      "cell_type": "code",
      "source": [
        "criterion = NTXentLoss()\n",
        "optimizer = torch.optim.SGD(model.parameters(), lr=0.05, momentum=0.9,weight_decay=1e-4)\n",
        "\n",
        "#cosine annealing lr\n",
        "scheduler = lr_scheduler.CosineAnnealingLR(optimizer,T_max=500, eta_min=0)"
      ],
      "metadata": {
        "id": "C8x5QowRD7_A"
      },
      "execution_count": 24,
      "outputs": []
    },
    {
      "cell_type": "code",
      "execution_count": 25,
      "metadata": {
        "id": "Ai5IGyxbbMHL"
      },
      "outputs": [],
      "source": [
        "view1 = random_near_neighbor(X_ds, 50)\n",
        "view2 = random_near_neighbor(X_ds, 50)\n",
        "\n",
        "#turn on the following to test other augmentations\n",
        "\n",
        "#view1 = mixup_random_neighbor(X_ds, 15)\n",
        "#view2 = mixup_random_neighbor(X_ds, 15)\n",
        "\n",
        "#view1 = mixup(X_ds)\n",
        "#view2 = mixup(X_ds)\n",
        "\n",
        "#view1 = mixcut(X_ds)\n",
        "#view2 = mixcut(X_ds)\n",
        "\n",
        "#view1 = masking_with_mean(X_ds, 0.4)\n",
        "#view2 = masking_with_mean(X_ds, 0.4)\n",
        "\n",
        "#view1 = masking_with_random(X_ds, 0.4)\n",
        "#view2 = masking_with_random(X_ds, 0.4)\n",
        "\n",
        "#view1 = masking_with_margin_distribution(X_ds, 0.4)\n",
        "#view2 = masking_with_margin_distribution(X_ds, 0.4)\n",
        "\n",
        "train_ds = MyDataSet(view1, view2)\n",
        "train_dl = DataLoader(train_ds, batch_size=256, shuffle=True)"
      ]
    },
    {
      "cell_type": "code",
      "source": [
        "device = 'cuda' if torch.cuda.is_available() else 'cpu'\n",
        "model.to(device)\n",
        "\n",
        "for epoch in range(500):\n",
        "    total_loss = 0\n",
        "    for x0, x1 in train_dl:\n",
        "\n",
        "        x0 = x0.to(device)\n",
        "        x1 = x1.to(device)\n",
        "        _,z0 = model(x0)\n",
        "        _,z1 = model(x1)\n",
        "\n",
        "        loss = criterion(z0, z1)\n",
        "        total_loss += loss.detach()\n",
        "        loss.backward()\n",
        "        optimizer.step()\n",
        "        optimizer.zero_grad()\n",
        "        scheduler.step()\n",
        "\n",
        "    avg_loss = total_loss / len(train_dl)\n",
        "    print(f\"epoch: {epoch:>02}, loss: {avg_loss:.5f}\")"
      ],
      "metadata": {
        "id": "B9Ze5qo8EFde",
        "colab": {
          "base_uri": "https://localhost:8080/"
        },
        "outputId": "d3ba80f1-27d1-46c3-ee05-9bbae1cddb14"
      },
      "execution_count": 26,
      "outputs": [
        {
          "output_type": "stream",
          "name": "stdout",
          "text": [
            "epoch: 00, loss: 6.20407\n",
            "epoch: 01, loss: 6.14739\n",
            "epoch: 02, loss: 5.92005\n",
            "epoch: 03, loss: 5.78688\n",
            "epoch: 04, loss: 5.62410\n",
            "epoch: 05, loss: 5.55250\n",
            "epoch: 06, loss: 5.53341\n",
            "epoch: 07, loss: 5.54255\n",
            "epoch: 08, loss: 5.54585\n",
            "epoch: 09, loss: 5.53579\n",
            "epoch: 10, loss: 5.48636\n",
            "epoch: 11, loss: 5.49107\n",
            "epoch: 12, loss: 5.48038\n",
            "epoch: 13, loss: 5.46222\n",
            "epoch: 14, loss: 5.46790\n",
            "epoch: 15, loss: 5.45042\n",
            "epoch: 16, loss: 5.44619\n",
            "epoch: 17, loss: 5.43902\n",
            "epoch: 18, loss: 5.42171\n",
            "epoch: 19, loss: 5.40333\n",
            "epoch: 20, loss: 5.38138\n",
            "epoch: 21, loss: 5.35174\n",
            "epoch: 22, loss: 5.31986\n",
            "epoch: 23, loss: 5.24421\n",
            "epoch: 24, loss: 5.17466\n",
            "epoch: 25, loss: 5.22478\n",
            "epoch: 26, loss: 5.20041\n",
            "epoch: 27, loss: 5.16063\n",
            "epoch: 28, loss: 5.17453\n",
            "epoch: 29, loss: 5.14662\n",
            "epoch: 30, loss: 5.13168\n",
            "epoch: 31, loss: 5.12789\n",
            "epoch: 32, loss: 5.13068\n",
            "epoch: 33, loss: 5.13265\n",
            "epoch: 34, loss: 5.12967\n",
            "epoch: 35, loss: 5.12833\n",
            "epoch: 36, loss: 5.12660\n",
            "epoch: 37, loss: 5.12559\n",
            "epoch: 38, loss: 5.11986\n",
            "epoch: 39, loss: 5.12003\n",
            "epoch: 40, loss: 5.12052\n",
            "epoch: 41, loss: 5.12471\n",
            "epoch: 42, loss: 5.12076\n",
            "epoch: 43, loss: 5.12108\n",
            "epoch: 44, loss: 5.12336\n",
            "epoch: 45, loss: 5.12154\n",
            "epoch: 46, loss: 5.12312\n",
            "epoch: 47, loss: 5.12134\n",
            "epoch: 48, loss: 5.11951\n",
            "epoch: 49, loss: 5.12508\n",
            "epoch: 50, loss: 5.12505\n",
            "epoch: 51, loss: 5.11872\n",
            "epoch: 52, loss: 5.12054\n",
            "epoch: 53, loss: 5.11933\n",
            "epoch: 54, loss: 5.12306\n",
            "epoch: 55, loss: 5.12530\n",
            "epoch: 56, loss: 5.12186\n",
            "epoch: 57, loss: 5.12273\n",
            "epoch: 58, loss: 5.11789\n",
            "epoch: 59, loss: 5.11803\n",
            "epoch: 60, loss: 5.12079\n",
            "epoch: 61, loss: 5.12040\n",
            "epoch: 62, loss: 5.11821\n",
            "epoch: 63, loss: 5.11833\n",
            "epoch: 64, loss: 5.11846\n",
            "epoch: 65, loss: 5.11799\n",
            "epoch: 66, loss: 5.11755\n",
            "epoch: 67, loss: 5.12136\n",
            "epoch: 68, loss: 5.12339\n",
            "epoch: 69, loss: 5.12112\n",
            "epoch: 70, loss: 5.11931\n",
            "epoch: 71, loss: 5.12416\n",
            "epoch: 72, loss: 5.11966\n",
            "epoch: 73, loss: 5.12434\n",
            "epoch: 74, loss: 5.11826\n",
            "epoch: 75, loss: 5.11844\n",
            "epoch: 76, loss: 5.11989\n",
            "epoch: 77, loss: 5.11770\n",
            "epoch: 78, loss: 5.11764\n",
            "epoch: 79, loss: 5.12009\n",
            "epoch: 80, loss: 5.11751\n",
            "epoch: 81, loss: 5.11841\n",
            "epoch: 82, loss: 5.12035\n",
            "epoch: 83, loss: 5.12427\n",
            "epoch: 84, loss: 5.11926\n",
            "epoch: 85, loss: 5.12091\n",
            "epoch: 86, loss: 5.12350\n",
            "epoch: 87, loss: 5.11854\n",
            "epoch: 88, loss: 5.11773\n",
            "epoch: 89, loss: 5.11815\n",
            "epoch: 90, loss: 5.11730\n",
            "epoch: 91, loss: 5.11844\n",
            "epoch: 92, loss: 5.11887\n",
            "epoch: 93, loss: 5.11842\n",
            "epoch: 94, loss: 5.12566\n",
            "epoch: 95, loss: 5.12319\n",
            "epoch: 96, loss: 5.11756\n",
            "epoch: 97, loss: 5.12326\n",
            "epoch: 98, loss: 5.11846\n",
            "epoch: 99, loss: 5.11927\n",
            "epoch: 100, loss: 5.11944\n",
            "epoch: 101, loss: 5.11631\n",
            "epoch: 102, loss: 5.11797\n",
            "epoch: 103, loss: 5.11616\n",
            "epoch: 104, loss: 5.11890\n",
            "epoch: 105, loss: 5.11921\n",
            "epoch: 106, loss: 5.11580\n",
            "epoch: 107, loss: 5.11980\n",
            "epoch: 108, loss: 5.11558\n",
            "epoch: 109, loss: 5.11877\n",
            "epoch: 110, loss: 5.12230\n",
            "epoch: 111, loss: 5.11792\n",
            "epoch: 112, loss: 5.11505\n",
            "epoch: 113, loss: 5.11562\n",
            "epoch: 114, loss: 5.11619\n",
            "epoch: 115, loss: 5.11497\n",
            "epoch: 116, loss: 5.11577\n",
            "epoch: 117, loss: 5.12065\n",
            "epoch: 118, loss: 5.11691\n",
            "epoch: 119, loss: 5.11645\n",
            "epoch: 120, loss: 5.11620\n",
            "epoch: 121, loss: 5.11683\n",
            "epoch: 122, loss: 5.11531\n",
            "epoch: 123, loss: 5.11609\n",
            "epoch: 124, loss: 5.11770\n",
            "epoch: 125, loss: 5.11835\n",
            "epoch: 126, loss: 5.12444\n",
            "epoch: 127, loss: 5.11497\n",
            "epoch: 128, loss: 5.11607\n",
            "epoch: 129, loss: 5.11573\n",
            "epoch: 130, loss: 5.11529\n",
            "epoch: 131, loss: 5.11779\n",
            "epoch: 132, loss: 5.11876\n",
            "epoch: 133, loss: 5.12052\n",
            "epoch: 134, loss: 5.11528\n",
            "epoch: 135, loss: 5.12384\n",
            "epoch: 136, loss: 5.11506\n",
            "epoch: 137, loss: 5.11656\n",
            "epoch: 138, loss: 5.11429\n",
            "epoch: 139, loss: 5.11467\n",
            "epoch: 140, loss: 5.11613\n",
            "epoch: 141, loss: 5.12995\n",
            "epoch: 142, loss: 5.11664\n",
            "epoch: 143, loss: 5.11614\n",
            "epoch: 144, loss: 5.11557\n",
            "epoch: 145, loss: 5.11534\n",
            "epoch: 146, loss: 5.11448\n",
            "epoch: 147, loss: 5.12539\n",
            "epoch: 148, loss: 5.12534\n",
            "epoch: 149, loss: 5.12690\n",
            "epoch: 150, loss: 5.11633\n",
            "epoch: 151, loss: 5.11994\n",
            "epoch: 152, loss: 5.11508\n",
            "epoch: 153, loss: 5.11724\n",
            "epoch: 154, loss: 5.12115\n",
            "epoch: 155, loss: 5.11488\n",
            "epoch: 156, loss: 5.11587\n",
            "epoch: 157, loss: 5.11853\n",
            "epoch: 158, loss: 5.11873\n",
            "epoch: 159, loss: 5.11453\n",
            "epoch: 160, loss: 5.11468\n",
            "epoch: 161, loss: 5.11937\n",
            "epoch: 162, loss: 5.11764\n",
            "epoch: 163, loss: 5.12625\n",
            "epoch: 164, loss: 5.12071\n",
            "epoch: 165, loss: 5.11666\n",
            "epoch: 166, loss: 5.11832\n",
            "epoch: 167, loss: 5.12014\n",
            "epoch: 168, loss: 5.11870\n",
            "epoch: 169, loss: 5.11598\n",
            "epoch: 170, loss: 5.11519\n",
            "epoch: 171, loss: 5.11564\n",
            "epoch: 172, loss: 5.11422\n",
            "epoch: 173, loss: 5.12030\n",
            "epoch: 174, loss: 5.11662\n",
            "epoch: 175, loss: 5.11511\n",
            "epoch: 176, loss: 5.11808\n",
            "epoch: 177, loss: 5.11884\n",
            "epoch: 178, loss: 5.11481\n",
            "epoch: 179, loss: 5.11552\n",
            "epoch: 180, loss: 5.11605\n",
            "epoch: 181, loss: 5.11805\n",
            "epoch: 182, loss: 5.11967\n",
            "epoch: 183, loss: 5.11791\n",
            "epoch: 184, loss: 5.12174\n",
            "epoch: 185, loss: 5.11908\n",
            "epoch: 186, loss: 5.11453\n",
            "epoch: 187, loss: 5.12363\n",
            "epoch: 188, loss: 5.11794\n",
            "epoch: 189, loss: 5.11552\n",
            "epoch: 190, loss: 5.12024\n",
            "epoch: 191, loss: 5.11510\n",
            "epoch: 192, loss: 5.11557\n",
            "epoch: 193, loss: 5.12069\n",
            "epoch: 194, loss: 5.12007\n",
            "epoch: 195, loss: 5.11790\n",
            "epoch: 196, loss: 5.12494\n",
            "epoch: 197, loss: 5.11685\n",
            "epoch: 198, loss: 5.11494\n",
            "epoch: 199, loss: 5.12355\n",
            "epoch: 200, loss: 5.11484\n",
            "epoch: 201, loss: 5.11569\n",
            "epoch: 202, loss: 5.11498\n",
            "epoch: 203, loss: 5.11460\n",
            "epoch: 204, loss: 5.12129\n",
            "epoch: 205, loss: 5.11523\n",
            "epoch: 206, loss: 5.12170\n",
            "epoch: 207, loss: 5.11565\n",
            "epoch: 208, loss: 5.11830\n",
            "epoch: 209, loss: 5.12204\n",
            "epoch: 210, loss: 5.11684\n",
            "epoch: 211, loss: 5.11482\n",
            "epoch: 212, loss: 5.12074\n",
            "epoch: 213, loss: 5.11956\n",
            "epoch: 214, loss: 5.11872\n",
            "epoch: 215, loss: 5.11593\n",
            "epoch: 216, loss: 5.11975\n",
            "epoch: 217, loss: 5.12029\n",
            "epoch: 218, loss: 5.11472\n",
            "epoch: 219, loss: 5.11546\n",
            "epoch: 220, loss: 5.11493\n",
            "epoch: 221, loss: 5.11664\n",
            "epoch: 222, loss: 5.11826\n",
            "epoch: 223, loss: 5.11606\n",
            "epoch: 224, loss: 5.11416\n",
            "epoch: 225, loss: 5.11722\n",
            "epoch: 226, loss: 5.12075\n",
            "epoch: 227, loss: 5.11487\n",
            "epoch: 228, loss: 5.11725\n",
            "epoch: 229, loss: 5.11509\n",
            "epoch: 230, loss: 5.11664\n",
            "epoch: 231, loss: 5.12056\n",
            "epoch: 232, loss: 5.11598\n",
            "epoch: 233, loss: 5.11488\n",
            "epoch: 234, loss: 5.11774\n",
            "epoch: 235, loss: 5.11788\n",
            "epoch: 236, loss: 5.12824\n",
            "epoch: 237, loss: 5.11757\n",
            "epoch: 238, loss: 5.11484\n",
            "epoch: 239, loss: 5.11590\n",
            "epoch: 240, loss: 5.11474\n",
            "epoch: 241, loss: 5.11769\n",
            "epoch: 242, loss: 5.11707\n",
            "epoch: 243, loss: 5.11531\n",
            "epoch: 244, loss: 5.11829\n",
            "epoch: 245, loss: 5.11911\n",
            "epoch: 246, loss: 5.11526\n",
            "epoch: 247, loss: 5.11589\n",
            "epoch: 248, loss: 5.11800\n",
            "epoch: 249, loss: 5.11739\n",
            "epoch: 250, loss: 5.11522\n",
            "epoch: 251, loss: 5.11698\n",
            "epoch: 252, loss: 5.11476\n",
            "epoch: 253, loss: 5.11489\n",
            "epoch: 254, loss: 5.11398\n",
            "epoch: 255, loss: 5.11945\n",
            "epoch: 256, loss: 5.11612\n",
            "epoch: 257, loss: 5.11754\n",
            "epoch: 258, loss: 5.11467\n",
            "epoch: 259, loss: 5.11578\n",
            "epoch: 260, loss: 5.12270\n",
            "epoch: 261, loss: 5.11859\n",
            "epoch: 262, loss: 5.12020\n",
            "epoch: 263, loss: 5.11785\n",
            "epoch: 264, loss: 5.11508\n",
            "epoch: 265, loss: 5.11693\n",
            "epoch: 266, loss: 5.11662\n",
            "epoch: 267, loss: 5.11363\n",
            "epoch: 268, loss: 5.11785\n",
            "epoch: 269, loss: 5.11771\n",
            "epoch: 270, loss: 5.11718\n",
            "epoch: 271, loss: 5.11738\n",
            "epoch: 272, loss: 5.11580\n",
            "epoch: 273, loss: 5.11400\n",
            "epoch: 274, loss: 5.11976\n",
            "epoch: 275, loss: 5.11500\n",
            "epoch: 276, loss: 5.12378\n",
            "epoch: 277, loss: 5.11505\n",
            "epoch: 278, loss: 5.12466\n",
            "epoch: 279, loss: 5.11513\n",
            "epoch: 280, loss: 5.11371\n",
            "epoch: 281, loss: 5.11559\n",
            "epoch: 282, loss: 5.11493\n",
            "epoch: 283, loss: 5.11768\n",
            "epoch: 284, loss: 5.12131\n",
            "epoch: 285, loss: 5.11799\n",
            "epoch: 286, loss: 5.11415\n",
            "epoch: 287, loss: 5.11814\n",
            "epoch: 288, loss: 5.11392\n",
            "epoch: 289, loss: 5.11711\n",
            "epoch: 290, loss: 5.11442\n",
            "epoch: 291, loss: 5.13844\n",
            "epoch: 292, loss: 5.11509\n",
            "epoch: 293, loss: 5.13226\n",
            "epoch: 294, loss: 5.11796\n",
            "epoch: 295, loss: 5.12214\n",
            "epoch: 296, loss: 5.11496\n",
            "epoch: 297, loss: 5.11914\n",
            "epoch: 298, loss: 5.11627\n",
            "epoch: 299, loss: 5.11647\n",
            "epoch: 300, loss: 5.11560\n",
            "epoch: 301, loss: 5.12249\n",
            "epoch: 302, loss: 5.11803\n",
            "epoch: 303, loss: 5.12044\n",
            "epoch: 304, loss: 5.11536\n",
            "epoch: 305, loss: 5.12092\n",
            "epoch: 306, loss: 5.11734\n",
            "epoch: 307, loss: 5.11649\n",
            "epoch: 308, loss: 5.12190\n",
            "epoch: 309, loss: 5.12596\n",
            "epoch: 310, loss: 5.12025\n",
            "epoch: 311, loss: 5.11607\n",
            "epoch: 312, loss: 5.11512\n",
            "epoch: 313, loss: 5.11525\n",
            "epoch: 314, loss: 5.11524\n",
            "epoch: 315, loss: 5.11407\n",
            "epoch: 316, loss: 5.12169\n",
            "epoch: 317, loss: 5.11691\n",
            "epoch: 318, loss: 5.11607\n",
            "epoch: 319, loss: 5.11711\n",
            "epoch: 320, loss: 5.12249\n",
            "epoch: 321, loss: 5.12424\n",
            "epoch: 322, loss: 5.12302\n",
            "epoch: 323, loss: 5.11991\n",
            "epoch: 324, loss: 5.11431\n",
            "epoch: 325, loss: 5.11518\n",
            "epoch: 326, loss: 5.11455\n",
            "epoch: 327, loss: 5.12215\n",
            "epoch: 328, loss: 5.11495\n",
            "epoch: 329, loss: 5.12413\n",
            "epoch: 330, loss: 5.11822\n",
            "epoch: 331, loss: 5.11752\n",
            "epoch: 332, loss: 5.11449\n",
            "epoch: 333, loss: 5.11454\n",
            "epoch: 334, loss: 5.11712\n",
            "epoch: 335, loss: 5.11778\n",
            "epoch: 336, loss: 5.11970\n",
            "epoch: 337, loss: 5.11719\n",
            "epoch: 338, loss: 5.11608\n",
            "epoch: 339, loss: 5.11661\n",
            "epoch: 340, loss: 5.12038\n",
            "epoch: 341, loss: 5.11496\n",
            "epoch: 342, loss: 5.11563\n",
            "epoch: 343, loss: 5.11865\n",
            "epoch: 344, loss: 5.12049\n",
            "epoch: 345, loss: 5.11593\n",
            "epoch: 346, loss: 5.11782\n",
            "epoch: 347, loss: 5.11569\n",
            "epoch: 348, loss: 5.11524\n",
            "epoch: 349, loss: 5.11560\n",
            "epoch: 350, loss: 5.12211\n",
            "epoch: 351, loss: 5.11645\n",
            "epoch: 352, loss: 5.11494\n",
            "epoch: 353, loss: 5.11443\n",
            "epoch: 354, loss: 5.11578\n",
            "epoch: 355, loss: 5.11459\n",
            "epoch: 356, loss: 5.11847\n",
            "epoch: 357, loss: 5.11555\n",
            "epoch: 358, loss: 5.11512\n",
            "epoch: 359, loss: 5.12689\n",
            "epoch: 360, loss: 5.11635\n",
            "epoch: 361, loss: 5.11610\n",
            "epoch: 362, loss: 5.11661\n",
            "epoch: 363, loss: 5.11812\n",
            "epoch: 364, loss: 5.11730\n",
            "epoch: 365, loss: 5.11919\n",
            "epoch: 366, loss: 5.11916\n",
            "epoch: 367, loss: 5.11526\n",
            "epoch: 368, loss: 5.11926\n",
            "epoch: 369, loss: 5.11664\n",
            "epoch: 370, loss: 5.11609\n",
            "epoch: 371, loss: 5.12012\n",
            "epoch: 372, loss: 5.12075\n",
            "epoch: 373, loss: 5.11806\n",
            "epoch: 374, loss: 5.11522\n",
            "epoch: 375, loss: 5.11611\n",
            "epoch: 376, loss: 5.11490\n",
            "epoch: 377, loss: 5.11444\n",
            "epoch: 378, loss: 5.11356\n",
            "epoch: 379, loss: 5.11493\n",
            "epoch: 380, loss: 5.11692\n",
            "epoch: 381, loss: 5.11515\n",
            "epoch: 382, loss: 5.14063\n",
            "epoch: 383, loss: 5.11501\n",
            "epoch: 384, loss: 5.11584\n",
            "epoch: 385, loss: 5.11728\n",
            "epoch: 386, loss: 5.11760\n",
            "epoch: 387, loss: 5.12445\n",
            "epoch: 388, loss: 5.11603\n",
            "epoch: 389, loss: 5.11536\n",
            "epoch: 390, loss: 5.11758\n",
            "epoch: 391, loss: 5.11611\n",
            "epoch: 392, loss: 5.12461\n",
            "epoch: 393, loss: 5.11565\n",
            "epoch: 394, loss: 5.11835\n",
            "epoch: 395, loss: 5.11805\n",
            "epoch: 396, loss: 5.11499\n",
            "epoch: 397, loss: 5.11703\n",
            "epoch: 398, loss: 5.11722\n",
            "epoch: 399, loss: 5.11728\n",
            "epoch: 400, loss: 5.11548\n",
            "epoch: 401, loss: 5.11740\n",
            "epoch: 402, loss: 5.11443\n",
            "epoch: 403, loss: 5.11375\n",
            "epoch: 404, loss: 5.11374\n",
            "epoch: 405, loss: 5.12169\n",
            "epoch: 406, loss: 5.12693\n",
            "epoch: 407, loss: 5.13205\n",
            "epoch: 408, loss: 5.11759\n",
            "epoch: 409, loss: 5.12173\n",
            "epoch: 410, loss: 5.11511\n",
            "epoch: 411, loss: 5.12257\n",
            "epoch: 412, loss: 5.11646\n",
            "epoch: 413, loss: 5.12057\n",
            "epoch: 414, loss: 5.12662\n",
            "epoch: 415, loss: 5.11659\n",
            "epoch: 416, loss: 5.11836\n",
            "epoch: 417, loss: 5.11934\n",
            "epoch: 418, loss: 5.11562\n",
            "epoch: 419, loss: 5.11845\n",
            "epoch: 420, loss: 5.11497\n",
            "epoch: 421, loss: 5.11655\n",
            "epoch: 422, loss: 5.11521\n",
            "epoch: 423, loss: 5.11822\n",
            "epoch: 424, loss: 5.11626\n",
            "epoch: 425, loss: 5.12065\n",
            "epoch: 426, loss: 5.12391\n",
            "epoch: 427, loss: 5.11752\n",
            "epoch: 428, loss: 5.11385\n",
            "epoch: 429, loss: 5.11700\n",
            "epoch: 430, loss: 5.11467\n",
            "epoch: 431, loss: 5.11776\n",
            "epoch: 432, loss: 5.11548\n",
            "epoch: 433, loss: 5.13790\n",
            "epoch: 434, loss: 5.11596\n",
            "epoch: 435, loss: 5.11824\n",
            "epoch: 436, loss: 5.12507\n",
            "epoch: 437, loss: 5.11942\n",
            "epoch: 438, loss: 5.11494\n",
            "epoch: 439, loss: 5.11500\n",
            "epoch: 440, loss: 5.12365\n",
            "epoch: 441, loss: 5.11357\n",
            "epoch: 442, loss: 5.11811\n",
            "epoch: 443, loss: 5.11735\n",
            "epoch: 444, loss: 5.11948\n",
            "epoch: 445, loss: 5.11723\n",
            "epoch: 446, loss: 5.11727\n",
            "epoch: 447, loss: 5.11928\n",
            "epoch: 448, loss: 5.11614\n",
            "epoch: 449, loss: 5.11796\n",
            "epoch: 450, loss: 5.11625\n",
            "epoch: 451, loss: 5.11881\n",
            "epoch: 452, loss: 5.12554\n",
            "epoch: 453, loss: 5.11421\n",
            "epoch: 454, loss: 5.11475\n",
            "epoch: 455, loss: 5.11987\n",
            "epoch: 456, loss: 5.12175\n",
            "epoch: 457, loss: 5.11449\n",
            "epoch: 458, loss: 5.11565\n",
            "epoch: 459, loss: 5.11645\n",
            "epoch: 460, loss: 5.11520\n",
            "epoch: 461, loss: 5.11603\n",
            "epoch: 462, loss: 5.11723\n",
            "epoch: 463, loss: 5.11851\n",
            "epoch: 464, loss: 5.11437\n",
            "epoch: 465, loss: 5.11940\n",
            "epoch: 466, loss: 5.11779\n",
            "epoch: 467, loss: 5.11666\n",
            "epoch: 468, loss: 5.11540\n",
            "epoch: 469, loss: 5.11763\n",
            "epoch: 470, loss: 5.11341\n",
            "epoch: 471, loss: 5.11708\n",
            "epoch: 472, loss: 5.11474\n",
            "epoch: 473, loss: 5.11410\n",
            "epoch: 474, loss: 5.11646\n",
            "epoch: 475, loss: 5.11688\n",
            "epoch: 476, loss: 5.11544\n",
            "epoch: 477, loss: 5.11972\n",
            "epoch: 478, loss: 5.11503\n",
            "epoch: 479, loss: 5.13723\n",
            "epoch: 480, loss: 5.11719\n",
            "epoch: 481, loss: 5.11545\n",
            "epoch: 482, loss: 5.11935\n",
            "epoch: 483, loss: 5.11522\n",
            "epoch: 484, loss: 5.11819\n",
            "epoch: 485, loss: 5.11876\n",
            "epoch: 486, loss: 5.12203\n",
            "epoch: 487, loss: 5.11506\n",
            "epoch: 488, loss: 5.11474\n",
            "epoch: 489, loss: 5.11560\n",
            "epoch: 490, loss: 5.12021\n",
            "epoch: 491, loss: 5.11400\n",
            "epoch: 492, loss: 5.12108\n",
            "epoch: 493, loss: 5.12754\n",
            "epoch: 494, loss: 5.11620\n",
            "epoch: 495, loss: 5.11464\n",
            "epoch: 496, loss: 5.11534\n",
            "epoch: 497, loss: 5.11653\n",
            "epoch: 498, loss: 5.11388\n",
            "epoch: 499, loss: 5.11801\n"
          ]
        }
      ]
    },
    {
      "cell_type": "markdown",
      "source": [
        "##Check the Training Result"
      ],
      "metadata": {
        "id": "gP9q1mKoOa54"
      }
    },
    {
      "cell_type": "code",
      "execution_count": 27,
      "metadata": {
        "id": "tFJTq7KjgZQK"
      },
      "outputs": [],
      "source": [
        "ds_cl= MyDataSet(X_ds, X_ds)\n",
        "dl_cl = DataLoader(ds_cl, batch_size=256)"
      ]
    },
    {
      "cell_type": "code",
      "source": [
        "embeddings = []\n",
        "\n",
        "# disable gradients for faster calculations\n",
        "model.eval()\n",
        "with torch.no_grad():\n",
        "    for dl_cl1, dl_cl2 in dl_cl:\n",
        "\n",
        "        dl_cl1 = dl_cl1.to(device)\n",
        "        x,z = model(dl_cl1)\n",
        "        \n",
        "        # store the embeddings in lists\n",
        "        embeddings.append(x)\n",
        "\n",
        "# concatenate the embeddings, targets and convert to numpy\n",
        "embeddings = torch.cat(embeddings, dim=0)\n",
        "embeddings = embeddings.cpu().numpy()"
      ],
      "metadata": {
        "id": "JonEPXjEEMfS"
      },
      "execution_count": 28,
      "outputs": []
    },
    {
      "cell_type": "code",
      "source": [
        "test = (embeddings - embeddings.mean(axis=0)) / (embeddings.std(axis=0))"
      ],
      "metadata": {
        "id": "WYm55Kzrxtuh"
      },
      "execution_count": 29,
      "outputs": []
    },
    {
      "cell_type": "code",
      "execution_count": 30,
      "metadata": {
        "id": "8hjHslrXcfs1"
      },
      "outputs": [],
      "source": [
        "#KMeans in latent space\n",
        "kmeans_backbone = KMeans(n_clusters=4).fit(test)\n",
        "kmeans_labels_backbone = kmeans_backbone.labels_"
      ]
    },
    {
      "cell_type": "code",
      "execution_count": 31,
      "metadata": {
        "id": "eSL9AYi68PzG",
        "colab": {
          "base_uri": "https://localhost:8080/"
        },
        "outputId": "1d98df2c-03c9-4036-8a4f-9c40fde354c7"
      },
      "outputs": [
        {
          "output_type": "execute_result",
          "data": {
            "text/plain": [
              "0.9918173304379745"
            ]
          },
          "metadata": {},
          "execution_count": 31
        }
      ],
      "source": [
        "normalized_mutual_info_score(kmeans_labels_backbone, y_ds)"
      ]
    },
    {
      "cell_type": "code",
      "source": [
        "colors = ['blue', 'orange', 'green', 'red']\n",
        "plt.scatter(test[:, 0], test[:, 1], s=0.55, c=kmeans_labels_backbone, cmap=matplotlib.colors.ListedColormap(colors))\n",
        "plt.show()"
      ],
      "metadata": {
        "id": "fKs0YKIJAfTt",
        "colab": {
          "base_uri": "https://localhost:8080/",
          "height": 265
        },
        "outputId": "4af54abc-e0e2-4848-e4fe-4ef816c6ab85"
      },
      "execution_count": 32,
      "outputs": [
        {
          "output_type": "display_data",
          "data": {
            "text/plain": [
              "<Figure size 432x288 with 1 Axes>"
            ],
            "image/png": "[encoded data removed]"
          },
          "metadata": {
            "needs_background": "light"
          }
        }
      ]
    },
    {
      "cell_type": "code",
      "source": [
        "colors = ['blue', 'orange', 'green', 'red']\n",
        "plt.scatter(test[:, 0], test[:, 1], s=0.55, c=y_ds, cmap=matplotlib.colors.ListedColormap(colors))\n",
        "plt.show()"
      ],
      "metadata": {
        "id": "3zjco3JZCHBD",
        "colab": {
          "base_uri": "https://localhost:8080/",
          "height": 265
        },
        "outputId": "e85b9409-ab18-430a-8e0f-b282eaec7fe3"
      },
      "execution_count": 33,
      "outputs": [
        {
          "output_type": "display_data",
          "data": {
            "text/plain": [
              "<Figure size 432x288 with 1 Axes>"
            ],
            "image/png": "[encoded data removed]"
          },
          "metadata": {
            "needs_background": "light"
          }
        }
      ]
    },
    {
      "cell_type": "code",
      "source": [
        "#NMI increases from 0.67 to 0.99"
      ],
      "metadata": {
        "id": "TfoMwpddbHuu"
      },
      "execution_count": 34,
      "outputs": []
    }
  ]
}