{
  "nbformat": 4,
  "nbformat_minor": 0,
  "metadata": {
    "colab": {
      "name": "Experiment_Iris_BarlowTwins.ipynb",
      "provenance": [],
      "collapsed_sections": []
    },
    "kernelspec": {
      "name": "python3",
      "display_name": "Python 3"
    },
    "language_info": {
      "name": "python"
    }
  },
  "cells": [
    {
      "cell_type": "markdown",
      "source": [
        "## Conifuration"
      ],
      "metadata": {
        "id": "yclVA5qcDxcs"
      }
    },
    {
      "cell_type": "code",
      "execution_count": 1,
      "metadata": {
        "colab": {
          "base_uri": "https://localhost:8080/"
        },
        "id": "lpTeHV5f6RDe",
        "outputId": "a71bd445-ee96-4556-c952-0dfd6358eb61"
      },
      "outputs": [
        {
          "output_type": "stream",
          "name": "stdout",
          "text": [
            "Looking in indexes: https://pypi.org/simple, https://us-python.pkg.dev/colab-wheels/public/simple/\n",
            "Requirement already satisfied: lightly in /usr/local/lib/python3.7/dist-packages (1.2.23)\n",
            "Requirement already satisfied: six>=1.10 in /usr/local/lib/python3.7/dist-packages (from lightly) (1.15.0)\n",
            "Requirement already satisfied: python-dateutil>=2.5.3 in /usr/local/lib/python3.7/dist-packages (from lightly) (2.8.2)\n",
            "Requirement already satisfied: setuptools>=21.0.0 in /usr/local/lib/python3.7/dist-packages (from lightly) (57.4.0)\n",
            "Requirement already satisfied: lightly-utils~=0.0.0 in /usr/local/lib/python3.7/dist-packages (from lightly) (0.0.2)\n",
            "Requirement already satisfied: hydra-core>=1.0.0 in /usr/local/lib/python3.7/dist-packages (from lightly) (1.2.0)\n",
            "Requirement already satisfied: urllib3>=1.15.1 in /usr/local/lib/python3.7/dist-packages (from lightly) (1.24.3)\n",
            "Requirement already satisfied: pytorch-lightning>=1.0.4 in /usr/local/lib/python3.7/dist-packages (from lightly) (1.6.4)\n",
            "Requirement already satisfied: certifi>=14.05.14 in /usr/local/lib/python3.7/dist-packages (from lightly) (2022.6.15)\n",
            "Requirement already satisfied: torchvision in /usr/local/lib/python3.7/dist-packages (from lightly) (0.12.0+cu113)\n",
            "Requirement already satisfied: tqdm>=4.44 in /usr/local/lib/python3.7/dist-packages (from lightly) (4.64.0)\n",
            "Requirement already satisfied: requests>=2.23.0 in /usr/local/lib/python3.7/dist-packages (from lightly) (2.23.0)\n",
            "Requirement already satisfied: numpy>=1.18.1 in /usr/local/lib/python3.7/dist-packages (from lightly) (1.21.6)\n",
            "Requirement already satisfied: importlib-resources in /usr/local/lib/python3.7/dist-packages (from hydra-core>=1.0.0->lightly) (5.7.1)\n",
            "Requirement already satisfied: packaging in /usr/local/lib/python3.7/dist-packages (from hydra-core>=1.0.0->lightly) (21.3)\n",
            "Requirement already satisfied: omegaconf~=2.2 in /usr/local/lib/python3.7/dist-packages (from hydra-core>=1.0.0->lightly) (2.2.2)\n",
            "Requirement already satisfied: antlr4-python3-runtime==4.9.* in /usr/local/lib/python3.7/dist-packages (from hydra-core>=1.0.0->lightly) (4.9.3)\n",
            "Requirement already satisfied: Pillow in /usr/local/lib/python3.7/dist-packages (from lightly-utils~=0.0.0->lightly) (7.1.2)\n",
            "Requirement already satisfied: PyYAML>=5.1.0 in /usr/local/lib/python3.7/dist-packages (from omegaconf~=2.2->hydra-core>=1.0.0->lightly) (6.0)\n",
            "Requirement already satisfied: torchmetrics>=0.4.1 in /usr/local/lib/python3.7/dist-packages (from pytorch-lightning>=1.0.4->lightly) (0.9.2)\n",
            "Requirement already satisfied: pyDeprecate>=0.3.1 in /usr/local/lib/python3.7/dist-packages (from pytorch-lightning>=1.0.4->lightly) (0.3.2)\n",
            "Requirement already satisfied: protobuf<=3.20.1 in /usr/local/lib/python3.7/dist-packages (from pytorch-lightning>=1.0.4->lightly) (3.17.3)\n",
            "Requirement already satisfied: typing-extensions>=4.0.0 in /usr/local/lib/python3.7/dist-packages (from pytorch-lightning>=1.0.4->lightly) (4.1.1)\n",
            "Requirement already satisfied: fsspec[http]!=2021.06.0,>=2021.05.0 in /usr/local/lib/python3.7/dist-packages (from pytorch-lightning>=1.0.4->lightly) (2022.5.0)\n",
            "Requirement already satisfied: torch>=1.8.* in /usr/local/lib/python3.7/dist-packages (from pytorch-lightning>=1.0.4->lightly) (1.11.0+cu113)\n",
            "Requirement already satisfied: tensorboard>=2.2.0 in /usr/local/lib/python3.7/dist-packages (from pytorch-lightning>=1.0.4->lightly) (2.8.0)\n",
            "Requirement already satisfied: aiohttp in /usr/local/lib/python3.7/dist-packages (from fsspec[http]!=2021.06.0,>=2021.05.0->pytorch-lightning>=1.0.4->lightly) (3.8.1)\n",
            "Requirement already satisfied: pyparsing!=3.0.5,>=2.0.2 in /usr/local/lib/python3.7/dist-packages (from packaging->hydra-core>=1.0.0->lightly) (3.0.9)\n",
            "Requirement already satisfied: idna<3,>=2.5 in /usr/local/lib/python3.7/dist-packages (from requests>=2.23.0->lightly) (2.10)\n",
            "Requirement already satisfied: chardet<4,>=3.0.2 in /usr/local/lib/python3.7/dist-packages (from requests>=2.23.0->lightly) (3.0.4)\n",
            "Requirement already satisfied: wheel>=0.26 in /usr/local/lib/python3.7/dist-packages (from tensorboard>=2.2.0->pytorch-lightning>=1.0.4->lightly) (0.37.1)\n",
            "Requirement already satisfied: google-auth-oauthlib<0.5,>=0.4.1 in /usr/local/lib/python3.7/dist-packages (from tensorboard>=2.2.0->pytorch-lightning>=1.0.4->lightly) (0.4.6)\n",
            "Requirement already satisfied: absl-py>=0.4 in /usr/local/lib/python3.7/dist-packages (from tensorboard>=2.2.0->pytorch-lightning>=1.0.4->lightly) (1.1.0)\n",
            "Requirement already satisfied: werkzeug>=0.11.15 in /usr/local/lib/python3.7/dist-packages (from tensorboard>=2.2.0->pytorch-lightning>=1.0.4->lightly) (1.0.1)\n",
            "Requirement already satisfied: grpcio>=1.24.3 in /usr/local/lib/python3.7/dist-packages (from tensorboard>=2.2.0->pytorch-lightning>=1.0.4->lightly) (1.46.3)\n",
            "Requirement already satisfied: markdown>=2.6.8 in /usr/local/lib/python3.7/dist-packages (from tensorboard>=2.2.0->pytorch-lightning>=1.0.4->lightly) (3.3.7)\n",
            "Requirement already satisfied: google-auth<3,>=1.6.3 in /usr/local/lib/python3.7/dist-packages (from tensorboard>=2.2.0->pytorch-lightning>=1.0.4->lightly) (1.35.0)\n",
            "Requirement already satisfied: tensorboard-plugin-wit>=1.6.0 in /usr/local/lib/python3.7/dist-packages (from tensorboard>=2.2.0->pytorch-lightning>=1.0.4->lightly) (1.8.1)\n",
            "Requirement already satisfied: tensorboard-data-server<0.7.0,>=0.6.0 in /usr/local/lib/python3.7/dist-packages (from tensorboard>=2.2.0->pytorch-lightning>=1.0.4->lightly) (0.6.1)\n",
            "Requirement already satisfied: rsa<5,>=3.1.4 in /usr/local/lib/python3.7/dist-packages (from google-auth<3,>=1.6.3->tensorboard>=2.2.0->pytorch-lightning>=1.0.4->lightly) (4.8)\n",
            "Requirement already satisfied: pyasn1-modules>=0.2.1 in /usr/local/lib/python3.7/dist-packages (from google-auth<3,>=1.6.3->tensorboard>=2.2.0->pytorch-lightning>=1.0.4->lightly) (0.2.8)\n",
            "Requirement already satisfied: cachetools<5.0,>=2.0.0 in /usr/local/lib/python3.7/dist-packages (from google-auth<3,>=1.6.3->tensorboard>=2.2.0->pytorch-lightning>=1.0.4->lightly) (4.2.4)\n",
            "Requirement already satisfied: requests-oauthlib>=0.7.0 in /usr/local/lib/python3.7/dist-packages (from google-auth-oauthlib<0.5,>=0.4.1->tensorboard>=2.2.0->pytorch-lightning>=1.0.4->lightly) (1.3.1)\n",
            "Requirement already satisfied: importlib-metadata>=4.4 in /usr/local/lib/python3.7/dist-packages (from markdown>=2.6.8->tensorboard>=2.2.0->pytorch-lightning>=1.0.4->lightly) (4.11.4)\n",
            "Requirement already satisfied: zipp>=0.5 in /usr/local/lib/python3.7/dist-packages (from importlib-metadata>=4.4->markdown>=2.6.8->tensorboard>=2.2.0->pytorch-lightning>=1.0.4->lightly) (3.8.0)\n",
            "Requirement already satisfied: pyasn1<0.5.0,>=0.4.6 in /usr/local/lib/python3.7/dist-packages (from pyasn1-modules>=0.2.1->google-auth<3,>=1.6.3->tensorboard>=2.2.0->pytorch-lightning>=1.0.4->lightly) (0.4.8)\n",
            "Requirement already satisfied: oauthlib>=3.0.0 in /usr/local/lib/python3.7/dist-packages (from requests-oauthlib>=0.7.0->google-auth-oauthlib<0.5,>=0.4.1->tensorboard>=2.2.0->pytorch-lightning>=1.0.4->lightly) (3.2.0)\n",
            "Requirement already satisfied: asynctest==0.13.0 in /usr/local/lib/python3.7/dist-packages (from aiohttp->fsspec[http]!=2021.06.0,>=2021.05.0->pytorch-lightning>=1.0.4->lightly) (0.13.0)\n",
            "Requirement already satisfied: async-timeout<5.0,>=4.0.0a3 in /usr/local/lib/python3.7/dist-packages (from aiohttp->fsspec[http]!=2021.06.0,>=2021.05.0->pytorch-lightning>=1.0.4->lightly) (4.0.2)\n",
            "Requirement already satisfied: aiosignal>=1.1.2 in /usr/local/lib/python3.7/dist-packages (from aiohttp->fsspec[http]!=2021.06.0,>=2021.05.0->pytorch-lightning>=1.0.4->lightly) (1.2.0)\n",
            "Requirement already satisfied: yarl<2.0,>=1.0 in /usr/local/lib/python3.7/dist-packages (from aiohttp->fsspec[http]!=2021.06.0,>=2021.05.0->pytorch-lightning>=1.0.4->lightly) (1.7.2)\n",
            "Requirement already satisfied: attrs>=17.3.0 in /usr/local/lib/python3.7/dist-packages (from aiohttp->fsspec[http]!=2021.06.0,>=2021.05.0->pytorch-lightning>=1.0.4->lightly) (21.4.0)\n",
            "Requirement already satisfied: charset-normalizer<3.0,>=2.0 in /usr/local/lib/python3.7/dist-packages (from aiohttp->fsspec[http]!=2021.06.0,>=2021.05.0->pytorch-lightning>=1.0.4->lightly) (2.1.0)\n",
            "Requirement already satisfied: frozenlist>=1.1.1 in /usr/local/lib/python3.7/dist-packages (from aiohttp->fsspec[http]!=2021.06.0,>=2021.05.0->pytorch-lightning>=1.0.4->lightly) (1.3.0)\n",
            "Requirement already satisfied: multidict<7.0,>=4.5 in /usr/local/lib/python3.7/dist-packages (from aiohttp->fsspec[http]!=2021.06.0,>=2021.05.0->pytorch-lightning>=1.0.4->lightly) (6.0.2)\n"
          ]
        }
      ],
      "source": [
        "#import the lib for contrastive learning framework\n",
        "!pip install lightly"
      ]
    },
    {
      "cell_type": "code",
      "execution_count": 2,
      "metadata": {
        "id": "eFdQeuUd6HEf"
      },
      "outputs": [],
      "source": [
        "import lightly\n",
        "from lightly.models.modules.heads import SimSiamPredictionHead\n",
        "from lightly.models.modules.heads import SimSiamProjectionHead\n",
        "\n",
        "from lightly.data import LightlyDataset\n",
        "from lightly.data import ImageCollateFunction\n",
        "from lightly.models.modules import BarlowTwinsProjectionHead\n",
        "from lightly.loss import BarlowTwinsLoss\n",
        "\n",
        "from lightly.data import LightlyDataset\n",
        "from lightly.data import SimCLRCollateFunction\n",
        "from lightly.loss import NTXentLoss\n",
        "from lightly.loss import NegativeCosineSimilarity\n",
        "from lightly.models.modules import SimCLRProjectionHead"
      ]
    },
    {
      "cell_type": "code",
      "execution_count": 3,
      "metadata": {
        "id": "6QpWyfxuMr_3"
      },
      "outputs": [],
      "source": [
        "import math\n",
        "import torch\n",
        "import torch.nn as nn\n",
        "import torchvision\n",
        "import pandas as pd\n",
        "import numpy as np\n",
        "from collections import Counter\n",
        "from sklearn.model_selection import train_test_split\n",
        "from sklearn.preprocessing import LabelEncoder\n",
        "from sklearn.preprocessing import StandardScaler\n",
        "\n",
        "from torch.utils.data import Dataset, DataLoader\n",
        "import torch.optim as torch_optim\n",
        "import torch.optim.lr_scheduler as lr_scheduler\n",
        "import torch.nn as nn\n",
        "import torch.nn.functional as F\n",
        "from torchvision import models\n",
        "from datetime import datetime\n",
        "\n",
        "from numpy import unique\n",
        "from numpy import where\n",
        "from sklearn.datasets import make_classification\n",
        "from sklearn.cluster import DBSCAN\n",
        "from sklearn.cluster import KMeans\n",
        "from sklearn.cluster import SpectralClustering\n",
        "from matplotlib import pyplot\n",
        "import seaborn as sns\n",
        "\n",
        "from sklearn.metrics.cluster import normalized_mutual_info_score\n",
        "from sklearn.metrics.cluster import adjusted_mutual_info_score\n",
        "from sklearn.metrics import silhouette_score\n",
        "from sklearn import mixture\n",
        "from sklearn.cluster import DBSCAN\n",
        "from sklearn.cluster import OPTICS\n",
        "from sklearn.cluster import AgglomerativeClustering\n",
        "\n",
        "import tensorboard\n",
        "from tensorboard import notebook\n",
        "from torch.utils.tensorboard import SummaryWriter\n",
        "\n",
        "import matplotlib \n",
        "import matplotlib.pyplot as plt\n",
        "#import plotly.express as px\n",
        "\n",
        "from sklearn.manifold import TSNE\n",
        "from sklearn.decomposition import PCA\n",
        "\n",
        "from sklearn.datasets import make_blobs\n",
        "from sklearn.datasets import make_moons\n",
        "from sklearn.utils import shuffle\n",
        "\n",
        "import torchvision.transforms as transforms\n",
        "import torchvision.datasets as datasets\n",
        "from sklearn.metrics.pairwise import cosine_similarity\n",
        "\n",
        "import random\n",
        "from torch.nn.modules.loss import MSELoss\n",
        "from sklearn.neighbors import KDTree\n",
        "#from kmodes.kprototypes import KPrototypes\n",
        "\n",
        "from scipy.io.arff import loadarff\n",
        "from sklearn.preprocessing import MinMaxScaler \n",
        "from sklearn.datasets import make_classification"
      ]
    },
    {
      "cell_type": "markdown",
      "source": [
        "## Load Dataset Pendigits and Check Clustering Result with the Baseline Method Kmeans"
      ],
      "metadata": {
        "id": "r8Uf1cXQEbyp"
      }
    },
    {
      "cell_type": "code",
      "execution_count": 4,
      "metadata": {
        "id": "MYmlFY_u6HEm"
      },
      "outputs": [],
      "source": [
        "# set the path to the dataset\n",
        "path_to_data = '/content/drive/MyDrive/Colab_Notebooks/iris.data'"
      ]
    },
    {
      "cell_type": "code",
      "execution_count": 5,
      "metadata": {
        "id": "Nox7kpTK_SfU"
      },
      "outputs": [],
      "source": [
        "data = pd.read_csv(path_to_data)"
      ]
    },
    {
      "cell_type": "code",
      "execution_count": 6,
      "metadata": {
        "id": "nSREjuRwanGT"
      },
      "outputs": [],
      "source": [
        "X = data.copy()\n",
        "X = X.drop(['Iris-setosa'], axis=1)\n",
        "X_ds = pd.DataFrame(X).to_numpy()\n",
        "\n",
        "Y = data.copy()\n",
        "Y = Y['Iris-setosa']\n",
        "Y = LabelEncoder().fit_transform(Y)\n",
        "y_ds = Y.copy()"
      ]
    },
    {
      "cell_type": "code",
      "source": [
        "tsne = TSNE(n_components=2)\n",
        "X_tsne = tsne.fit_transform(X_ds)\n",
        "data_X_tsne = np.vstack((X_tsne.T, y_ds)).T\n",
        "df_tsne = pd.DataFrame(data_X_tsne, columns=['dim1', 'dim2', 'y'])\n",
        "plt.figure(figsize=(8,8))\n",
        "sns.scatterplot(data=df_tsne, hue='y', x='dim1', y='dim2', palette='pastel')\n",
        "plt.show()"
      ],
      "metadata": {
        "colab": {
          "base_uri": "https://localhost:8080/",
          "height": 586
        },
        "id": "C2LNSuXQ28U2",
        "outputId": "65328362-a259-4d6d-d523-bdecb90f5ced"
      },
      "execution_count": 7,
      "outputs": [
        {
          "output_type": "stream",
          "name": "stderr",
          "text": [
            "/usr/local/lib/python3.7/dist-packages/sklearn/manifold/_t_sne.py:783: FutureWarning: The default initialization in TSNE will change from 'random' to 'pca' in 1.2.\n",
            "  FutureWarning,\n",
            "/usr/local/lib/python3.7/dist-packages/sklearn/manifold/_t_sne.py:793: FutureWarning: The default learning rate in TSNE will change from 200.0 to 'auto' in 1.2.\n",
            "  FutureWarning,\n"
          ]
        },
        {
          "output_type": "display_data",
          "data": {
            "text/plain": [
              "<Figure size 576x576 with 1 Axes>"
            ],
            "image/png": "[encoded data removed]"
          },
          "metadata": {
            "needs_background": "light"
          }
        }
      ]
    },
    {
      "cell_type": "code",
      "execution_count": 8,
      "metadata": {
        "id": "lLHJfC3oZAWx",
        "colab": {
          "base_uri": "https://localhost:8080/"
        },
        "outputId": "a98e1965-495c-4553-dc00-b5370424e978"
      },
      "outputs": [
        {
          "output_type": "execute_result",
          "data": {
            "text/plain": [
              "0.7565280566037268"
            ]
          },
          "metadata": {},
          "execution_count": 8
        }
      ],
      "source": [
        "#check the clustering result with Kmeans\n",
        "kmeans_ori = KMeans(n_clusters=3).fit(X_ds)\n",
        "kmeans_labels_ori = kmeans_ori.labels_\n",
        "\n",
        "normalized_mutual_info_score(kmeans_labels_ori, y_ds)"
      ]
    },
    {
      "cell_type": "code",
      "source": [
        "#tsne = TSNE(n_components=2)\n",
        "#X_tsne = tsne.fit_transform(X_ds)\n",
        "data_X_tsne = np.vstack((X_tsne.T, kmeans_labels_ori)).T\n",
        "df_tsne = pd.DataFrame(data_X_tsne, columns=['dim1', 'dim2', 'y'])\n",
        "plt.figure(figsize=(8,8))\n",
        "sns.scatterplot(data=df_tsne, hue='y', x='dim1', y='dim2', palette='pastel')\n",
        "plt.show()"
      ],
      "metadata": {
        "colab": {
          "base_uri": "https://localhost:8080/",
          "height": 497
        },
        "outputId": "e8dd5b34-2856-49d0-8a2c-31ceb179911c",
        "id": "Z6w6Z-Pb0O3F"
      },
      "execution_count": 9,
      "outputs": [
        {
          "output_type": "display_data",
          "data": {
            "text/plain": [
              "<Figure size 576x576 with 1 Axes>"
            ],
            "image/png": "[encoded data removed]"
          },
          "metadata": {
            "needs_background": "light"
          }
        }
      ]
    },
    {
      "cell_type": "markdown",
      "source": [
        "## Data Augmentation"
      ],
      "metadata": {
        "id": "cR6Lx66iF5Qw"
      }
    },
    {
      "cell_type": "markdown",
      "source": [
        "####MixUp"
      ],
      "metadata": {
        "id": "tO72X3KYICDE"
      }
    },
    {
      "cell_type": "code",
      "source": [
        "def mixup(data):\n",
        "  view = data.copy()\n",
        "  for i in range(len(view)):\n",
        "    random_row_index = random.randint(0, len(view)-1)\n",
        "    view[i] = view[i]*0.5  + view[random_row_index]*0.5\n",
        "  return view"
      ],
      "metadata": {
        "id": "OZVKCFBEF6sQ"
      },
      "execution_count": 10,
      "outputs": []
    },
    {
      "cell_type": "markdown",
      "source": [
        "####MixCut"
      ],
      "metadata": {
        "id": "CM4yTA-vIbh3"
      }
    },
    {
      "cell_type": "code",
      "source": [
        "def mixcut(data):\n",
        "  data_copy = data.copy()\n",
        "  view = data.copy()\n",
        "  mask_len = 100\n",
        "\n",
        "  for i in range(len(data_copy)):\n",
        "    random_row_id = random.randint(0, len(data_copy)-1)\n",
        "    random_column_id = random.randint(0, data_copy.shape[1]-mask_len)\n",
        "    view[i,random_column_id:(random_column_id+mask_len)] = data_copy[random_row_id,random_column_id:(random_column_id+mask_len)]\n",
        "  return view"
      ],
      "metadata": {
        "id": "bR2wqE9KIcvn"
      },
      "execution_count": 11,
      "outputs": []
    },
    {
      "cell_type": "markdown",
      "source": [
        "#### Masking with mean"
      ],
      "metadata": {
        "id": "LWUnCGGYJI3T"
      }
    },
    {
      "cell_type": "code",
      "execution_count": 12,
      "metadata": {
        "id": "YsZovZZ7ZcNc"
      },
      "outputs": [],
      "source": [
        "def get_random_indices(data, portion_of_mask):\n",
        "  return np.random.choice(data.shape[1], size=np.floor(data.shape[1]*portion_of_mask).astype(int), replace=False)"
      ]
    },
    {
      "cell_type": "code",
      "execution_count": 13,
      "metadata": {
        "id": "4wKjI9VvMGzg"
      },
      "outputs": [],
      "source": [
        "def masking_with_mean(data, portion_of_mask):\n",
        "  mean = np.mean(data, axis=0)\n",
        "  column_mu = np.mean(data, axis=0)\n",
        "  column_std = np.std(data, axis=0)\n",
        "\n",
        "  view = data.copy()\n",
        "\n",
        "  for i in range(len(data)): \n",
        "    masked_indices = get_random_indices(data, portion_of_mask)\n",
        "   \n",
        "    for j in range(len(mean)):\n",
        "      if j in masked_indices:\n",
        "        view[i,j] = column_mu[j]\n",
        "              \n",
        "  return view"
      ]
    },
    {
      "cell_type": "markdown",
      "source": [
        "####Masking with random value in domain range"
      ],
      "metadata": {
        "id": "hsByPxdTKFEQ"
      }
    },
    {
      "cell_type": "code",
      "execution_count": 14,
      "metadata": {
        "id": "WwNS_odMKNIJ"
      },
      "outputs": [],
      "source": [
        "def masking_with_random(data, portion_of_mask):\n",
        "  mean = np.mean(data, axis=0)\n",
        "  column_mu = np.mean(data, axis=0)\n",
        "  column_std = np.std(data, axis=0)\n",
        "  column_min = np.minimum(data)\n",
        "  column_max = np.maximum(data)\n",
        "\n",
        "  view = data.copy()\n",
        "\n",
        "  for i in range(len(data)): \n",
        "    masked_indices = get_random_indices(data, portion_of_mask)\n",
        "   \n",
        "    for j in range(len(mean)):\n",
        "      if j in masked_indices:\n",
        "        view[i,j] = random.randint(column_min[j], column_max[j])\n",
        "              \n",
        "  return view"
      ]
    },
    {
      "cell_type": "markdown",
      "source": [
        "####Masking with margin distribution"
      ],
      "metadata": {
        "id": "DdMnRe_oLaP0"
      }
    },
    {
      "cell_type": "code",
      "execution_count": 15,
      "metadata": {
        "id": "73ZdiItNLiWb"
      },
      "outputs": [],
      "source": [
        "def masking_with_margin_distribution(data, portion_of_mask):\n",
        "  mean = np.mean(data, axis=0)\n",
        "  column_mu = np.mean(data, axis=0)\n",
        "  column_std = np.std(data, axis=0)\n",
        "\n",
        "  view = data.copy()\n",
        "\n",
        "  for i in range(len(data)): \n",
        "    masked_indices = get_random_indices(data, portion_of_mask)\n",
        "   \n",
        "    for j in range(len(mean)):\n",
        "      if j in masked_indices:\n",
        "        view[i,j] = np.random.normal(column_mu[j], column_std[j])\n",
        "              \n",
        "  return view"
      ]
    },
    {
      "cell_type": "markdown",
      "source": [
        "####Upsampling (SMOTE like)"
      ],
      "metadata": {
        "id": "VjcGRC-PLqka"
      }
    },
    {
      "cell_type": "code",
      "source": [
        "#put all data points in kd-tree for fast searching\n",
        "kdtree = KDTree(X_ds, leaf_size=2)"
      ],
      "metadata": {
        "id": "fVtPB2xEFUDM"
      },
      "execution_count": 16,
      "outputs": []
    },
    {
      "cell_type": "code",
      "source": [
        "#get random point in the k nearest neighbors\n",
        "def get_idx_random_knn(x,k):\n",
        "   _, ids = kdtree.query(x.reshape(1, -1), k=k)\n",
        "   ids = ids.flatten()\n",
        "   ids = ids[1:-1]\n",
        "   random_id = np.random.choice(ids, 1)\n",
        "   return random_id"
      ],
      "metadata": {
        "id": "RRNpp0pBsMmI"
      },
      "execution_count": 17,
      "outputs": []
    },
    {
      "cell_type": "code",
      "source": [
        "#mix up with a random near neighbor \n",
        "def mixup_random_neighbor(data, k):\n",
        "  view = data.copy()\n",
        "  for i in range(len(view)):\n",
        "    point = data[i]\n",
        "    random_neighbor_id = get_idx_random_knn(x=point, k=k)\n",
        "    view[i] = 0.5*data[i] + 0.5*data[random_neighbor_id]\n",
        "  return view"
      ],
      "metadata": {
        "id": "15ISb58Wtz8V"
      },
      "execution_count": 18,
      "outputs": []
    },
    {
      "cell_type": "code",
      "source": [
        "#a random neighbor as augmentation\n",
        "def random_near_neighbor(data, k):\n",
        "  view = data.copy()\n",
        "  for i in range(len(view)):\n",
        "    point = data[i]\n",
        "    random_neighbor_id = get_idx_random_knn(x=point, k=k)\n",
        "    view[i] = data[random_neighbor_id]\n",
        "  return view"
      ],
      "metadata": {
        "id": "6Ml9SaG2rNoI"
      },
      "execution_count": 19,
      "outputs": []
    },
    {
      "cell_type": "markdown",
      "source": [
        "##Create Model and Train with Augmented Data"
      ],
      "metadata": {
        "id": "eY9ivgZtMzKe"
      }
    },
    {
      "cell_type": "code",
      "execution_count": 20,
      "metadata": {
        "id": "SEi44QG1OtHO"
      },
      "outputs": [],
      "source": [
        "class MyDataSet(Dataset):\n",
        "  def __init__(self, view1, view2):\n",
        " \n",
        "    X_view1 = view1.copy()\n",
        "    X_view2 = view2.copy()\n",
        "    self.X_view1 = X_view1.copy().astype(np.float32)\n",
        "    self.X_view2 = X_view2.copy().astype(np.float32)\n",
        "  \n",
        "  def __len__(self):\n",
        "    return len(self.X_view1)\n",
        "  \n",
        "  def __getitem__(self, idx):\n",
        "    return self.X_view1[idx], self.X_view2[idx]"
      ]
    },
    {
      "cell_type": "code",
      "execution_count": 21,
      "metadata": {
        "id": "fkcWKpQzD096"
      },
      "outputs": [],
      "source": [
        "# define the NN architecture\n",
        "class convBackbone(nn.Module):\n",
        "    def __init__(self):\n",
        "        super(convBackbone, self).__init__()\n",
        "\n",
        "        #turn on dropout for testing the 'cropping' data augmentation \n",
        "        #self.dropout = nn.Dropout(p=0.1)\n",
        "        \n",
        "        self.fc1 = nn.Linear(4, 4, bias=False)\n",
        "        self.bn1 = nn.BatchNorm1d(4)\n",
        "\n",
        "        self.fc2 = nn.Linear(4, 4, bias=False)\n",
        "        self.bn2 = nn.BatchNorm1d(4)\n",
        "\n",
        "        self.fc3 = nn.Linear(4, 4, bias=False)\n",
        "        self.bn3 = nn.BatchNorm1d(4)\n",
        "\n",
        "\n",
        "    def forward(self, x):\n",
        "\n",
        "        #turn on dropout for testing the 'cropping' data augmentation \n",
        "        #x = self.dropout(x)\n",
        "        \n",
        "        #x = F.relu(self.bn1(self.fc1(x)))\n",
        "        x = F.relu(self.bn2(self.fc2(x)))\n",
        "        x = self.bn3(self.fc3(x))\n",
        "                \n",
        "        return x"
      ]
    },
    {
      "cell_type": "code",
      "source": [
        "class BarlowTwins(nn.Module):\n",
        "    def __init__(self, backbone):\n",
        "        super().__init__()\n",
        "        self.backbone = backbone\n",
        "        self.projection_head = BarlowTwinsProjectionHead(4, 512, 512)\n",
        "\n",
        "    def forward(self, x):\n",
        "        x = self.backbone(x)\n",
        "        y = x.flatten(start_dim=1)\n",
        "        z = self.projection_head(y)\n",
        "        return x,z\n",
        "\n",
        "backbone = convBackbone()\n",
        "model = BarlowTwins(backbone)"
      ],
      "metadata": {
        "id": "0AQWRpP4YxQh"
      },
      "execution_count": 22,
      "outputs": []
    },
    {
      "cell_type": "code",
      "source": [
        "criterion = BarlowTwinsLoss()\n",
        "optimizer = torch.optim.SGD(model.parameters(), lr=0.05)\n",
        "\n",
        "#cosine annealing lr\n",
        "scheduler = lr_scheduler.CosineAnnealingLR(optimizer,T_max=500, eta_min=0)"
      ],
      "metadata": {
        "id": "X6ulXjDWYxos"
      },
      "execution_count": 23,
      "outputs": []
    },
    {
      "cell_type": "code",
      "execution_count": 24,
      "metadata": {
        "id": "Ai5IGyxbbMHL"
      },
      "outputs": [],
      "source": [
        "view1 = random_near_neighbor(X_ds, 10)\n",
        "view2 = random_near_neighbor(X_ds, 15)\n",
        "\n",
        "#turn on the following to test other augmentations\n",
        "\n",
        "#view1 = mixup_random_neighbor(X_ds, 15)\n",
        "#view2 = mixup_random_neighbor(X_ds, 15)\n",
        "\n",
        "#view1 = mixup(X_ds)\n",
        "#view2 = mixup(X_ds)\n",
        "\n",
        "#view1 = mixcut(X_ds)\n",
        "#view2 = mixcut(X_ds)\n",
        "\n",
        "#view1 = masking_with_mean(X_ds, 0.4)\n",
        "#view2 = masking_with_mean(X_ds, 0.4)\n",
        "\n",
        "#view1 = masking_with_random(X_ds, 0.4)\n",
        "#view2 = masking_with_random(X_ds, 0.4)\n",
        "\n",
        "#view1 = masking_with_margin_distribution(X_ds, 0.4)\n",
        "#view2 = masking_with_margin_distribution(X_ds, 0.4)\n",
        "\n",
        "train_ds = MyDataSet(view1, view2)\n",
        "train_dl = DataLoader(train_ds, batch_size=256, shuffle=True)"
      ]
    },
    {
      "cell_type": "code",
      "source": [
        "device = 'cuda' if torch.cuda.is_available() else 'cpu'\n",
        "model.to(device)\n",
        "\n",
        "for epoch in range(500):\n",
        "    total_loss = 0\n",
        "\n",
        "    for x0,x1 in train_dl:\n",
        "        x0 = x0.to(device)\n",
        "        x1 = x1.to(device)\n",
        "        _,z0 = model(x0)\n",
        "        _,z1 = model(x1)\n",
        "\n",
        "        loss = criterion(z0, z1)\n",
        "        total_loss += loss.detach()\n",
        "        loss.backward()\n",
        "\n",
        "        optimizer.step()\n",
        "        optimizer.zero_grad()\n",
        "        scheduler.step()\n",
        "\n",
        "    avg_loss = total_loss / len(train_dl)\n",
        "    print(f\"epoch: {epoch:>02}, loss: {avg_loss:.5f}\")"
      ],
      "metadata": {
        "colab": {
          "base_uri": "https://localhost:8080/"
        },
        "id": "gGGpt3wEZCf0",
        "outputId": "bb936ba3-1ff9-48f0-e39d-c3b615a143fc"
      },
      "execution_count": 25,
      "outputs": [
        {
          "output_type": "stream",
          "name": "stdout",
          "text": [
            "epoch: 00, loss: 206.62434\n",
            "epoch: 01, loss: 389.85785\n",
            "epoch: 02, loss: 591.05267\n",
            "epoch: 03, loss: 532.46497\n",
            "epoch: 04, loss: 570.33069\n",
            "epoch: 05, loss: 525.61749\n",
            "epoch: 06, loss: 301.04626\n",
            "epoch: 07, loss: 256.78741\n",
            "epoch: 08, loss: 271.47162\n",
            "epoch: 09, loss: 330.50333\n",
            "epoch: 10, loss: 266.01147\n",
            "epoch: 11, loss: 254.47772\n",
            "epoch: 12, loss: 245.91922\n",
            "epoch: 13, loss: 236.86501\n",
            "epoch: 14, loss: 231.39716\n",
            "epoch: 15, loss: 226.16960\n",
            "epoch: 16, loss: 220.72719\n",
            "epoch: 17, loss: 214.56683\n",
            "epoch: 18, loss: 208.25172\n",
            "epoch: 19, loss: 202.80145\n",
            "epoch: 20, loss: 199.80136\n",
            "epoch: 21, loss: 199.72957\n",
            "epoch: 22, loss: 190.06998\n",
            "epoch: 23, loss: 185.64156\n",
            "epoch: 24, loss: 184.34547\n",
            "epoch: 25, loss: 184.28401\n",
            "epoch: 26, loss: 184.06003\n",
            "epoch: 27, loss: 180.65598\n",
            "epoch: 28, loss: 178.27065\n",
            "epoch: 29, loss: 177.30646\n",
            "epoch: 30, loss: 176.67970\n",
            "epoch: 31, loss: 176.24086\n",
            "epoch: 32, loss: 175.89236\n",
            "epoch: 33, loss: 175.62082\n",
            "epoch: 34, loss: 175.38431\n",
            "epoch: 35, loss: 175.18416\n",
            "epoch: 36, loss: 175.00931\n",
            "epoch: 37, loss: 174.85286\n",
            "epoch: 38, loss: 174.71570\n",
            "epoch: 39, loss: 174.58952\n",
            "epoch: 40, loss: 174.47000\n",
            "epoch: 41, loss: 174.36011\n",
            "epoch: 42, loss: 174.25748\n",
            "epoch: 43, loss: 174.15987\n",
            "epoch: 44, loss: 174.06708\n",
            "epoch: 45, loss: 173.98007\n",
            "epoch: 46, loss: 173.89429\n",
            "epoch: 47, loss: 173.81131\n",
            "epoch: 48, loss: 173.73099\n",
            "epoch: 49, loss: 173.65277\n",
            "epoch: 50, loss: 173.57516\n",
            "epoch: 51, loss: 173.50076\n",
            "epoch: 52, loss: 173.42464\n",
            "epoch: 53, loss: 173.35393\n",
            "epoch: 54, loss: 173.28113\n",
            "epoch: 55, loss: 173.21283\n",
            "epoch: 56, loss: 173.14095\n",
            "epoch: 57, loss: 173.07713\n",
            "epoch: 58, loss: 172.99695\n",
            "epoch: 59, loss: 172.92184\n",
            "epoch: 60, loss: 172.83707\n",
            "epoch: 61, loss: 172.75893\n",
            "epoch: 62, loss: 172.67012\n",
            "epoch: 63, loss: 172.58656\n",
            "epoch: 64, loss: 172.48764\n",
            "epoch: 65, loss: 172.38962\n",
            "epoch: 66, loss: 172.28778\n",
            "epoch: 67, loss: 172.18861\n",
            "epoch: 68, loss: 172.06981\n",
            "epoch: 69, loss: 171.96115\n",
            "epoch: 70, loss: 171.81868\n",
            "epoch: 71, loss: 171.67743\n",
            "epoch: 72, loss: 171.51791\n",
            "epoch: 73, loss: 171.37895\n",
            "epoch: 74, loss: 171.17966\n",
            "epoch: 75, loss: 171.01981\n",
            "epoch: 76, loss: 170.75369\n",
            "epoch: 77, loss: 170.53554\n",
            "epoch: 78, loss: 170.22533\n",
            "epoch: 79, loss: 170.00134\n",
            "epoch: 80, loss: 169.70724\n",
            "epoch: 81, loss: 169.76460\n",
            "epoch: 82, loss: 169.70694\n",
            "epoch: 83, loss: 170.76303\n",
            "epoch: 84, loss: 171.90558\n",
            "epoch: 85, loss: 173.74118\n",
            "epoch: 86, loss: 170.50360\n",
            "epoch: 87, loss: 169.29224\n",
            "epoch: 88, loss: 166.76559\n",
            "epoch: 89, loss: 166.26537\n",
            "epoch: 90, loss: 165.28088\n",
            "epoch: 91, loss: 165.39299\n",
            "epoch: 92, loss: 164.90604\n",
            "epoch: 93, loss: 165.08646\n",
            "epoch: 94, loss: 164.86200\n",
            "epoch: 95, loss: 164.38831\n",
            "epoch: 96, loss: 164.34245\n",
            "epoch: 97, loss: 162.91171\n",
            "epoch: 98, loss: 162.31911\n",
            "epoch: 99, loss: 161.25795\n",
            "epoch: 100, loss: 160.79399\n",
            "epoch: 101, loss: 160.00864\n",
            "epoch: 102, loss: 159.52933\n",
            "epoch: 103, loss: 159.05208\n",
            "epoch: 104, loss: 158.77318\n",
            "epoch: 105, loss: 158.74141\n",
            "epoch: 106, loss: 158.74260\n",
            "epoch: 107, loss: 159.25417\n",
            "epoch: 108, loss: 158.83754\n",
            "epoch: 109, loss: 159.45532\n",
            "epoch: 110, loss: 158.32574\n",
            "epoch: 111, loss: 158.79631\n",
            "epoch: 112, loss: 157.94633\n",
            "epoch: 113, loss: 158.49474\n",
            "epoch: 114, loss: 158.05112\n",
            "epoch: 115, loss: 158.62944\n",
            "epoch: 116, loss: 157.88643\n",
            "epoch: 117, loss: 157.89957\n",
            "epoch: 118, loss: 156.80414\n",
            "epoch: 119, loss: 156.57182\n",
            "epoch: 120, loss: 155.81961\n",
            "epoch: 121, loss: 155.44106\n",
            "epoch: 122, loss: 154.98682\n",
            "epoch: 123, loss: 154.74323\n",
            "epoch: 124, loss: 154.51378\n",
            "epoch: 125, loss: 154.39603\n",
            "epoch: 126, loss: 154.28891\n",
            "epoch: 127, loss: 154.27577\n",
            "epoch: 128, loss: 154.31590\n",
            "epoch: 129, loss: 154.42239\n",
            "epoch: 130, loss: 154.66797\n",
            "epoch: 131, loss: 154.81996\n",
            "epoch: 132, loss: 155.03162\n",
            "epoch: 133, loss: 154.84410\n",
            "epoch: 134, loss: 154.78291\n",
            "epoch: 135, loss: 154.43561\n",
            "epoch: 136, loss: 154.32248\n",
            "epoch: 137, loss: 154.06689\n",
            "epoch: 138, loss: 153.96622\n",
            "epoch: 139, loss: 153.76622\n",
            "epoch: 140, loss: 153.70233\n",
            "epoch: 141, loss: 153.58818\n",
            "epoch: 142, loss: 153.55045\n",
            "epoch: 143, loss: 153.48004\n",
            "epoch: 144, loss: 153.45395\n",
            "epoch: 145, loss: 153.41803\n",
            "epoch: 146, loss: 153.42117\n",
            "epoch: 147, loss: 153.39952\n",
            "epoch: 148, loss: 153.40462\n",
            "epoch: 149, loss: 153.38516\n",
            "epoch: 150, loss: 153.39685\n",
            "epoch: 151, loss: 153.37930\n",
            "epoch: 152, loss: 153.36623\n",
            "epoch: 153, loss: 153.31931\n",
            "epoch: 154, loss: 153.27727\n",
            "epoch: 155, loss: 153.23013\n",
            "epoch: 156, loss: 153.18773\n",
            "epoch: 157, loss: 153.13271\n",
            "epoch: 158, loss: 153.08810\n",
            "epoch: 159, loss: 153.03821\n",
            "epoch: 160, loss: 152.99986\n",
            "epoch: 161, loss: 152.95776\n",
            "epoch: 162, loss: 152.93279\n",
            "epoch: 163, loss: 152.90067\n",
            "epoch: 164, loss: 152.87398\n",
            "epoch: 165, loss: 152.84419\n",
            "epoch: 166, loss: 152.82526\n",
            "epoch: 167, loss: 152.80434\n",
            "epoch: 168, loss: 152.78371\n",
            "epoch: 169, loss: 152.76077\n",
            "epoch: 170, loss: 152.74577\n",
            "epoch: 171, loss: 152.72533\n",
            "epoch: 172, loss: 152.71265\n",
            "epoch: 173, loss: 152.69537\n",
            "epoch: 174, loss: 152.68420\n",
            "epoch: 175, loss: 152.66753\n",
            "epoch: 176, loss: 152.65866\n",
            "epoch: 177, loss: 152.64221\n",
            "epoch: 178, loss: 152.63228\n",
            "epoch: 179, loss: 152.61464\n",
            "epoch: 180, loss: 152.60599\n",
            "epoch: 181, loss: 152.59296\n",
            "epoch: 182, loss: 152.58369\n",
            "epoch: 183, loss: 152.56535\n",
            "epoch: 184, loss: 152.55214\n",
            "epoch: 185, loss: 152.53979\n",
            "epoch: 186, loss: 152.52998\n",
            "epoch: 187, loss: 152.51996\n",
            "epoch: 188, loss: 152.50925\n",
            "epoch: 189, loss: 152.49684\n",
            "epoch: 190, loss: 152.48602\n",
            "epoch: 191, loss: 152.47366\n",
            "epoch: 192, loss: 152.45982\n",
            "epoch: 193, loss: 152.44580\n",
            "epoch: 194, loss: 152.43164\n",
            "epoch: 195, loss: 152.41760\n",
            "epoch: 196, loss: 152.40500\n",
            "epoch: 197, loss: 152.39368\n",
            "epoch: 198, loss: 152.38225\n",
            "epoch: 199, loss: 152.37048\n",
            "epoch: 200, loss: 152.35921\n",
            "epoch: 201, loss: 152.34892\n",
            "epoch: 202, loss: 152.33975\n",
            "epoch: 203, loss: 152.32848\n",
            "epoch: 204, loss: 152.31750\n",
            "epoch: 205, loss: 152.30627\n",
            "epoch: 206, loss: 152.29691\n",
            "epoch: 207, loss: 152.28503\n",
            "epoch: 208, loss: 152.27478\n",
            "epoch: 209, loss: 152.26483\n",
            "epoch: 210, loss: 152.25555\n",
            "epoch: 211, loss: 152.24434\n",
            "epoch: 212, loss: 152.23468\n",
            "epoch: 213, loss: 152.22575\n",
            "epoch: 214, loss: 152.21812\n",
            "epoch: 215, loss: 152.20802\n",
            "epoch: 216, loss: 152.19873\n",
            "epoch: 217, loss: 152.18970\n",
            "epoch: 218, loss: 152.17969\n",
            "epoch: 219, loss: 152.17062\n",
            "epoch: 220, loss: 152.16176\n",
            "epoch: 221, loss: 152.15192\n",
            "epoch: 222, loss: 152.14351\n",
            "epoch: 223, loss: 152.13329\n",
            "epoch: 224, loss: 152.12462\n",
            "epoch: 225, loss: 152.11368\n",
            "epoch: 226, loss: 152.10699\n",
            "epoch: 227, loss: 152.09517\n",
            "epoch: 228, loss: 152.08321\n",
            "epoch: 229, loss: 152.09567\n",
            "epoch: 230, loss: 152.10828\n",
            "epoch: 231, loss: 152.08244\n",
            "epoch: 232, loss: 152.06879\n",
            "epoch: 233, loss: 152.05528\n",
            "epoch: 234, loss: 152.04358\n",
            "epoch: 235, loss: 152.03055\n",
            "epoch: 236, loss: 152.01541\n",
            "epoch: 237, loss: 151.99936\n",
            "epoch: 238, loss: 151.98857\n",
            "epoch: 239, loss: 151.99948\n",
            "epoch: 240, loss: 152.01439\n",
            "epoch: 241, loss: 151.98482\n",
            "epoch: 242, loss: 151.96780\n",
            "epoch: 243, loss: 151.95218\n",
            "epoch: 244, loss: 151.93640\n",
            "epoch: 245, loss: 151.92123\n",
            "epoch: 246, loss: 151.90335\n",
            "epoch: 247, loss: 151.88919\n",
            "epoch: 248, loss: 151.87843\n",
            "epoch: 249, loss: 151.88391\n",
            "epoch: 250, loss: 151.89917\n",
            "epoch: 251, loss: 151.86996\n",
            "epoch: 252, loss: 151.85562\n",
            "epoch: 253, loss: 151.83203\n",
            "epoch: 254, loss: 151.80959\n",
            "epoch: 255, loss: 151.78986\n",
            "epoch: 256, loss: 151.77345\n",
            "epoch: 257, loss: 151.78490\n",
            "epoch: 258, loss: 151.79681\n",
            "epoch: 259, loss: 151.78249\n",
            "epoch: 260, loss: 151.78906\n",
            "epoch: 261, loss: 151.74277\n",
            "epoch: 262, loss: 151.71223\n",
            "epoch: 263, loss: 151.68491\n",
            "epoch: 264, loss: 151.66887\n",
            "epoch: 265, loss: 151.66708\n",
            "epoch: 266, loss: 151.68178\n",
            "epoch: 267, loss: 151.64473\n",
            "epoch: 268, loss: 151.61963\n",
            "epoch: 269, loss: 151.59502\n",
            "epoch: 270, loss: 151.56862\n",
            "epoch: 271, loss: 151.53877\n",
            "epoch: 272, loss: 151.51021\n",
            "epoch: 273, loss: 151.49626\n",
            "epoch: 274, loss: 151.50623\n",
            "epoch: 275, loss: 151.46933\n",
            "epoch: 276, loss: 151.43573\n",
            "epoch: 277, loss: 151.40213\n",
            "epoch: 278, loss: 151.36778\n",
            "epoch: 279, loss: 151.36844\n",
            "epoch: 280, loss: 151.41417\n",
            "epoch: 281, loss: 151.35141\n",
            "epoch: 282, loss: 151.31413\n",
            "epoch: 283, loss: 151.27783\n",
            "epoch: 284, loss: 151.23636\n",
            "epoch: 285, loss: 151.21910\n",
            "epoch: 286, loss: 151.22589\n",
            "epoch: 287, loss: 151.24623\n",
            "epoch: 288, loss: 151.25726\n",
            "epoch: 289, loss: 151.15855\n",
            "epoch: 290, loss: 151.10617\n",
            "epoch: 291, loss: 151.05649\n",
            "epoch: 292, loss: 151.01604\n",
            "epoch: 293, loss: 150.99681\n",
            "epoch: 294, loss: 151.00856\n",
            "epoch: 295, loss: 150.96730\n",
            "epoch: 296, loss: 150.94986\n",
            "epoch: 297, loss: 150.89229\n",
            "epoch: 298, loss: 150.84732\n",
            "epoch: 299, loss: 150.84955\n",
            "epoch: 300, loss: 150.84752\n",
            "epoch: 301, loss: 150.78397\n",
            "epoch: 302, loss: 150.74619\n",
            "epoch: 303, loss: 150.70380\n",
            "epoch: 304, loss: 150.66049\n",
            "epoch: 305, loss: 150.61234\n",
            "epoch: 306, loss: 150.57535\n",
            "epoch: 307, loss: 150.54706\n",
            "epoch: 308, loss: 150.50946\n",
            "epoch: 309, loss: 150.50623\n",
            "epoch: 310, loss: 150.44521\n",
            "epoch: 311, loss: 150.42514\n",
            "epoch: 312, loss: 150.42836\n",
            "epoch: 313, loss: 150.43909\n",
            "epoch: 314, loss: 150.43088\n",
            "epoch: 315, loss: 150.31053\n",
            "epoch: 316, loss: 150.24344\n",
            "epoch: 317, loss: 150.22595\n",
            "epoch: 318, loss: 150.24005\n",
            "epoch: 319, loss: 150.16525\n",
            "epoch: 320, loss: 150.11053\n",
            "epoch: 321, loss: 150.06207\n",
            "epoch: 322, loss: 150.01210\n",
            "epoch: 323, loss: 149.96368\n",
            "epoch: 324, loss: 149.93793\n",
            "epoch: 325, loss: 149.88211\n",
            "epoch: 326, loss: 149.84717\n",
            "epoch: 327, loss: 149.79352\n",
            "epoch: 328, loss: 149.76524\n",
            "epoch: 329, loss: 149.73715\n",
            "epoch: 330, loss: 149.67961\n",
            "epoch: 331, loss: 149.64638\n",
            "epoch: 332, loss: 149.65059\n",
            "epoch: 333, loss: 149.58340\n",
            "epoch: 334, loss: 149.53903\n",
            "epoch: 335, loss: 149.48907\n",
            "epoch: 336, loss: 149.44165\n",
            "epoch: 337, loss: 149.40883\n",
            "epoch: 338, loss: 149.37421\n",
            "epoch: 339, loss: 149.34126\n",
            "epoch: 340, loss: 149.30151\n",
            "epoch: 341, loss: 149.24490\n",
            "epoch: 342, loss: 149.21326\n",
            "epoch: 343, loss: 149.18230\n",
            "epoch: 344, loss: 149.19691\n",
            "epoch: 345, loss: 149.10684\n",
            "epoch: 346, loss: 149.05998\n",
            "epoch: 347, loss: 149.02159\n",
            "epoch: 348, loss: 149.01811\n",
            "epoch: 349, loss: 149.00011\n",
            "epoch: 350, loss: 148.94080\n",
            "epoch: 351, loss: 148.90466\n",
            "epoch: 352, loss: 148.84782\n",
            "epoch: 353, loss: 148.80457\n",
            "epoch: 354, loss: 148.76932\n",
            "epoch: 355, loss: 148.75079\n",
            "epoch: 356, loss: 148.68161\n",
            "epoch: 357, loss: 148.64435\n",
            "epoch: 358, loss: 148.64052\n",
            "epoch: 359, loss: 148.58147\n",
            "epoch: 360, loss: 148.53326\n",
            "epoch: 361, loss: 148.49902\n",
            "epoch: 362, loss: 148.48277\n",
            "epoch: 363, loss: 148.43105\n",
            "epoch: 364, loss: 148.39572\n",
            "epoch: 365, loss: 148.37593\n",
            "epoch: 366, loss: 148.32446\n",
            "epoch: 367, loss: 148.29916\n",
            "epoch: 368, loss: 148.25531\n",
            "epoch: 369, loss: 148.21410\n",
            "epoch: 370, loss: 148.17670\n",
            "epoch: 371, loss: 148.17203\n",
            "epoch: 372, loss: 148.12698\n",
            "epoch: 373, loss: 148.09569\n",
            "epoch: 374, loss: 148.04231\n",
            "epoch: 375, loss: 148.00482\n",
            "epoch: 376, loss: 147.97568\n",
            "epoch: 377, loss: 147.95552\n",
            "epoch: 378, loss: 147.90871\n",
            "epoch: 379, loss: 147.86996\n",
            "epoch: 380, loss: 147.83945\n",
            "epoch: 381, loss: 147.79878\n",
            "epoch: 382, loss: 147.76918\n",
            "epoch: 383, loss: 147.74225\n",
            "epoch: 384, loss: 147.72227\n",
            "epoch: 385, loss: 147.67181\n",
            "epoch: 386, loss: 147.64157\n",
            "epoch: 387, loss: 147.61514\n",
            "epoch: 388, loss: 147.57973\n",
            "epoch: 389, loss: 147.56204\n",
            "epoch: 390, loss: 147.51920\n",
            "epoch: 391, loss: 147.48987\n",
            "epoch: 392, loss: 147.46455\n",
            "epoch: 393, loss: 147.42822\n",
            "epoch: 394, loss: 147.40411\n",
            "epoch: 395, loss: 147.36720\n",
            "epoch: 396, loss: 147.34081\n",
            "epoch: 397, loss: 147.31256\n",
            "epoch: 398, loss: 147.29256\n",
            "epoch: 399, loss: 147.25693\n",
            "epoch: 400, loss: 147.22964\n",
            "epoch: 401, loss: 147.20523\n",
            "epoch: 402, loss: 147.17804\n",
            "epoch: 403, loss: 147.15175\n",
            "epoch: 404, loss: 147.12790\n",
            "epoch: 405, loss: 147.10294\n",
            "epoch: 406, loss: 147.07790\n",
            "epoch: 407, loss: 147.05438\n",
            "epoch: 408, loss: 147.03143\n",
            "epoch: 409, loss: 147.00853\n",
            "epoch: 410, loss: 146.98801\n",
            "epoch: 411, loss: 146.96371\n",
            "epoch: 412, loss: 146.94057\n",
            "epoch: 413, loss: 146.91905\n",
            "epoch: 414, loss: 146.89926\n",
            "epoch: 415, loss: 146.87592\n",
            "epoch: 416, loss: 146.85431\n",
            "epoch: 417, loss: 146.83443\n",
            "epoch: 418, loss: 146.81519\n",
            "epoch: 419, loss: 146.79488\n",
            "epoch: 420, loss: 146.77521\n",
            "epoch: 421, loss: 146.75722\n",
            "epoch: 422, loss: 146.73875\n",
            "epoch: 423, loss: 146.72151\n",
            "epoch: 424, loss: 146.70407\n",
            "epoch: 425, loss: 146.68686\n",
            "epoch: 426, loss: 146.66931\n",
            "epoch: 427, loss: 146.65257\n",
            "epoch: 428, loss: 146.63716\n",
            "epoch: 429, loss: 146.62244\n",
            "epoch: 430, loss: 146.60747\n",
            "epoch: 431, loss: 146.59210\n",
            "epoch: 432, loss: 146.57745\n",
            "epoch: 433, loss: 146.56352\n",
            "epoch: 434, loss: 146.55054\n",
            "epoch: 435, loss: 146.53706\n",
            "epoch: 436, loss: 146.52357\n",
            "epoch: 437, loss: 146.51129\n",
            "epoch: 438, loss: 146.49939\n",
            "epoch: 439, loss: 146.48758\n",
            "epoch: 440, loss: 146.47638\n",
            "epoch: 441, loss: 146.46519\n",
            "epoch: 442, loss: 146.45422\n",
            "epoch: 443, loss: 146.44400\n",
            "epoch: 444, loss: 146.43462\n",
            "epoch: 445, loss: 146.42484\n",
            "epoch: 446, loss: 146.41516\n",
            "epoch: 447, loss: 146.40628\n",
            "epoch: 448, loss: 146.39783\n",
            "epoch: 449, loss: 146.38927\n",
            "epoch: 450, loss: 146.38126\n",
            "epoch: 451, loss: 146.37349\n",
            "epoch: 452, loss: 146.36601\n",
            "epoch: 453, loss: 146.35873\n",
            "epoch: 454, loss: 146.35199\n",
            "epoch: 455, loss: 146.34531\n",
            "epoch: 456, loss: 146.33899\n",
            "epoch: 457, loss: 146.33333\n",
            "epoch: 458, loss: 146.32730\n",
            "epoch: 459, loss: 146.32228\n",
            "epoch: 460, loss: 146.31648\n",
            "epoch: 461, loss: 146.31178\n",
            "epoch: 462, loss: 146.30681\n",
            "epoch: 463, loss: 146.30220\n",
            "epoch: 464, loss: 146.29826\n",
            "epoch: 465, loss: 146.29405\n",
            "epoch: 466, loss: 146.29010\n",
            "epoch: 467, loss: 146.28654\n",
            "epoch: 468, loss: 146.28304\n",
            "epoch: 469, loss: 146.27982\n",
            "epoch: 470, loss: 146.27673\n",
            "epoch: 471, loss: 146.27403\n",
            "epoch: 472, loss: 146.27129\n",
            "epoch: 473, loss: 146.26889\n",
            "epoch: 474, loss: 146.26645\n",
            "epoch: 475, loss: 146.26428\n",
            "epoch: 476, loss: 146.26239\n",
            "epoch: 477, loss: 146.26038\n",
            "epoch: 478, loss: 146.25871\n",
            "epoch: 479, loss: 146.25714\n",
            "epoch: 480, loss: 146.25577\n",
            "epoch: 481, loss: 146.25443\n",
            "epoch: 482, loss: 146.25330\n",
            "epoch: 483, loss: 146.25223\n",
            "epoch: 484, loss: 146.25128\n",
            "epoch: 485, loss: 146.25046\n",
            "epoch: 486, loss: 146.24973\n",
            "epoch: 487, loss: 146.24907\n",
            "epoch: 488, loss: 146.24852\n",
            "epoch: 489, loss: 146.24805\n",
            "epoch: 490, loss: 146.24768\n",
            "epoch: 491, loss: 146.24733\n",
            "epoch: 492, loss: 146.24706\n",
            "epoch: 493, loss: 146.24686\n",
            "epoch: 494, loss: 146.24669\n",
            "epoch: 495, loss: 146.24657\n",
            "epoch: 496, loss: 146.24646\n",
            "epoch: 497, loss: 146.24643\n",
            "epoch: 498, loss: 146.24640\n",
            "epoch: 499, loss: 146.24638\n"
          ]
        }
      ]
    },
    {
      "cell_type": "markdown",
      "source": [
        "##Check the Training Result"
      ],
      "metadata": {
        "id": "gP9q1mKoOa54"
      }
    },
    {
      "cell_type": "code",
      "execution_count": 26,
      "metadata": {
        "id": "tFJTq7KjgZQK"
      },
      "outputs": [],
      "source": [
        "ds_cl= MyDataSet(X_ds, X_ds)\n",
        "dl_cl = DataLoader(ds_cl, batch_size=256)"
      ]
    },
    {
      "cell_type": "code",
      "source": [
        "embeddings = []\n",
        "\n",
        "# disable gradients for faster calculations\n",
        "model.eval()\n",
        "with torch.no_grad():\n",
        "    for dl_cl1, dl_cl2 in dl_cl:\n",
        "\n",
        "        dl_cl1 = dl_cl1.to(device)\n",
        "        x,z = model(dl_cl1)\n",
        "        \n",
        "        # store the embeddings in lists\n",
        "        embeddings.append(x)\n",
        "\n",
        "# concatenate the embeddings, targets and convert to numpy\n",
        "embeddings = torch.cat(embeddings, dim=0)\n",
        "embeddings = embeddings.cpu().numpy()"
      ],
      "metadata": {
        "id": "iZLFjOl4ZM4_"
      },
      "execution_count": 27,
      "outputs": []
    },
    {
      "cell_type": "code",
      "source": [
        "test = (embeddings - embeddings.mean(axis=0)) / (embeddings.std(axis=0))"
      ],
      "metadata": {
        "id": "WYm55Kzrxtuh"
      },
      "execution_count": 28,
      "outputs": []
    },
    {
      "cell_type": "code",
      "execution_count": 29,
      "metadata": {
        "id": "8hjHslrXcfs1"
      },
      "outputs": [],
      "source": [
        "#KMeans in latent space\n",
        "kmeans_backbone = KMeans(n_clusters=3).fit(test)\n",
        "kmeans_labels_backbone = kmeans_backbone.labels_"
      ]
    },
    {
      "cell_type": "code",
      "execution_count": 30,
      "metadata": {
        "id": "eSL9AYi68PzG",
        "colab": {
          "base_uri": "https://localhost:8080/"
        },
        "outputId": "8e9e8da8-b96b-4ad8-e5df-78d9bf06aa7c"
      },
      "outputs": [
        {
          "output_type": "execute_result",
          "data": {
            "text/plain": [
              "0.7063598636191392"
            ]
          },
          "metadata": {},
          "execution_count": 30
        }
      ],
      "source": [
        "normalized_mutual_info_score(kmeans_labels_backbone, y_ds)"
      ]
    },
    {
      "cell_type": "code",
      "source": [
        "tsne = TSNE(n_components=2)\n",
        "X_tsne = tsne.fit_transform(embeddings)\n",
        "data_X_tsne = np.vstack((X_tsne.T, kmeans_labels_backbone)).T\n",
        "df_tsne = pd.DataFrame(data_X_tsne, columns=['dim1', 'dim2', 'y'])\n",
        "plt.figure(figsize=(8,8))\n",
        "sns.scatterplot(data=df_tsne, hue='y', x='dim1', y='dim2', palette='pastel')\n",
        "plt.show()"
      ],
      "metadata": {
        "id": "_vJLrRb5x7LQ",
        "colab": {
          "base_uri": "https://localhost:8080/",
          "height": 586
        },
        "outputId": "33236b4c-7794-4e8b-d718-73a6e1d94af0"
      },
      "execution_count": 31,
      "outputs": [
        {
          "output_type": "stream",
          "name": "stderr",
          "text": [
            "/usr/local/lib/python3.7/dist-packages/sklearn/manifold/_t_sne.py:783: FutureWarning: The default initialization in TSNE will change from 'random' to 'pca' in 1.2.\n",
            "  FutureWarning,\n",
            "/usr/local/lib/python3.7/dist-packages/sklearn/manifold/_t_sne.py:793: FutureWarning: The default learning rate in TSNE will change from 200.0 to 'auto' in 1.2.\n",
            "  FutureWarning,\n"
          ]
        },
        {
          "output_type": "display_data",
          "data": {
            "text/plain": [
              "<Figure size 576x576 with 1 Axes>"
            ],
            "image/png": "[encoded data removed]"
          },
          "metadata": {
            "needs_background": "light"
          }
        }
      ]
    },
    {
      "cell_type": "code",
      "source": [
        "#NMI increases from 0.75 to 0.70"
      ],
      "metadata": {
        "id": "TfoMwpddbHuu"
      },
      "execution_count": 32,
      "outputs": []
    }
  ]
}