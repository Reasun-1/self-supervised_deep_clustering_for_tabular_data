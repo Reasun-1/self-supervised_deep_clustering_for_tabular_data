{
  "cells": [
    {
      "cell_type": "markdown",
      "metadata": {
        "id": "yclVA5qcDxcs"
      },
      "source": [
        "## Conifuration"
      ]
    },
    {
      "cell_type": "code",
      "execution_count": 1,
      "metadata": {
        "colab": {
          "base_uri": "https://localhost:8080/"
        },
        "id": "lpTeHV5f6RDe",
        "outputId": "a9d5eeeb-4820-4ff8-fe08-bc7452017e3e"
      },
      "outputs": [
        {
          "name": "stdout",
          "output_type": "stream",
          "text": [
            "Looking in indexes: https://pypi.org/simple, https://us-python.pkg.dev/colab-wheels/public/simple/\n",
            "Requirement already satisfied: lightly in /usr/local/lib/python3.7/dist-packages (1.2.23)\n",
            "Requirement already satisfied: numpy>=1.18.1 in /usr/local/lib/python3.7/dist-packages (from lightly) (1.21.6)\n",
            "Requirement already satisfied: pytorch-lightning>=1.0.4 in /usr/local/lib/python3.7/dist-packages (from lightly) (1.6.4)\n",
            "Requirement already satisfied: tqdm>=4.44 in /usr/local/lib/python3.7/dist-packages (from lightly) (4.64.0)\n",
            "Requirement already satisfied: hydra-core>=1.0.0 in /usr/local/lib/python3.7/dist-packages (from lightly) (1.2.0)\n",
            "Requirement already satisfied: torchvision in /usr/local/lib/python3.7/dist-packages (from lightly) (0.12.0+cu113)\n",
            "Requirement already satisfied: urllib3>=1.15.1 in /usr/local/lib/python3.7/dist-packages (from lightly) (1.24.3)\n",
            "Requirement already satisfied: lightly-utils~=0.0.0 in /usr/local/lib/python3.7/dist-packages (from lightly) (0.0.2)\n",
            "Requirement already satisfied: certifi>=14.05.14 in /usr/local/lib/python3.7/dist-packages (from lightly) (2022.6.15)\n",
            "Requirement already satisfied: python-dateutil>=2.5.3 in /usr/local/lib/python3.7/dist-packages (from lightly) (2.8.2)\n",
            "Requirement already satisfied: setuptools>=21.0.0 in /usr/local/lib/python3.7/dist-packages (from lightly) (57.4.0)\n",
            "Requirement already satisfied: six>=1.10 in /usr/local/lib/python3.7/dist-packages (from lightly) (1.15.0)\n",
            "Requirement already satisfied: requests>=2.23.0 in /usr/local/lib/python3.7/dist-packages (from lightly) (2.23.0)\n",
            "Requirement already satisfied: packaging in /usr/local/lib/python3.7/dist-packages (from hydra-core>=1.0.0->lightly) (21.3)\n",
            "Requirement already satisfied: importlib-resources in /usr/local/lib/python3.7/dist-packages (from hydra-core>=1.0.0->lightly) (5.7.1)\n",
            "Requirement already satisfied: omegaconf~=2.2 in /usr/local/lib/python3.7/dist-packages (from hydra-core>=1.0.0->lightly) (2.2.2)\n",
            "Requirement already satisfied: antlr4-python3-runtime==4.9.* in /usr/local/lib/python3.7/dist-packages (from hydra-core>=1.0.0->lightly) (4.9.3)\n",
            "Requirement already satisfied: Pillow in /usr/local/lib/python3.7/dist-packages (from lightly-utils~=0.0.0->lightly) (7.1.2)\n",
            "Requirement already satisfied: PyYAML>=5.1.0 in /usr/local/lib/python3.7/dist-packages (from omegaconf~=2.2->hydra-core>=1.0.0->lightly) (6.0)\n",
            "Requirement already satisfied: torch>=1.8.* in /usr/local/lib/python3.7/dist-packages (from pytorch-lightning>=1.0.4->lightly) (1.11.0+cu113)\n",
            "Requirement already satisfied: protobuf<=3.20.1 in /usr/local/lib/python3.7/dist-packages (from pytorch-lightning>=1.0.4->lightly) (3.17.3)\n",
            "Requirement already satisfied: fsspec[http]!=2021.06.0,>=2021.05.0 in /usr/local/lib/python3.7/dist-packages (from pytorch-lightning>=1.0.4->lightly) (2022.5.0)\n",
            "Requirement already satisfied: typing-extensions>=4.0.0 in /usr/local/lib/python3.7/dist-packages (from pytorch-lightning>=1.0.4->lightly) (4.1.1)\n",
            "Requirement already satisfied: torchmetrics>=0.4.1 in /usr/local/lib/python3.7/dist-packages (from pytorch-lightning>=1.0.4->lightly) (0.9.2)\n",
            "Requirement already satisfied: tensorboard>=2.2.0 in /usr/local/lib/python3.7/dist-packages (from pytorch-lightning>=1.0.4->lightly) (2.8.0)\n",
            "Requirement already satisfied: pyDeprecate>=0.3.1 in /usr/local/lib/python3.7/dist-packages (from pytorch-lightning>=1.0.4->lightly) (0.3.2)\n",
            "Requirement already satisfied: aiohttp in /usr/local/lib/python3.7/dist-packages (from fsspec[http]!=2021.06.0,>=2021.05.0->pytorch-lightning>=1.0.4->lightly) (3.8.1)\n",
            "Requirement already satisfied: pyparsing!=3.0.5,>=2.0.2 in /usr/local/lib/python3.7/dist-packages (from packaging->hydra-core>=1.0.0->lightly) (3.0.9)\n",
            "Requirement already satisfied: idna<3,>=2.5 in /usr/local/lib/python3.7/dist-packages (from requests>=2.23.0->lightly) (2.10)\n",
            "Requirement already satisfied: chardet<4,>=3.0.2 in /usr/local/lib/python3.7/dist-packages (from requests>=2.23.0->lightly) (3.0.4)\n",
            "Requirement already satisfied: google-auth<3,>=1.6.3 in /usr/local/lib/python3.7/dist-packages (from tensorboard>=2.2.0->pytorch-lightning>=1.0.4->lightly) (1.35.0)\n",
            "Requirement already satisfied: markdown>=2.6.8 in /usr/local/lib/python3.7/dist-packages (from tensorboard>=2.2.0->pytorch-lightning>=1.0.4->lightly) (3.3.7)\n",
            "Requirement already satisfied: wheel>=0.26 in /usr/local/lib/python3.7/dist-packages (from tensorboard>=2.2.0->pytorch-lightning>=1.0.4->lightly) (0.37.1)\n",
            "Requirement already satisfied: grpcio>=1.24.3 in /usr/local/lib/python3.7/dist-packages (from tensorboard>=2.2.0->pytorch-lightning>=1.0.4->lightly) (1.46.3)\n",
            "Requirement already satisfied: google-auth-oauthlib<0.5,>=0.4.1 in /usr/local/lib/python3.7/dist-packages (from tensorboard>=2.2.0->pytorch-lightning>=1.0.4->lightly) (0.4.6)\n",
            "Requirement already satisfied: werkzeug>=0.11.15 in /usr/local/lib/python3.7/dist-packages (from tensorboard>=2.2.0->pytorch-lightning>=1.0.4->lightly) (1.0.1)\n",
            "Requirement already satisfied: tensorboard-plugin-wit>=1.6.0 in /usr/local/lib/python3.7/dist-packages (from tensorboard>=2.2.0->pytorch-lightning>=1.0.4->lightly) (1.8.1)\n",
            "Requirement already satisfied: absl-py>=0.4 in /usr/local/lib/python3.7/dist-packages (from tensorboard>=2.2.0->pytorch-lightning>=1.0.4->lightly) (1.1.0)\n",
            "Requirement already satisfied: tensorboard-data-server<0.7.0,>=0.6.0 in /usr/local/lib/python3.7/dist-packages (from tensorboard>=2.2.0->pytorch-lightning>=1.0.4->lightly) (0.6.1)\n",
            "Requirement already satisfied: cachetools<5.0,>=2.0.0 in /usr/local/lib/python3.7/dist-packages (from google-auth<3,>=1.6.3->tensorboard>=2.2.0->pytorch-lightning>=1.0.4->lightly) (4.2.4)\n",
            "Requirement already satisfied: rsa<5,>=3.1.4 in /usr/local/lib/python3.7/dist-packages (from google-auth<3,>=1.6.3->tensorboard>=2.2.0->pytorch-lightning>=1.0.4->lightly) (4.8)\n",
            "Requirement already satisfied: pyasn1-modules>=0.2.1 in /usr/local/lib/python3.7/dist-packages (from google-auth<3,>=1.6.3->tensorboard>=2.2.0->pytorch-lightning>=1.0.4->lightly) (0.2.8)\n",
            "Requirement already satisfied: requests-oauthlib>=0.7.0 in /usr/local/lib/python3.7/dist-packages (from google-auth-oauthlib<0.5,>=0.4.1->tensorboard>=2.2.0->pytorch-lightning>=1.0.4->lightly) (1.3.1)\n",
            "Requirement already satisfied: importlib-metadata>=4.4 in /usr/local/lib/python3.7/dist-packages (from markdown>=2.6.8->tensorboard>=2.2.0->pytorch-lightning>=1.0.4->lightly) (4.11.4)\n",
            "Requirement already satisfied: zipp>=0.5 in /usr/local/lib/python3.7/dist-packages (from importlib-metadata>=4.4->markdown>=2.6.8->tensorboard>=2.2.0->pytorch-lightning>=1.0.4->lightly) (3.8.0)\n",
            "Requirement already satisfied: pyasn1<0.5.0,>=0.4.6 in /usr/local/lib/python3.7/dist-packages (from pyasn1-modules>=0.2.1->google-auth<3,>=1.6.3->tensorboard>=2.2.0->pytorch-lightning>=1.0.4->lightly) (0.4.8)\n",
            "Requirement already satisfied: oauthlib>=3.0.0 in /usr/local/lib/python3.7/dist-packages (from requests-oauthlib>=0.7.0->google-auth-oauthlib<0.5,>=0.4.1->tensorboard>=2.2.0->pytorch-lightning>=1.0.4->lightly) (3.2.0)\n",
            "Requirement already satisfied: frozenlist>=1.1.1 in /usr/local/lib/python3.7/dist-packages (from aiohttp->fsspec[http]!=2021.06.0,>=2021.05.0->pytorch-lightning>=1.0.4->lightly) (1.3.0)\n",
            "Requirement already satisfied: attrs>=17.3.0 in /usr/local/lib/python3.7/dist-packages (from aiohttp->fsspec[http]!=2021.06.0,>=2021.05.0->pytorch-lightning>=1.0.4->lightly) (21.4.0)\n",
            "Requirement already satisfied: aiosignal>=1.1.2 in /usr/local/lib/python3.7/dist-packages (from aiohttp->fsspec[http]!=2021.06.0,>=2021.05.0->pytorch-lightning>=1.0.4->lightly) (1.2.0)\n",
            "Requirement already satisfied: charset-normalizer<3.0,>=2.0 in /usr/local/lib/python3.7/dist-packages (from aiohttp->fsspec[http]!=2021.06.0,>=2021.05.0->pytorch-lightning>=1.0.4->lightly) (2.1.0)\n",
            "Requirement already satisfied: yarl<2.0,>=1.0 in /usr/local/lib/python3.7/dist-packages (from aiohttp->fsspec[http]!=2021.06.0,>=2021.05.0->pytorch-lightning>=1.0.4->lightly) (1.7.2)\n",
            "Requirement already satisfied: multidict<7.0,>=4.5 in /usr/local/lib/python3.7/dist-packages (from aiohttp->fsspec[http]!=2021.06.0,>=2021.05.0->pytorch-lightning>=1.0.4->lightly) (6.0.2)\n",
            "Requirement already satisfied: asynctest==0.13.0 in /usr/local/lib/python3.7/dist-packages (from aiohttp->fsspec[http]!=2021.06.0,>=2021.05.0->pytorch-lightning>=1.0.4->lightly) (0.13.0)\n",
            "Requirement already satisfied: async-timeout<5.0,>=4.0.0a3 in /usr/local/lib/python3.7/dist-packages (from aiohttp->fsspec[http]!=2021.06.0,>=2021.05.0->pytorch-lightning>=1.0.4->lightly) (4.0.2)\n"
          ]
        }
      ],
      "source": [
        "#import the lib for contrastive learning framework\n",
        "!pip install lightly"
      ]
    },
    {
      "cell_type": "code",
      "execution_count": 2,
      "metadata": {
        "id": "eFdQeuUd6HEf"
      },
      "outputs": [],
      "source": [
        "import lightly\n",
        "from lightly.models.modules.heads import SimSiamPredictionHead\n",
        "from lightly.models.modules.heads import SimSiamProjectionHead\n",
        "\n",
        "from lightly.data import LightlyDataset\n",
        "from lightly.data import ImageCollateFunction\n",
        "from lightly.models.modules import BarlowTwinsProjectionHead\n",
        "from lightly.loss import BarlowTwinsLoss\n",
        "\n",
        "from lightly.data import LightlyDataset\n",
        "from lightly.data import SimCLRCollateFunction\n",
        "from lightly.loss import NTXentLoss\n",
        "from lightly.loss import NegativeCosineSimilarity\n",
        "from lightly.models.modules import SimCLRProjectionHead"
      ]
    },
    {
      "cell_type": "code",
      "execution_count": 3,
      "metadata": {
        "id": "6QpWyfxuMr_3"
      },
      "outputs": [],
      "source": [
        "import math\n",
        "import torch\n",
        "import torch.nn as nn\n",
        "import torchvision\n",
        "import pandas as pd\n",
        "import numpy as np\n",
        "from collections import Counter\n",
        "from sklearn.model_selection import train_test_split\n",
        "from sklearn.preprocessing import LabelEncoder\n",
        "from sklearn.preprocessing import StandardScaler\n",
        "\n",
        "from torch.utils.data import Dataset, DataLoader\n",
        "import torch.optim as torch_optim\n",
        "import torch.optim.lr_scheduler as lr_scheduler\n",
        "import torch.nn as nn\n",
        "import torch.nn.functional as F\n",
        "from torchvision import models\n",
        "from datetime import datetime\n",
        "\n",
        "from numpy import unique\n",
        "from numpy import where\n",
        "from sklearn.datasets import make_classification\n",
        "from sklearn.cluster import DBSCAN\n",
        "from sklearn.cluster import KMeans\n",
        "from sklearn.cluster import SpectralClustering\n",
        "from matplotlib import pyplot\n",
        "import seaborn as sns\n",
        "\n",
        "from sklearn.metrics.cluster import normalized_mutual_info_score\n",
        "from sklearn.metrics.cluster import adjusted_mutual_info_score\n",
        "from sklearn.metrics import silhouette_score\n",
        "from sklearn import mixture\n",
        "from sklearn.cluster import DBSCAN\n",
        "from sklearn.cluster import OPTICS\n",
        "from sklearn.cluster import AgglomerativeClustering\n",
        "\n",
        "import tensorboard\n",
        "from tensorboard import notebook\n",
        "from torch.utils.tensorboard import SummaryWriter\n",
        "\n",
        "import matplotlib \n",
        "import matplotlib.pyplot as plt\n",
        "#import plotly.express as px\n",
        "\n",
        "from sklearn.manifold import TSNE\n",
        "from sklearn.decomposition import PCA\n",
        "\n",
        "from sklearn.datasets import make_blobs\n",
        "from sklearn.datasets import make_moons\n",
        "from sklearn.utils import shuffle\n",
        "\n",
        "import torchvision.transforms as transforms\n",
        "import torchvision.datasets as datasets\n",
        "from sklearn.metrics.pairwise import cosine_similarity\n",
        "\n",
        "import random\n",
        "from torch.nn.modules.loss import MSELoss\n",
        "from sklearn.neighbors import KDTree\n",
        "#from kmodes.kprototypes import KPrototypes\n",
        "\n",
        "from scipy.io.arff import loadarff\n",
        "from sklearn.preprocessing import MinMaxScaler \n",
        "from sklearn.datasets import make_classification"
      ]
    },
    {
      "cell_type": "markdown",
      "metadata": {
        "id": "r8Uf1cXQEbyp"
      },
      "source": [
        "## Load Dataset Zelnik and Check Clustering Result with the Baseline Method Kmeans"
      ]
    },
    {
      "cell_type": "code",
      "execution_count": 4,
      "metadata": {
        "id": "MYmlFY_u6HEm"
      },
      "outputs": [],
      "source": [
        "# set the path to the dataset\n",
        "path_to_data = '/content/drive/MyDrive/Colab_Notebooks/zelnik5.arff'"
      ]
    },
    {
      "cell_type": "code",
      "execution_count": 5,
      "metadata": {
        "id": "cx8MlPX9k2oh"
      },
      "outputs": [],
      "source": [
        "raw = loadarff(path_to_data)\n",
        "data = pd.DataFrame(raw[0])"
      ]
    },
    {
      "cell_type": "code",
      "execution_count": 6,
      "metadata": {
        "id": "nSREjuRwanGT"
      },
      "outputs": [],
      "source": [
        "X_ds = data.copy()\n",
        "X_ds = X_ds.drop(['CLASS'], axis=1)\n",
        "X_ds = pd.DataFrame(X_ds).to_numpy()\n",
        "\n",
        "y_ds = data.copy()\n",
        "y_ds = y_ds['CLASS']"
      ]
    },
    {
      "cell_type": "code",
      "execution_count": 7,
      "metadata": {
        "id": "hfATCbTCR0bC"
      },
      "outputs": [],
      "source": [
        "y_ds = LabelEncoder().fit_transform(y_ds)"
      ]
    },
    {
      "cell_type": "code",
      "execution_count": 8,
      "metadata": {
        "colab": {
          "base_uri": "https://localhost:8080/",
          "height": 265
        },
        "id": "aT_qS-Fl4EfY",
        "outputId": "806d7a31-b34e-4269-894f-180390c3fc2e"
      },
      "outputs": [
        {
          "data": {
            "image/png": "[encoded data removed]",
            "text/plain": [
              "<Figure size 432x288 with 1 Axes>"
            ]
          },
          "metadata": {
            "needs_background": "light"
          },
          "output_type": "display_data"
        }
      ],
      "source": [
        "colors = ['blue', 'orange', 'green', 'red']\n",
        "plt.scatter(X_ds[:, 0], X_ds[:, 1], s=0.55, c=y_ds, cmap=matplotlib.colors.ListedColormap(colors))\n",
        "plt.show()"
      ]
    },
    {
      "cell_type": "code",
      "execution_count": 9,
      "metadata": {
        "colab": {
          "base_uri": "https://localhost:8080/"
        },
        "id": "lLHJfC3oZAWx",
        "outputId": "3ed74b6b-6873-4eb9-93cb-bc139c4d6c39"
      },
      "outputs": [
        {
          "data": {
            "text/plain": [
              "0.6735266670058799"
            ]
          },
          "execution_count": 9,
          "metadata": {},
          "output_type": "execute_result"
        }
      ],
      "source": [
        "#check the clustering result with Kmeans\n",
        "kmeans_ori = KMeans(n_clusters=4).fit(X_ds)\n",
        "kmeans_labels_ori = kmeans_ori.labels_\n",
        "\n",
        "normalized_mutual_info_score(kmeans_labels_ori, y_ds)"
      ]
    },
    {
      "cell_type": "code",
      "execution_count": 10,
      "metadata": {
        "colab": {
          "base_uri": "https://localhost:8080/",
          "height": 265
        },
        "id": "7iFLGYp9_3fa",
        "outputId": "9b925724-64ba-44b3-acff-80bd5b6ce527"
      },
      "outputs": [
        {
          "data": {
            "image/png": "[encoded data removed]",
            "text/plain": [
              "<Figure size 432x288 with 1 Axes>"
            ]
          },
          "metadata": {
            "needs_background": "light"
          },
          "output_type": "display_data"
        }
      ],
      "source": [
        "colors = ['blue', 'orange', 'green', 'red']\n",
        "plt.scatter(X_ds[:, 0], X_ds[:, 1], s=0.55, c=kmeans_labels_ori, cmap=matplotlib.colors.ListedColormap(colors))\n",
        "plt.show()"
      ]
    },
    {
      "cell_type": "markdown",
      "metadata": {
        "id": "cR6Lx66iF5Qw"
      },
      "source": [
        "## Data Augmentation"
      ]
    },
    {
      "cell_type": "markdown",
      "metadata": {
        "id": "tO72X3KYICDE"
      },
      "source": [
        "####MixUp"
      ]
    },
    {
      "cell_type": "code",
      "execution_count": 11,
      "metadata": {
        "id": "OZVKCFBEF6sQ"
      },
      "outputs": [],
      "source": [
        "def mixup(data):\n",
        "  view = data.copy()\n",
        "  for i in range(len(view)):\n",
        "    random_row_index = random.randint(0, len(view)-1)\n",
        "    view[i] = view[i]*0.7  + view[random_row_index]*0.3\n",
        "  return view"
      ]
    },
    {
      "cell_type": "markdown",
      "metadata": {
        "id": "CM4yTA-vIbh3"
      },
      "source": [
        "####MixCut"
      ]
    },
    {
      "cell_type": "code",
      "execution_count": 12,
      "metadata": {
        "id": "bR2wqE9KIcvn"
      },
      "outputs": [],
      "source": [
        "def mixcut(data):\n",
        "  data_copy = data.copy()\n",
        "  view = data.copy()\n",
        "  mask_len = int(data_copy.shape[1]*0.25)\n",
        "\n",
        "  for i in range(len(data_copy)):\n",
        "    random_row_id = random.randint(0, len(data_copy)-1)\n",
        "    random_column_id = random.randint(0, data_copy.shape[1]-mask_len)\n",
        "    view[i,random_column_id:(random_column_id+mask_len)] = data_copy[random_row_id,random_column_id:(random_column_id+mask_len)]\n",
        "  return view"
      ]
    },
    {
      "cell_type": "markdown",
      "metadata": {
        "id": "LWUnCGGYJI3T"
      },
      "source": [
        "#### Masking with mean"
      ]
    },
    {
      "cell_type": "code",
      "execution_count": 13,
      "metadata": {
        "id": "YsZovZZ7ZcNc"
      },
      "outputs": [],
      "source": [
        "def get_random_indices(data, portion_of_mask):\n",
        "  return np.random.choice(data.shape[1], size=np.floor(data.shape[1]*portion_of_mask).astype(int), replace=False)"
      ]
    },
    {
      "cell_type": "code",
      "execution_count": 14,
      "metadata": {
        "id": "4wKjI9VvMGzg"
      },
      "outputs": [],
      "source": [
        "def masking_with_mean(data, portion_of_mask):\n",
        "  mean = np.mean(data, axis=0)\n",
        "  column_mu = np.mean(data, axis=0)\n",
        "  column_std = np.std(data, axis=0)\n",
        "\n",
        "  view = data.copy()\n",
        "\n",
        "  for i in range(len(data)): \n",
        "    masked_indices = get_random_indices(data, portion_of_mask)\n",
        "   \n",
        "    for j in range(len(mean)):\n",
        "      if j in masked_indices:\n",
        "        view[i,j] = column_mu[j]\n",
        "              \n",
        "  return view"
      ]
    },
    {
      "cell_type": "markdown",
      "metadata": {
        "id": "hsByPxdTKFEQ"
      },
      "source": [
        "####Masking with random value in domain range"
      ]
    },
    {
      "cell_type": "code",
      "execution_count": 15,
      "metadata": {
        "id": "WwNS_odMKNIJ"
      },
      "outputs": [],
      "source": [
        "def masking_with_random(data, portion_of_mask):\n",
        "  mean = np.mean(data, axis=0)\n",
        "\n",
        "  column_min = data.min(axis=0).astype(int)\n",
        "  column_max = data.max(axis=0).astype(int)\n",
        "\n",
        "  view = data.copy()\n",
        "\n",
        "  for i in range(len(data)): \n",
        "    masked_indices = get_random_indices(data, portion_of_mask)\n",
        "   \n",
        "    for j in range(len(mean)):\n",
        "      if j in masked_indices:\n",
        "        view[i,j] = random.randint(column_min[j], column_max[j])\n",
        "              \n",
        "  return view"
      ]
    },
    {
      "cell_type": "markdown",
      "metadata": {
        "id": "DdMnRe_oLaP0"
      },
      "source": [
        "####Masking with margin distribution"
      ]
    },
    {
      "cell_type": "code",
      "execution_count": 16,
      "metadata": {
        "id": "73ZdiItNLiWb"
      },
      "outputs": [],
      "source": [
        "def masking_with_margin_distribution(data, portion_of_mask):\n",
        "  mean = np.mean(data, axis=0)\n",
        "  column_mu = np.mean(data, axis=0)\n",
        "  column_std = np.std(data, axis=0)\n",
        "\n",
        "  view = data.copy()\n",
        "\n",
        "  for i in range(len(data)): \n",
        "    masked_indices = get_random_indices(data, portion_of_mask)\n",
        "   \n",
        "    for j in range(len(mean)):\n",
        "      if j in masked_indices:\n",
        "        view[i,j] = np.random.normal(column_mu[j], column_std[j])\n",
        "              \n",
        "  return view"
      ]
    },
    {
      "cell_type": "markdown",
      "metadata": {
        "id": "VjcGRC-PLqka"
      },
      "source": [
        "####Upsampling (SMOTE like)"
      ]
    },
    {
      "cell_type": "code",
      "execution_count": 17,
      "metadata": {
        "id": "fVtPB2xEFUDM"
      },
      "outputs": [],
      "source": [
        "#put all data points in kd-tree for fast searching\n",
        "kdtree = KDTree(X_ds, leaf_size=2)"
      ]
    },
    {
      "cell_type": "code",
      "execution_count": 18,
      "metadata": {
        "id": "RRNpp0pBsMmI"
      },
      "outputs": [],
      "source": [
        "#get random point in the k nearest neighbors\n",
        "def get_idx_random_knn(x,k):\n",
        "   _, ids = kdtree.query(x.reshape(1, -1), k=k)\n",
        "   ids = ids.flatten()\n",
        "   ids = ids[1:-1]\n",
        "   random_id = np.random.choice(ids, 1)\n",
        "   return random_id"
      ]
    },
    {
      "cell_type": "code",
      "execution_count": 19,
      "metadata": {
        "id": "15ISb58Wtz8V"
      },
      "outputs": [],
      "source": [
        "#mix up with a random near neighbor \n",
        "def mixup_random_neighbor(data, k):\n",
        "  view = data.copy()\n",
        "  for i in range(len(view)):\n",
        "    point = data[i]\n",
        "    random_neighbor_id = get_idx_random_knn(x=point, k=k)\n",
        "    view[i] = 0.5*data[i] + 0.5*data[random_neighbor_id]\n",
        "  return view"
      ]
    },
    {
      "cell_type": "code",
      "execution_count": 20,
      "metadata": {
        "id": "6Ml9SaG2rNoI"
      },
      "outputs": [],
      "source": [
        "#a random neighbor as augmentation\n",
        "def random_near_neighbor(data, k):\n",
        "  view = data.copy()\n",
        "  for i in range(len(view)):\n",
        "    point = data[i]\n",
        "    random_neighbor_id = get_idx_random_knn(x=point, k=k)\n",
        "    view[i] = data[random_neighbor_id]\n",
        "  return view"
      ]
    },
    {
      "cell_type": "markdown",
      "metadata": {
        "id": "eY9ivgZtMzKe"
      },
      "source": [
        "##Create Model and Train with Augmented Data"
      ]
    },
    {
      "cell_type": "code",
      "execution_count": 21,
      "metadata": {
        "id": "SEi44QG1OtHO"
      },
      "outputs": [],
      "source": [
        "class MyDataSet(Dataset):\n",
        "  def __init__(self, view1, view2):\n",
        " \n",
        "    X_view1 = view1.copy()\n",
        "    X_view2 = view2.copy()\n",
        "    self.X_view1 = X_view1.copy().astype(np.float32)\n",
        "    self.X_view2 = X_view2.copy().astype(np.float32)\n",
        "  \n",
        "  def __len__(self):\n",
        "    return len(self.X_view1)\n",
        "  \n",
        "  def __getitem__(self, idx):\n",
        "    return self.X_view1[idx], self.X_view2[idx]"
      ]
    },
    {
      "cell_type": "code",
      "execution_count": 22,
      "metadata": {
        "id": "fkcWKpQzD096"
      },
      "outputs": [],
      "source": [
        "# define the NN architecture\n",
        "class convBackbone(nn.Module):\n",
        "    def __init__(self):\n",
        "        super(convBackbone, self).__init__()\n",
        "\n",
        "        #turn on dropout for testing the 'cropping' data augmentation \n",
        "        #self.dropout = nn.Dropout(p=0.1)\n",
        "        \n",
        "        self.fc1 = nn.Linear(2, 2, bias=False)\n",
        "        self.bn1 = nn.BatchNorm1d(2)\n",
        "\n",
        "        self.fc2 = nn.Linear(2, 2, bias=False)\n",
        "        self.bn2 = nn.BatchNorm1d(2)\n",
        "\n",
        "        self.fc3 = nn.Linear(2, 2, bias=False)\n",
        "        self.bn3 = nn.BatchNorm1d(2)\n",
        "\n",
        "\n",
        "    def forward(self, x):\n",
        "\n",
        "        #turn on dropout for testing the 'cropping' data augmentation \n",
        "        #x = self.dropout(x)\n",
        "        \n",
        "        #x = F.relu(self.bn1(self.fc1(x)))\n",
        "        x = F.relu(self.bn2(self.fc2(x)))\n",
        "        x = self.bn3(self.fc3(x))\n",
        "                \n",
        "        return x"
      ]
    },
    {
      "cell_type": "code",
      "execution_count": 23,
      "metadata": {
        "id": "EIfNnfTtD2si"
      },
      "outputs": [],
      "source": [
        "class BarlowTwins(nn.Module):\n",
        "    def __init__(self, backbone):\n",
        "        super().__init__()\n",
        "        self.backbone = backbone\n",
        "        self.projection_head = BarlowTwinsProjectionHead(2, 256, 256)\n",
        "\n",
        "    def forward(self, x):\n",
        "        x = self.backbone(x)\n",
        "        y = x.flatten(start_dim=1)\n",
        "        z = self.projection_head(y)\n",
        "        return x,z\n",
        "\n",
        "backbone = convBackbone()\n",
        "model = BarlowTwins(backbone)"
      ]
    },
    {
      "cell_type": "code",
      "execution_count": 24,
      "metadata": {
        "id": "C8x5QowRD7_A"
      },
      "outputs": [],
      "source": [
        "criterion = BarlowTwinsLoss()\n",
        "optimizer = torch.optim.SGD(model.parameters(), lr=0.05)\n",
        "\n",
        "#cosine annealing lr\n",
        "scheduler = lr_scheduler.CosineAnnealingLR(optimizer,T_max=500, eta_min=0)"
      ]
    },
    {
      "cell_type": "code",
      "execution_count": 25,
      "metadata": {
        "id": "Ai5IGyxbbMHL"
      },
      "outputs": [],
      "source": [
        "view1 = random_near_neighbor(X_ds, 50)\n",
        "view2 = random_near_neighbor(X_ds, 50)\n",
        "\n",
        "#turn on the following to test other augmentations\n",
        "\n",
        "#view1 = mixup_random_neighbor(X_ds, 15)\n",
        "#view2 = mixup_random_neighbor(X_ds, 15)\n",
        "\n",
        "#view1 = mixup(X_ds)\n",
        "#view2 = mixup(X_ds)\n",
        "\n",
        "#view1 = mixcut(X_ds)\n",
        "#view2 = mixcut(X_ds)\n",
        "\n",
        "#view1 = masking_with_mean(X_ds, 0.4)\n",
        "#view2 = masking_with_mean(X_ds, 0.4)\n",
        "\n",
        "#view1 = masking_with_random(X_ds, 0.4)\n",
        "#view2 = masking_with_random(X_ds, 0.4)\n",
        "\n",
        "#view1 = masking_with_margin_distribution(X_ds, 0.4)\n",
        "#view2 = masking_with_margin_distribution(X_ds, 0.4)\n",
        "\n",
        "train_ds = MyDataSet(view1, view2)\n",
        "train_dl = DataLoader(train_ds, batch_size=256, shuffle=True)"
      ]
    },
    {
      "cell_type": "code",
      "execution_count": 26,
      "metadata": {
        "colab": {
          "base_uri": "https://localhost:8080/"
        },
        "id": "B9Ze5qo8EFde",
        "outputId": "330295a6-2ad0-4ec6-8146-5b9ef550022d"
      },
      "outputs": [
        {
          "name": "stdout",
          "output_type": "stream",
          "text": [
            "epoch: 00, loss: 78.73688\n",
            "epoch: 01, loss: 113.56194\n",
            "epoch: 02, loss: 98.84253\n",
            "epoch: 03, loss: 79.66953\n",
            "epoch: 04, loss: 70.97448\n",
            "epoch: 05, loss: 65.31296\n",
            "epoch: 06, loss: 78.23505\n",
            "epoch: 07, loss: 69.74611\n",
            "epoch: 08, loss: 66.78044\n",
            "epoch: 09, loss: 66.61451\n",
            "epoch: 10, loss: 66.27897\n",
            "epoch: 11, loss: 66.35944\n",
            "epoch: 12, loss: 66.93288\n",
            "epoch: 13, loss: 65.69659\n",
            "epoch: 14, loss: 64.80645\n",
            "epoch: 15, loss: 64.22664\n",
            "epoch: 16, loss: 63.47062\n",
            "epoch: 17, loss: 63.68890\n",
            "epoch: 18, loss: 64.35854\n",
            "epoch: 19, loss: 64.28546\n",
            "epoch: 20, loss: 63.01743\n",
            "epoch: 21, loss: 63.88532\n",
            "epoch: 22, loss: 63.93513\n",
            "epoch: 23, loss: 63.33607\n",
            "epoch: 24, loss: 63.79032\n",
            "epoch: 25, loss: 64.16916\n",
            "epoch: 26, loss: 63.78424\n",
            "epoch: 27, loss: 63.23051\n",
            "epoch: 28, loss: 63.14231\n",
            "epoch: 29, loss: 63.51768\n",
            "epoch: 30, loss: 62.98904\n",
            "epoch: 31, loss: 62.86284\n",
            "epoch: 32, loss: 62.80367\n",
            "epoch: 33, loss: 62.80762\n",
            "epoch: 34, loss: 63.34397\n",
            "epoch: 35, loss: 61.89876\n",
            "epoch: 36, loss: 60.88597\n",
            "epoch: 37, loss: 57.55635\n",
            "epoch: 38, loss: 52.99828\n",
            "epoch: 39, loss: 51.25279\n",
            "epoch: 40, loss: 51.27666\n",
            "epoch: 41, loss: 48.54754\n",
            "epoch: 42, loss: 44.83234\n",
            "epoch: 43, loss: 45.19987\n",
            "epoch: 44, loss: 44.66960\n",
            "epoch: 45, loss: 44.89524\n",
            "epoch: 46, loss: 45.52184\n",
            "epoch: 47, loss: 45.21613\n",
            "epoch: 48, loss: 44.52582\n",
            "epoch: 49, loss: 44.69325\n",
            "epoch: 50, loss: 44.57977\n",
            "epoch: 51, loss: 44.62729\n",
            "epoch: 52, loss: 44.31735\n",
            "epoch: 53, loss: 44.12212\n",
            "epoch: 54, loss: 44.48108\n",
            "epoch: 55, loss: 44.41160\n",
            "epoch: 56, loss: 44.51152\n",
            "epoch: 57, loss: 44.12175\n",
            "epoch: 58, loss: 43.71707\n",
            "epoch: 59, loss: 43.78527\n",
            "epoch: 60, loss: 43.73484\n",
            "epoch: 61, loss: 43.38718\n",
            "epoch: 62, loss: 42.95785\n",
            "epoch: 63, loss: 42.48340\n",
            "epoch: 64, loss: 42.48867\n",
            "epoch: 65, loss: 42.25381\n",
            "epoch: 66, loss: 42.02391\n",
            "epoch: 67, loss: 41.47202\n",
            "epoch: 68, loss: 42.10476\n",
            "epoch: 69, loss: 41.92966\n",
            "epoch: 70, loss: 41.74763\n",
            "epoch: 71, loss: 42.12750\n",
            "epoch: 72, loss: 41.27218\n",
            "epoch: 73, loss: 40.69609\n",
            "epoch: 74, loss: 40.59858\n",
            "epoch: 75, loss: 40.38586\n",
            "epoch: 76, loss: 40.70438\n",
            "epoch: 77, loss: 41.05339\n",
            "epoch: 78, loss: 40.59446\n",
            "epoch: 79, loss: 40.52621\n",
            "epoch: 80, loss: 39.99099\n",
            "epoch: 81, loss: 39.64510\n",
            "epoch: 82, loss: 40.07470\n",
            "epoch: 83, loss: 40.19367\n",
            "epoch: 84, loss: 39.66572\n",
            "epoch: 85, loss: 39.99600\n",
            "epoch: 86, loss: 40.06343\n",
            "epoch: 87, loss: 39.49047\n",
            "epoch: 88, loss: 40.53468\n",
            "epoch: 89, loss: 40.04292\n",
            "epoch: 90, loss: 39.70640\n",
            "epoch: 91, loss: 40.31520\n",
            "epoch: 92, loss: 40.37712\n",
            "epoch: 93, loss: 39.56057\n",
            "epoch: 94, loss: 39.51684\n",
            "epoch: 95, loss: 39.34259\n",
            "epoch: 96, loss: 41.26320\n",
            "epoch: 97, loss: 39.64234\n",
            "epoch: 98, loss: 39.25251\n",
            "epoch: 99, loss: 39.42066\n",
            "epoch: 100, loss: 39.67965\n",
            "epoch: 101, loss: 39.52595\n",
            "epoch: 102, loss: 40.13628\n",
            "epoch: 103, loss: 39.46940\n",
            "epoch: 104, loss: 39.44078\n",
            "epoch: 105, loss: 40.08838\n",
            "epoch: 106, loss: 39.54152\n",
            "epoch: 107, loss: 39.09421\n",
            "epoch: 108, loss: 39.46265\n",
            "epoch: 109, loss: 39.27930\n",
            "epoch: 110, loss: 39.33239\n",
            "epoch: 111, loss: 38.90353\n",
            "epoch: 112, loss: 39.07935\n",
            "epoch: 113, loss: 38.91472\n",
            "epoch: 114, loss: 38.87979\n",
            "epoch: 115, loss: 39.19144\n",
            "epoch: 116, loss: 39.92496\n",
            "epoch: 117, loss: 39.86663\n",
            "epoch: 118, loss: 39.02254\n",
            "epoch: 119, loss: 39.02584\n",
            "epoch: 120, loss: 39.22378\n",
            "epoch: 121, loss: 39.06867\n",
            "epoch: 122, loss: 38.84132\n",
            "epoch: 123, loss: 39.13445\n",
            "epoch: 124, loss: 39.23636\n",
            "epoch: 125, loss: 38.73026\n",
            "epoch: 126, loss: 38.90640\n",
            "epoch: 127, loss: 38.65101\n",
            "epoch: 128, loss: 38.46262\n",
            "epoch: 129, loss: 38.85142\n",
            "epoch: 130, loss: 39.32076\n",
            "epoch: 131, loss: 39.08491\n",
            "epoch: 132, loss: 38.90129\n",
            "epoch: 133, loss: 38.59695\n",
            "epoch: 134, loss: 38.88656\n",
            "epoch: 135, loss: 39.05814\n",
            "epoch: 136, loss: 39.79624\n",
            "epoch: 137, loss: 39.31417\n",
            "epoch: 138, loss: 38.76606\n",
            "epoch: 139, loss: 38.98464\n",
            "epoch: 140, loss: 38.72768\n",
            "epoch: 141, loss: 38.95274\n",
            "epoch: 142, loss: 38.63724\n",
            "epoch: 143, loss: 38.64369\n",
            "epoch: 144, loss: 39.05468\n",
            "epoch: 145, loss: 39.18327\n",
            "epoch: 146, loss: 38.63600\n",
            "epoch: 147, loss: 38.85132\n",
            "epoch: 148, loss: 38.91948\n",
            "epoch: 149, loss: 38.50315\n",
            "epoch: 150, loss: 38.95093\n",
            "epoch: 151, loss: 38.70370\n",
            "epoch: 152, loss: 38.26758\n",
            "epoch: 153, loss: 38.55260\n",
            "epoch: 154, loss: 39.38710\n",
            "epoch: 155, loss: 38.63792\n",
            "epoch: 156, loss: 38.62619\n",
            "epoch: 157, loss: 38.35217\n",
            "epoch: 158, loss: 38.79030\n",
            "epoch: 159, loss: 38.31798\n",
            "epoch: 160, loss: 38.47274\n",
            "epoch: 161, loss: 38.29530\n",
            "epoch: 162, loss: 38.30002\n",
            "epoch: 163, loss: 38.84064\n",
            "epoch: 164, loss: 38.81132\n",
            "epoch: 165, loss: 38.90100\n",
            "epoch: 166, loss: 38.29692\n",
            "epoch: 167, loss: 38.35806\n",
            "epoch: 168, loss: 38.60830\n",
            "epoch: 169, loss: 38.27489\n",
            "epoch: 170, loss: 38.64090\n",
            "epoch: 171, loss: 38.65934\n",
            "epoch: 172, loss: 38.79921\n",
            "epoch: 173, loss: 38.46420\n",
            "epoch: 174, loss: 38.34480\n",
            "epoch: 175, loss: 39.16613\n",
            "epoch: 176, loss: 38.88000\n",
            "epoch: 177, loss: 39.40456\n",
            "epoch: 178, loss: 38.19146\n",
            "epoch: 179, loss: 38.21277\n",
            "epoch: 180, loss: 38.23404\n",
            "epoch: 181, loss: 38.92519\n",
            "epoch: 182, loss: 38.27102\n",
            "epoch: 183, loss: 38.52785\n",
            "epoch: 184, loss: 38.66788\n",
            "epoch: 185, loss: 38.36868\n",
            "epoch: 186, loss: 38.14590\n",
            "epoch: 187, loss: 38.63521\n",
            "epoch: 188, loss: 38.04253\n",
            "epoch: 189, loss: 38.33536\n",
            "epoch: 190, loss: 38.78868\n",
            "epoch: 191, loss: 38.43647\n",
            "epoch: 192, loss: 38.12210\n",
            "epoch: 193, loss: 38.20205\n",
            "epoch: 194, loss: 38.29718\n",
            "epoch: 195, loss: 38.15323\n",
            "epoch: 196, loss: 38.37463\n",
            "epoch: 197, loss: 38.22153\n",
            "epoch: 198, loss: 38.70243\n",
            "epoch: 199, loss: 38.63150\n",
            "epoch: 200, loss: 38.55518\n",
            "epoch: 201, loss: 38.15690\n",
            "epoch: 202, loss: 39.58184\n",
            "epoch: 203, loss: 38.78328\n",
            "epoch: 204, loss: 38.37392\n",
            "epoch: 205, loss: 38.28765\n",
            "epoch: 206, loss: 38.13304\n",
            "epoch: 207, loss: 38.47717\n",
            "epoch: 208, loss: 38.53279\n",
            "epoch: 209, loss: 38.38301\n",
            "epoch: 210, loss: 38.33698\n",
            "epoch: 211, loss: 38.67553\n",
            "epoch: 212, loss: 38.00433\n",
            "epoch: 213, loss: 38.35630\n",
            "epoch: 214, loss: 38.28588\n",
            "epoch: 215, loss: 38.27887\n",
            "epoch: 216, loss: 37.96896\n",
            "epoch: 217, loss: 38.64793\n",
            "epoch: 218, loss: 38.18484\n",
            "epoch: 219, loss: 38.68484\n",
            "epoch: 220, loss: 38.36260\n",
            "epoch: 221, loss: 38.24644\n",
            "epoch: 222, loss: 38.53976\n",
            "epoch: 223, loss: 38.60880\n",
            "epoch: 224, loss: 38.89581\n",
            "epoch: 225, loss: 38.07486\n",
            "epoch: 226, loss: 38.21968\n",
            "epoch: 227, loss: 38.04713\n",
            "epoch: 228, loss: 38.06343\n",
            "epoch: 229, loss: 38.36792\n",
            "epoch: 230, loss: 37.97903\n",
            "epoch: 231, loss: 38.30299\n",
            "epoch: 232, loss: 38.32308\n",
            "epoch: 233, loss: 38.38575\n",
            "epoch: 234, loss: 38.29046\n",
            "epoch: 235, loss: 38.56147\n",
            "epoch: 236, loss: 38.22215\n",
            "epoch: 237, loss: 38.50834\n",
            "epoch: 238, loss: 38.39862\n",
            "epoch: 239, loss: 38.06254\n",
            "epoch: 240, loss: 38.19259\n",
            "epoch: 241, loss: 39.21666\n",
            "epoch: 242, loss: 38.19214\n",
            "epoch: 243, loss: 38.54587\n",
            "epoch: 244, loss: 38.26598\n",
            "epoch: 245, loss: 38.33322\n",
            "epoch: 246, loss: 38.10082\n",
            "epoch: 247, loss: 38.44626\n",
            "epoch: 248, loss: 38.66430\n",
            "epoch: 249, loss: 38.20975\n",
            "epoch: 250, loss: 38.18782\n",
            "epoch: 251, loss: 38.31262\n",
            "epoch: 252, loss: 38.01828\n",
            "epoch: 253, loss: 38.21774\n",
            "epoch: 254, loss: 38.86394\n",
            "epoch: 255, loss: 38.70729\n",
            "epoch: 256, loss: 38.22778\n",
            "epoch: 257, loss: 38.14111\n",
            "epoch: 258, loss: 38.23882\n",
            "epoch: 259, loss: 38.23419\n",
            "epoch: 260, loss: 38.47112\n",
            "epoch: 261, loss: 38.04532\n",
            "epoch: 262, loss: 38.17019\n",
            "epoch: 263, loss: 38.63892\n",
            "epoch: 264, loss: 38.23457\n",
            "epoch: 265, loss: 38.10808\n",
            "epoch: 266, loss: 38.51610\n",
            "epoch: 267, loss: 38.21566\n",
            "epoch: 268, loss: 38.60301\n",
            "epoch: 269, loss: 38.65275\n",
            "epoch: 270, loss: 38.33021\n",
            "epoch: 271, loss: 38.16164\n",
            "epoch: 272, loss: 37.90052\n",
            "epoch: 273, loss: 38.29519\n",
            "epoch: 274, loss: 38.53085\n",
            "epoch: 275, loss: 38.29161\n",
            "epoch: 276, loss: 38.23843\n",
            "epoch: 277, loss: 38.62555\n",
            "epoch: 278, loss: 38.49586\n",
            "epoch: 279, loss: 37.99987\n",
            "epoch: 280, loss: 38.45738\n",
            "epoch: 281, loss: 38.34347\n",
            "epoch: 282, loss: 38.53825\n",
            "epoch: 283, loss: 38.52253\n",
            "epoch: 284, loss: 38.01102\n",
            "epoch: 285, loss: 38.24605\n",
            "epoch: 286, loss: 37.98597\n",
            "epoch: 287, loss: 38.02233\n",
            "epoch: 288, loss: 38.42688\n",
            "epoch: 289, loss: 38.23438\n",
            "epoch: 290, loss: 38.20882\n",
            "epoch: 291, loss: 38.22739\n",
            "epoch: 292, loss: 38.64947\n",
            "epoch: 293, loss: 39.08480\n",
            "epoch: 294, loss: 38.27402\n",
            "epoch: 295, loss: 38.08199\n",
            "epoch: 296, loss: 38.28302\n",
            "epoch: 297, loss: 39.05222\n",
            "epoch: 298, loss: 38.27582\n",
            "epoch: 299, loss: 38.28460\n",
            "epoch: 300, loss: 38.43961\n",
            "epoch: 301, loss: 38.11246\n",
            "epoch: 302, loss: 38.39605\n",
            "epoch: 303, loss: 38.45779\n",
            "epoch: 304, loss: 38.41796\n",
            "epoch: 305, loss: 38.29378\n",
            "epoch: 306, loss: 38.42160\n",
            "epoch: 307, loss: 38.46575\n",
            "epoch: 308, loss: 38.12222\n",
            "epoch: 309, loss: 38.27303\n",
            "epoch: 310, loss: 38.07972\n",
            "epoch: 311, loss: 37.93256\n",
            "epoch: 312, loss: 38.80268\n",
            "epoch: 313, loss: 38.47130\n",
            "epoch: 314, loss: 38.08761\n",
            "epoch: 315, loss: 38.41185\n",
            "epoch: 316, loss: 38.23962\n",
            "epoch: 317, loss: 38.21532\n",
            "epoch: 318, loss: 38.05907\n",
            "epoch: 319, loss: 38.42619\n",
            "epoch: 320, loss: 38.29855\n",
            "epoch: 321, loss: 37.82241\n",
            "epoch: 322, loss: 38.49378\n",
            "epoch: 323, loss: 38.30150\n",
            "epoch: 324, loss: 38.90676\n",
            "epoch: 325, loss: 38.01887\n",
            "epoch: 326, loss: 38.00460\n",
            "epoch: 327, loss: 38.25924\n",
            "epoch: 328, loss: 38.01062\n",
            "epoch: 329, loss: 38.09340\n",
            "epoch: 330, loss: 38.00241\n",
            "epoch: 331, loss: 38.38547\n",
            "epoch: 332, loss: 38.39357\n",
            "epoch: 333, loss: 38.40025\n",
            "epoch: 334, loss: 38.72626\n",
            "epoch: 335, loss: 38.24223\n",
            "epoch: 336, loss: 38.82031\n",
            "epoch: 337, loss: 38.33606\n",
            "epoch: 338, loss: 38.32352\n",
            "epoch: 339, loss: 38.65711\n",
            "epoch: 340, loss: 38.56504\n",
            "epoch: 341, loss: 38.39603\n",
            "epoch: 342, loss: 38.36813\n",
            "epoch: 343, loss: 38.50175\n",
            "epoch: 344, loss: 38.01123\n",
            "epoch: 345, loss: 38.30329\n",
            "epoch: 346, loss: 38.07778\n",
            "epoch: 347, loss: 38.90060\n",
            "epoch: 348, loss: 38.47057\n",
            "epoch: 349, loss: 38.17572\n",
            "epoch: 350, loss: 37.96135\n",
            "epoch: 351, loss: 38.05424\n",
            "epoch: 352, loss: 38.11942\n",
            "epoch: 353, loss: 38.76342\n",
            "epoch: 354, loss: 38.83788\n",
            "epoch: 355, loss: 38.73495\n",
            "epoch: 356, loss: 38.27732\n",
            "epoch: 357, loss: 38.30190\n",
            "epoch: 358, loss: 38.58968\n",
            "epoch: 359, loss: 37.82466\n",
            "epoch: 360, loss: 38.60324\n",
            "epoch: 361, loss: 38.20582\n",
            "epoch: 362, loss: 38.32176\n",
            "epoch: 363, loss: 38.15947\n",
            "epoch: 364, loss: 39.20339\n",
            "epoch: 365, loss: 38.11739\n",
            "epoch: 366, loss: 39.33614\n",
            "epoch: 367, loss: 38.19875\n",
            "epoch: 368, loss: 38.57447\n",
            "epoch: 369, loss: 38.31500\n",
            "epoch: 370, loss: 38.23145\n",
            "epoch: 371, loss: 38.23353\n",
            "epoch: 372, loss: 38.33023\n",
            "epoch: 373, loss: 38.09167\n",
            "epoch: 374, loss: 38.93464\n",
            "epoch: 375, loss: 38.58242\n",
            "epoch: 376, loss: 38.28175\n",
            "epoch: 377, loss: 38.42747\n",
            "epoch: 378, loss: 37.94838\n",
            "epoch: 379, loss: 38.44159\n",
            "epoch: 380, loss: 38.58862\n",
            "epoch: 381, loss: 38.00394\n",
            "epoch: 382, loss: 38.95535\n",
            "epoch: 383, loss: 38.38474\n",
            "epoch: 384, loss: 38.99785\n",
            "epoch: 385, loss: 38.30121\n",
            "epoch: 386, loss: 37.99662\n",
            "epoch: 387, loss: 38.81718\n",
            "epoch: 388, loss: 38.39024\n",
            "epoch: 389, loss: 38.10094\n",
            "epoch: 390, loss: 37.98624\n",
            "epoch: 391, loss: 39.02428\n",
            "epoch: 392, loss: 38.21429\n",
            "epoch: 393, loss: 37.98016\n",
            "epoch: 394, loss: 39.20866\n",
            "epoch: 395, loss: 38.92818\n",
            "epoch: 396, loss: 38.83167\n",
            "epoch: 397, loss: 38.16004\n",
            "epoch: 398, loss: 38.38347\n",
            "epoch: 399, loss: 38.48245\n",
            "epoch: 400, loss: 38.36104\n",
            "epoch: 401, loss: 37.83851\n",
            "epoch: 402, loss: 38.37440\n",
            "epoch: 403, loss: 37.86617\n",
            "epoch: 404, loss: 37.94793\n",
            "epoch: 405, loss: 38.92779\n",
            "epoch: 406, loss: 38.67697\n",
            "epoch: 407, loss: 38.36718\n",
            "epoch: 408, loss: 39.17110\n",
            "epoch: 409, loss: 38.57832\n",
            "epoch: 410, loss: 38.20581\n",
            "epoch: 411, loss: 38.10126\n",
            "epoch: 412, loss: 38.45391\n",
            "epoch: 413, loss: 38.27173\n",
            "epoch: 414, loss: 38.14036\n",
            "epoch: 415, loss: 38.11891\n",
            "epoch: 416, loss: 38.37105\n",
            "epoch: 417, loss: 38.54846\n",
            "epoch: 418, loss: 38.68993\n",
            "epoch: 419, loss: 37.97005\n",
            "epoch: 420, loss: 38.27094\n",
            "epoch: 421, loss: 37.85853\n",
            "epoch: 422, loss: 37.89088\n",
            "epoch: 423, loss: 38.10647\n",
            "epoch: 424, loss: 37.85606\n",
            "epoch: 425, loss: 37.80246\n",
            "epoch: 426, loss: 38.88895\n",
            "epoch: 427, loss: 38.19346\n",
            "epoch: 428, loss: 38.35878\n",
            "epoch: 429, loss: 38.52652\n",
            "epoch: 430, loss: 38.63568\n",
            "epoch: 431, loss: 38.35289\n",
            "epoch: 432, loss: 39.29194\n",
            "epoch: 433, loss: 38.06866\n",
            "epoch: 434, loss: 38.23813\n",
            "epoch: 435, loss: 39.18368\n",
            "epoch: 436, loss: 38.59576\n",
            "epoch: 437, loss: 38.30634\n",
            "epoch: 438, loss: 39.36821\n",
            "epoch: 439, loss: 38.43118\n",
            "epoch: 440, loss: 38.09124\n",
            "epoch: 441, loss: 38.00169\n",
            "epoch: 442, loss: 38.51500\n",
            "epoch: 443, loss: 38.27488\n",
            "epoch: 444, loss: 37.77014\n",
            "epoch: 445, loss: 38.40116\n",
            "epoch: 446, loss: 39.14964\n",
            "epoch: 447, loss: 38.44958\n",
            "epoch: 448, loss: 37.94068\n",
            "epoch: 449, loss: 38.09941\n",
            "epoch: 450, loss: 37.94833\n",
            "epoch: 451, loss: 37.88331\n",
            "epoch: 452, loss: 38.43835\n",
            "epoch: 453, loss: 38.24885\n",
            "epoch: 454, loss: 38.55965\n",
            "epoch: 455, loss: 38.46736\n",
            "epoch: 456, loss: 39.49315\n",
            "epoch: 457, loss: 38.78717\n",
            "epoch: 458, loss: 38.54508\n",
            "epoch: 459, loss: 38.14217\n",
            "epoch: 460, loss: 37.84340\n",
            "epoch: 461, loss: 37.99859\n",
            "epoch: 462, loss: 38.91977\n",
            "epoch: 463, loss: 38.37460\n",
            "epoch: 464, loss: 37.76459\n",
            "epoch: 465, loss: 38.11447\n",
            "epoch: 466, loss: 37.96407\n",
            "epoch: 467, loss: 37.90845\n",
            "epoch: 468, loss: 38.23125\n",
            "epoch: 469, loss: 38.67177\n",
            "epoch: 470, loss: 38.44672\n",
            "epoch: 471, loss: 38.09374\n",
            "epoch: 472, loss: 37.99385\n",
            "epoch: 473, loss: 38.76799\n",
            "epoch: 474, loss: 39.21796\n",
            "epoch: 475, loss: 37.92767\n",
            "epoch: 476, loss: 38.29246\n",
            "epoch: 477, loss: 38.04719\n",
            "epoch: 478, loss: 38.28439\n",
            "epoch: 479, loss: 37.66365\n",
            "epoch: 480, loss: 37.78383\n",
            "epoch: 481, loss: 38.16341\n",
            "epoch: 482, loss: 37.42178\n",
            "epoch: 483, loss: 38.63681\n",
            "epoch: 484, loss: 39.02018\n",
            "epoch: 485, loss: 38.38633\n",
            "epoch: 486, loss: 38.40736\n",
            "epoch: 487, loss: 38.43065\n",
            "epoch: 488, loss: 38.02537\n",
            "epoch: 489, loss: 37.69279\n",
            "epoch: 490, loss: 37.98679\n",
            "epoch: 491, loss: 38.33591\n",
            "epoch: 492, loss: 38.56416\n",
            "epoch: 493, loss: 37.53517\n",
            "epoch: 494, loss: 38.57365\n",
            "epoch: 495, loss: 37.89109\n",
            "epoch: 496, loss: 37.52577\n",
            "epoch: 497, loss: 38.16618\n",
            "epoch: 498, loss: 38.61423\n",
            "epoch: 499, loss: 39.04831\n"
          ]
        }
      ],
      "source": [
        "device = 'cuda' if torch.cuda.is_available() else 'cpu'\n",
        "model.to(device)\n",
        "\n",
        "for epoch in range(500):\n",
        "    total_loss = 0\n",
        "\n",
        "    for x0,x1 in train_dl:\n",
        "        x0 = x0.to(device)\n",
        "        x1 = x1.to(device)\n",
        "        _,z0 = model(x0)\n",
        "        _,z1 = model(x1)\n",
        "\n",
        "        loss = criterion(z0, z1)\n",
        "        total_loss += loss.detach()\n",
        "        loss.backward()\n",
        "\n",
        "        optimizer.step()\n",
        "        optimizer.zero_grad()\n",
        "        scheduler.step()\n",
        "\n",
        "    avg_loss = total_loss / len(train_dl)\n",
        "    print(f\"epoch: {epoch:>02}, loss: {avg_loss:.5f}\")"
      ]
    },
    {
      "cell_type": "markdown",
      "metadata": {
        "id": "gP9q1mKoOa54"
      },
      "source": [
        "##Check the Training Result"
      ]
    },
    {
      "cell_type": "code",
      "execution_count": 27,
      "metadata": {
        "id": "tFJTq7KjgZQK"
      },
      "outputs": [],
      "source": [
        "ds_cl= MyDataSet(X_ds, X_ds)\n",
        "dl_cl = DataLoader(ds_cl, batch_size=256)"
      ]
    },
    {
      "cell_type": "code",
      "execution_count": 28,
      "metadata": {
        "id": "JonEPXjEEMfS"
      },
      "outputs": [],
      "source": [
        "embeddings = []\n",
        "\n",
        "# disable gradients for faster calculations\n",
        "model.eval()\n",
        "with torch.no_grad():\n",
        "    for dl_cl1, dl_cl2 in dl_cl:\n",
        "\n",
        "        dl_cl1 = dl_cl1.to(device)\n",
        "        x,z = model(dl_cl1)\n",
        "        \n",
        "        # store the embeddings in lists\n",
        "        embeddings.append(x)\n",
        "\n",
        "# concatenate the embeddings, targets and convert to numpy\n",
        "embeddings = torch.cat(embeddings, dim=0)\n",
        "embeddings = embeddings.cpu().numpy()"
      ]
    },
    {
      "cell_type": "code",
      "execution_count": 29,
      "metadata": {
        "id": "WYm55Kzrxtuh"
      },
      "outputs": [],
      "source": [
        "test = (embeddings - embeddings.mean(axis=0)) / (embeddings.std(axis=0))"
      ]
    },
    {
      "cell_type": "code",
      "execution_count": 30,
      "metadata": {
        "id": "8hjHslrXcfs1"
      },
      "outputs": [],
      "source": [
        "#KMeans in latent space\n",
        "kmeans_backbone = KMeans(n_clusters=4).fit(test)\n",
        "kmeans_labels_backbone = kmeans_backbone.labels_"
      ]
    },
    {
      "cell_type": "code",
      "execution_count": 31,
      "metadata": {
        "colab": {
          "base_uri": "https://localhost:8080/"
        },
        "id": "eSL9AYi68PzG",
        "outputId": "3f0f6630-c5e7-4350-ff57-e04d473035e1"
      },
      "outputs": [
        {
          "data": {
            "text/plain": [
              "0.5205776345881814"
            ]
          },
          "execution_count": 31,
          "metadata": {},
          "output_type": "execute_result"
        }
      ],
      "source": [
        "normalized_mutual_info_score(kmeans_labels_backbone, y_ds)"
      ]
    },
    {
      "cell_type": "code",
      "execution_count": 32,
      "metadata": {
        "colab": {
          "base_uri": "https://localhost:8080/",
          "height": 265
        },
        "id": "fKs0YKIJAfTt",
        "outputId": "d73c99c0-c0bd-48fa-cd8a-9f64bfc9b27d"
      },
      "outputs": [
        {
          "data": {
            "image/png": "[encoded data removed]",
            "text/plain": [
              "<Figure size 432x288 with 1 Axes>"
            ]
          },
          "metadata": {
            "needs_background": "light"
          },
          "output_type": "display_data"
        }
      ],
      "source": [
        "colors = ['blue', 'orange', 'green', 'red']\n",
        "plt.scatter(test[:, 0], test[:, 1], s=0.55, c=kmeans_labels_backbone, cmap=matplotlib.colors.ListedColormap(colors))\n",
        "plt.show()"
      ]
    },
    {
      "cell_type": "code",
      "execution_count": 33,
      "metadata": {
        "colab": {
          "base_uri": "https://localhost:8080/",
          "height": 265
        },
        "id": "3zjco3JZCHBD",
        "outputId": "ea9eafd1-e3c1-4583-fa82-d0c06c82a1c7"
      },
      "outputs": [
        {
          "data": {
            "image/png": "[encoded data removed]",
            "text/plain": [
              "<Figure size 432x288 with 1 Axes>"
            ]
          },
          "metadata": {
            "needs_background": "light"
          },
          "output_type": "display_data"
        }
      ],
      "source": [
        "colors = ['blue', 'orange', 'green', 'red']\n",
        "plt.scatter(test[:, 0], test[:, 1], s=0.55, c=y_ds, cmap=matplotlib.colors.ListedColormap(colors))\n",
        "plt.show()"
      ]
    },
    {
      "cell_type": "code",
      "execution_count": 34,
      "metadata": {
        "id": "TfoMwpddbHuu"
      },
      "outputs": [],
      "source": [
        "#NMI increases from 0.67 to 0.52"
      ]
    }
  ],
  "metadata": {
    "colab": {
      "collapsed_sections": [],
      "name": "Experiment_zelnik_syn_BarlowTwins.ipynb",
      "provenance": []
    },
    "kernelspec": {
      "display_name": "Python 3",
      "name": "python3"
    },
    "language_info": {
      "name": "python"
    }
  },
  "nbformat": 4,
  "nbformat_minor": 0
}
