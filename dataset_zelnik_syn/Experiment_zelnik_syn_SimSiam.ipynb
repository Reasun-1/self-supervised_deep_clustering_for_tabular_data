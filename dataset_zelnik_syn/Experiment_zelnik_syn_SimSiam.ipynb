{
  "nbformat": 4,
  "nbformat_minor": 0,
  "metadata": {
    "colab": {
      "name": "Experiment_zelnik_syn_SimCLR.ipynb",
      "provenance": []
    },
    "kernelspec": {
      "name": "python3",
      "display_name": "Python 3"
    },
    "language_info": {
      "name": "python"
    }
  },
  "cells": [
    {
      "cell_type": "code",
      "execution_count": null,
      "metadata": {
        "id": "K-zA3cnX-bBb"
      },
      "outputs": [],
      "source": [
        ""
      ]
    },
    {
      "cell_type": "markdown",
      "source": [
        "## Conifuration"
      ],
      "metadata": {
        "id": "yclVA5qcDxcs"
      }
    },
    {
      "cell_type": "code",
      "execution_count": 1,
      "metadata": {
        "colab": {
          "base_uri": "https://localhost:8080/",
          "height": 1000
        },
        "id": "lpTeHV5f6RDe",
        "outputId": "9f25c5c2-fb1b-4a50-8c77-b4e60d57cd99"
      },
      "outputs": [
        {
          "output_type": "stream",
          "name": "stdout",
          "text": [
            "Looking in indexes: https://pypi.org/simple, https://us-python.pkg.dev/colab-wheels/public/simple/\n",
            "Collecting lightly\n",
            "  Downloading lightly-1.2.22-py3-none-any.whl (458 kB)\n",
            "\u001b[K     |████████████████████████████████| 458 kB 10.1 MB/s \n",
            "\u001b[?25hRequirement already satisfied: requests>=2.23.0 in /usr/local/lib/python3.7/dist-packages (from lightly) (2.23.0)\n",
            "Requirement already satisfied: torchvision in /usr/local/lib/python3.7/dist-packages (from lightly) (0.12.0+cu113)\n",
            "Requirement already satisfied: setuptools>=21.0.0 in /usr/local/lib/python3.7/dist-packages (from lightly) (57.4.0)\n",
            "Requirement already satisfied: urllib3>=1.15.1 in /usr/local/lib/python3.7/dist-packages (from lightly) (1.24.3)\n",
            "Collecting lightly-utils~=0.0.0\n",
            "  Downloading lightly_utils-0.0.2-py3-none-any.whl (6.4 kB)\n",
            "Requirement already satisfied: certifi>=14.05.14 in /usr/local/lib/python3.7/dist-packages (from lightly) (2022.6.15)\n",
            "Requirement already satisfied: six>=1.10 in /usr/local/lib/python3.7/dist-packages (from lightly) (1.15.0)\n",
            "Requirement already satisfied: python-dateutil>=2.5.3 in /usr/local/lib/python3.7/dist-packages (from lightly) (2.8.2)\n",
            "Requirement already satisfied: numpy>=1.18.1 in /usr/local/lib/python3.7/dist-packages (from lightly) (1.21.6)\n",
            "Collecting pytorch-lightning>=1.0.4\n",
            "  Downloading pytorch_lightning-1.6.4-py3-none-any.whl (585 kB)\n",
            "\u001b[K     |████████████████████████████████| 585 kB 33.5 MB/s \n",
            "\u001b[?25hCollecting hydra-core>=1.0.0\n",
            "  Downloading hydra_core-1.2.0-py3-none-any.whl (151 kB)\n",
            "\u001b[K     |████████████████████████████████| 151 kB 17.4 MB/s \n",
            "\u001b[?25hRequirement already satisfied: tqdm>=4.44 in /usr/local/lib/python3.7/dist-packages (from lightly) (4.64.0)\n",
            "Collecting antlr4-python3-runtime==4.9.*\n",
            "  Downloading antlr4-python3-runtime-4.9.3.tar.gz (117 kB)\n",
            "\u001b[K     |████████████████████████████████| 117 kB 38.8 MB/s \n",
            "\u001b[?25hRequirement already satisfied: packaging in /usr/local/lib/python3.7/dist-packages (from hydra-core>=1.0.0->lightly) (21.3)\n",
            "Collecting omegaconf~=2.2\n",
            "  Downloading omegaconf-2.2.2-py3-none-any.whl (79 kB)\n",
            "\u001b[K     |████████████████████████████████| 79 kB 3.9 MB/s \n",
            "\u001b[?25hRequirement already satisfied: importlib-resources in /usr/local/lib/python3.7/dist-packages (from hydra-core>=1.0.0->lightly) (5.7.1)\n",
            "Requirement already satisfied: Pillow in /usr/local/lib/python3.7/dist-packages (from lightly-utils~=0.0.0->lightly) (7.1.2)\n",
            "Collecting PyYAML>=5.1.0\n",
            "  Downloading PyYAML-6.0-cp37-cp37m-manylinux_2_5_x86_64.manylinux1_x86_64.manylinux_2_12_x86_64.manylinux2010_x86_64.whl (596 kB)\n",
            "\u001b[K     |████████████████████████████████| 596 kB 40.2 MB/s \n",
            "\u001b[?25hRequirement already satisfied: typing-extensions>=4.0.0 in /usr/local/lib/python3.7/dist-packages (from pytorch-lightning>=1.0.4->lightly) (4.1.1)\n",
            "Requirement already satisfied: torch>=1.8.* in /usr/local/lib/python3.7/dist-packages (from pytorch-lightning>=1.0.4->lightly) (1.11.0+cu113)\n",
            "Collecting pyDeprecate>=0.3.1\n",
            "  Downloading pyDeprecate-0.3.2-py3-none-any.whl (10 kB)\n",
            "Collecting fsspec[http]!=2021.06.0,>=2021.05.0\n",
            "  Downloading fsspec-2022.5.0-py3-none-any.whl (140 kB)\n",
            "\u001b[K     |████████████████████████████████| 140 kB 43.2 MB/s \n",
            "\u001b[?25hCollecting torchmetrics>=0.4.1\n",
            "  Downloading torchmetrics-0.9.2-py3-none-any.whl (419 kB)\n",
            "\u001b[K     |████████████████████████████████| 419 kB 45.4 MB/s \n",
            "\u001b[?25hRequirement already satisfied: tensorboard>=2.2.0 in /usr/local/lib/python3.7/dist-packages (from pytorch-lightning>=1.0.4->lightly) (2.8.0)\n",
            "Requirement already satisfied: protobuf<=3.20.1 in /usr/local/lib/python3.7/dist-packages (from pytorch-lightning>=1.0.4->lightly) (3.17.3)\n",
            "Collecting aiohttp\n",
            "  Downloading aiohttp-3.8.1-cp37-cp37m-manylinux_2_5_x86_64.manylinux1_x86_64.manylinux_2_12_x86_64.manylinux2010_x86_64.whl (1.1 MB)\n",
            "\u001b[K     |████████████████████████████████| 1.1 MB 45.3 MB/s \n",
            "\u001b[?25hRequirement already satisfied: pyparsing!=3.0.5,>=2.0.2 in /usr/local/lib/python3.7/dist-packages (from packaging->hydra-core>=1.0.0->lightly) (3.0.9)\n",
            "Requirement already satisfied: idna<3,>=2.5 in /usr/local/lib/python3.7/dist-packages (from requests>=2.23.0->lightly) (2.10)\n",
            "Requirement already satisfied: chardet<4,>=3.0.2 in /usr/local/lib/python3.7/dist-packages (from requests>=2.23.0->lightly) (3.0.4)\n",
            "Requirement already satisfied: werkzeug>=0.11.15 in /usr/local/lib/python3.7/dist-packages (from tensorboard>=2.2.0->pytorch-lightning>=1.0.4->lightly) (1.0.1)\n",
            "Requirement already satisfied: tensorboard-plugin-wit>=1.6.0 in /usr/local/lib/python3.7/dist-packages (from tensorboard>=2.2.0->pytorch-lightning>=1.0.4->lightly) (1.8.1)\n",
            "Requirement already satisfied: absl-py>=0.4 in /usr/local/lib/python3.7/dist-packages (from tensorboard>=2.2.0->pytorch-lightning>=1.0.4->lightly) (1.1.0)\n",
            "Requirement already satisfied: google-auth<3,>=1.6.3 in /usr/local/lib/python3.7/dist-packages (from tensorboard>=2.2.0->pytorch-lightning>=1.0.4->lightly) (1.35.0)\n",
            "Requirement already satisfied: tensorboard-data-server<0.7.0,>=0.6.0 in /usr/local/lib/python3.7/dist-packages (from tensorboard>=2.2.0->pytorch-lightning>=1.0.4->lightly) (0.6.1)\n",
            "Requirement already satisfied: grpcio>=1.24.3 in /usr/local/lib/python3.7/dist-packages (from tensorboard>=2.2.0->pytorch-lightning>=1.0.4->lightly) (1.46.3)\n",
            "Requirement already satisfied: google-auth-oauthlib<0.5,>=0.4.1 in /usr/local/lib/python3.7/dist-packages (from tensorboard>=2.2.0->pytorch-lightning>=1.0.4->lightly) (0.4.6)\n",
            "Requirement already satisfied: wheel>=0.26 in /usr/local/lib/python3.7/dist-packages (from tensorboard>=2.2.0->pytorch-lightning>=1.0.4->lightly) (0.37.1)\n",
            "Requirement already satisfied: markdown>=2.6.8 in /usr/local/lib/python3.7/dist-packages (from tensorboard>=2.2.0->pytorch-lightning>=1.0.4->lightly) (3.3.7)\n",
            "Requirement already satisfied: rsa<5,>=3.1.4 in /usr/local/lib/python3.7/dist-packages (from google-auth<3,>=1.6.3->tensorboard>=2.2.0->pytorch-lightning>=1.0.4->lightly) (4.8)\n",
            "Requirement already satisfied: cachetools<5.0,>=2.0.0 in /usr/local/lib/python3.7/dist-packages (from google-auth<3,>=1.6.3->tensorboard>=2.2.0->pytorch-lightning>=1.0.4->lightly) (4.2.4)\n",
            "Requirement already satisfied: pyasn1-modules>=0.2.1 in /usr/local/lib/python3.7/dist-packages (from google-auth<3,>=1.6.3->tensorboard>=2.2.0->pytorch-lightning>=1.0.4->lightly) (0.2.8)\n",
            "Requirement already satisfied: requests-oauthlib>=0.7.0 in /usr/local/lib/python3.7/dist-packages (from google-auth-oauthlib<0.5,>=0.4.1->tensorboard>=2.2.0->pytorch-lightning>=1.0.4->lightly) (1.3.1)\n",
            "Requirement already satisfied: importlib-metadata>=4.4 in /usr/local/lib/python3.7/dist-packages (from markdown>=2.6.8->tensorboard>=2.2.0->pytorch-lightning>=1.0.4->lightly) (4.11.4)\n",
            "Requirement already satisfied: zipp>=0.5 in /usr/local/lib/python3.7/dist-packages (from importlib-metadata>=4.4->markdown>=2.6.8->tensorboard>=2.2.0->pytorch-lightning>=1.0.4->lightly) (3.8.0)\n",
            "Requirement already satisfied: pyasn1<0.5.0,>=0.4.6 in /usr/local/lib/python3.7/dist-packages (from pyasn1-modules>=0.2.1->google-auth<3,>=1.6.3->tensorboard>=2.2.0->pytorch-lightning>=1.0.4->lightly) (0.4.8)\n",
            "Requirement already satisfied: oauthlib>=3.0.0 in /usr/local/lib/python3.7/dist-packages (from requests-oauthlib>=0.7.0->google-auth-oauthlib<0.5,>=0.4.1->tensorboard>=2.2.0->pytorch-lightning>=1.0.4->lightly) (3.2.0)\n",
            "Requirement already satisfied: attrs>=17.3.0 in /usr/local/lib/python3.7/dist-packages (from aiohttp->fsspec[http]!=2021.06.0,>=2021.05.0->pytorch-lightning>=1.0.4->lightly) (21.4.0)\n",
            "Requirement already satisfied: charset-normalizer<3.0,>=2.0 in /usr/local/lib/python3.7/dist-packages (from aiohttp->fsspec[http]!=2021.06.0,>=2021.05.0->pytorch-lightning>=1.0.4->lightly) (2.0.12)\n",
            "Collecting frozenlist>=1.1.1\n",
            "  Downloading frozenlist-1.3.0-cp37-cp37m-manylinux_2_5_x86_64.manylinux1_x86_64.manylinux_2_17_x86_64.manylinux2014_x86_64.whl (144 kB)\n",
            "\u001b[K     |████████████████████████████████| 144 kB 52.9 MB/s \n",
            "\u001b[?25hCollecting yarl<2.0,>=1.0\n",
            "  Downloading yarl-1.7.2-cp37-cp37m-manylinux_2_5_x86_64.manylinux1_x86_64.manylinux_2_12_x86_64.manylinux2010_x86_64.whl (271 kB)\n",
            "\u001b[K     |████████████████████████████████| 271 kB 60.4 MB/s \n",
            "\u001b[?25hCollecting multidict<7.0,>=4.5\n",
            "  Downloading multidict-6.0.2-cp37-cp37m-manylinux_2_17_x86_64.manylinux2014_x86_64.whl (94 kB)\n",
            "\u001b[K     |████████████████████████████████| 94 kB 2.2 MB/s \n",
            "\u001b[?25hCollecting async-timeout<5.0,>=4.0.0a3\n",
            "  Downloading async_timeout-4.0.2-py3-none-any.whl (5.8 kB)\n",
            "Collecting aiosignal>=1.1.2\n",
            "  Downloading aiosignal-1.2.0-py3-none-any.whl (8.2 kB)\n",
            "Collecting asynctest==0.13.0\n",
            "  Downloading asynctest-0.13.0-py3-none-any.whl (26 kB)\n",
            "Building wheels for collected packages: antlr4-python3-runtime\n",
            "  Building wheel for antlr4-python3-runtime (setup.py) ... \u001b[?25l\u001b[?25hdone\n",
            "  Created wheel for antlr4-python3-runtime: filename=antlr4_python3_runtime-4.9.3-py3-none-any.whl size=144575 sha256=cd4f3b5a75c27e883f9984bda1f85163e4dec607928149a76f36bc7b5c152d2e\n",
            "  Stored in directory: /root/.cache/pip/wheels/8b/8d/53/2af8772d9aec614e3fc65e53d4a993ad73c61daa8bbd85a873\n",
            "Successfully built antlr4-python3-runtime\n",
            "Installing collected packages: multidict, frozenlist, yarl, asynctest, async-timeout, aiosignal, PyYAML, fsspec, antlr4-python3-runtime, aiohttp, torchmetrics, pyDeprecate, omegaconf, pytorch-lightning, lightly-utils, hydra-core, lightly\n",
            "  Attempting uninstall: PyYAML\n",
            "    Found existing installation: PyYAML 3.13\n",
            "    Uninstalling PyYAML-3.13:\n",
            "      Successfully uninstalled PyYAML-3.13\n",
            "Successfully installed PyYAML-6.0 aiohttp-3.8.1 aiosignal-1.2.0 antlr4-python3-runtime-4.9.3 async-timeout-4.0.2 asynctest-0.13.0 frozenlist-1.3.0 fsspec-2022.5.0 hydra-core-1.2.0 lightly-1.2.22 lightly-utils-0.0.2 multidict-6.0.2 omegaconf-2.2.2 pyDeprecate-0.3.2 pytorch-lightning-1.6.4 torchmetrics-0.9.2 yarl-1.7.2\n"
          ]
        },
        {
          "output_type": "display_data",
          "data": {
            "application/vnd.colab-display-data+json": {
              "pip_warning": {
                "packages": [
                  "pydevd_plugins"
                ]
              }
            }
          },
          "metadata": {}
        }
      ],
      "source": [
        "#import the lib for contrastive learning framework\n",
        "!pip install lightly"
      ]
    },
    {
      "cell_type": "code",
      "execution_count": 2,
      "metadata": {
        "id": "eFdQeuUd6HEf"
      },
      "outputs": [],
      "source": [
        "import lightly\n",
        "from lightly.models.modules.heads import SimSiamPredictionHead\n",
        "from lightly.models.modules.heads import SimSiamProjectionHead\n",
        "\n",
        "from lightly.data import LightlyDataset\n",
        "from lightly.data import ImageCollateFunction\n",
        "from lightly.models.modules import BarlowTwinsProjectionHead\n",
        "from lightly.loss import BarlowTwinsLoss\n",
        "\n",
        "from lightly.data import LightlyDataset\n",
        "from lightly.data import SimCLRCollateFunction\n",
        "from lightly.loss import NTXentLoss\n",
        "from lightly.loss import NegativeCosineSimilarity\n",
        "from lightly.models.modules import SimCLRProjectionHead"
      ]
    },
    {
      "cell_type": "code",
      "execution_count": 3,
      "metadata": {
        "id": "6QpWyfxuMr_3"
      },
      "outputs": [],
      "source": [
        "import math\n",
        "import torch\n",
        "import torch.nn as nn\n",
        "import torchvision\n",
        "import pandas as pd\n",
        "import numpy as np\n",
        "from collections import Counter\n",
        "from sklearn.model_selection import train_test_split\n",
        "from sklearn.preprocessing import LabelEncoder\n",
        "from sklearn.preprocessing import StandardScaler\n",
        "\n",
        "from torch.utils.data import Dataset, DataLoader\n",
        "import torch.optim as torch_optim\n",
        "import torch.optim.lr_scheduler as lr_scheduler\n",
        "import torch.nn as nn\n",
        "import torch.nn.functional as F\n",
        "from torchvision import models\n",
        "from datetime import datetime\n",
        "\n",
        "from numpy import unique\n",
        "from numpy import where\n",
        "from sklearn.datasets import make_classification\n",
        "from sklearn.cluster import DBSCAN\n",
        "from sklearn.cluster import KMeans\n",
        "from sklearn.cluster import SpectralClustering\n",
        "from matplotlib import pyplot\n",
        "import seaborn as sns\n",
        "\n",
        "from sklearn.metrics.cluster import normalized_mutual_info_score\n",
        "from sklearn.metrics.cluster import adjusted_mutual_info_score\n",
        "from sklearn.metrics import silhouette_score\n",
        "from sklearn import mixture\n",
        "from sklearn.cluster import DBSCAN\n",
        "from sklearn.cluster import OPTICS\n",
        "from sklearn.cluster import AgglomerativeClustering\n",
        "\n",
        "import tensorboard\n",
        "from tensorboard import notebook\n",
        "from torch.utils.tensorboard import SummaryWriter\n",
        "\n",
        "import matplotlib \n",
        "import matplotlib.pyplot as plt\n",
        "#import plotly.express as px\n",
        "\n",
        "from sklearn.manifold import TSNE\n",
        "from sklearn.decomposition import PCA\n",
        "\n",
        "from sklearn.datasets import make_blobs\n",
        "from sklearn.datasets import make_moons\n",
        "from sklearn.utils import shuffle\n",
        "\n",
        "import torchvision.transforms as transforms\n",
        "import torchvision.datasets as datasets\n",
        "from sklearn.metrics.pairwise import cosine_similarity\n",
        "\n",
        "import random\n",
        "from torch.nn.modules.loss import MSELoss\n",
        "from sklearn.neighbors import KDTree\n",
        "#from kmodes.kprototypes import KPrototypes\n",
        "\n",
        "from scipy.io.arff import loadarff\n",
        "from sklearn.preprocessing import MinMaxScaler \n",
        "from sklearn.datasets import make_classification"
      ]
    },
    {
      "cell_type": "markdown",
      "source": [
        "## Load Dataset Zelnik and Check Clustering Result with the Baseline Method Kmeans"
      ],
      "metadata": {
        "id": "r8Uf1cXQEbyp"
      }
    },
    {
      "cell_type": "code",
      "execution_count": 5,
      "metadata": {
        "id": "MYmlFY_u6HEm"
      },
      "outputs": [],
      "source": [
        "# set the path to the dataset\n",
        "path_to_data = '/content/drive/MyDrive/Colab_Notebooks/zelnik5.arff'"
      ]
    },
    {
      "cell_type": "code",
      "source": [
        "raw = loadarff(path_to_data)\n",
        "data = pd.DataFrame(raw[0])"
      ],
      "metadata": {
        "id": "cx8MlPX9k2oh"
      },
      "execution_count": 6,
      "outputs": []
    },
    {
      "cell_type": "code",
      "execution_count": 7,
      "metadata": {
        "id": "nSREjuRwanGT"
      },
      "outputs": [],
      "source": [
        "X_ds = data.copy()\n",
        "X_ds = X_ds.drop(['CLASS'], axis=1)\n",
        "X_ds = pd.DataFrame(X_ds).to_numpy()\n",
        "\n",
        "y_ds = data.copy()\n",
        "y_ds = y_ds['CLASS']"
      ]
    },
    {
      "cell_type": "code",
      "execution_count": 8,
      "metadata": {
        "id": "hfATCbTCR0bC"
      },
      "outputs": [],
      "source": [
        "y_ds = LabelEncoder().fit_transform(y_ds)"
      ]
    },
    {
      "cell_type": "code",
      "source": [
        "colors = ['blue', 'orange', 'green', 'red']\n",
        "plt.scatter(X_ds[:, 0], X_ds[:, 1], s=0.25, c=y_ds, cmap=matplotlib.colors.ListedColormap(colors))\n",
        "plt.show()"
      ],
      "metadata": {
        "id": "aT_qS-Fl4EfY",
        "outputId": "485be51f-a473-4bf3-b9ec-eb89424f2f5a",
        "colab": {
          "base_uri": "https://localhost:8080/",
          "height": 265
        }
      },
      "execution_count": 10,
      "outputs": [
        {
          "output_type": "display_data",
          "data": {
            "text/plain": [
              "<Figure size 432x288 with 1 Axes>"
            ],
            "image/png": "[encoded data removed]"
          },
          "metadata": {
            "needs_background": "light"
          }
        }
      ]
    },
    {
      "cell_type": "code",
      "execution_count": 11,
      "metadata": {
        "id": "lLHJfC3oZAWx",
        "colab": {
          "base_uri": "https://localhost:8080/"
        },
        "outputId": "e9248f93-a05c-4f48-bedd-38a127d92cbe"
      },
      "outputs": [
        {
          "output_type": "execute_result",
          "data": {
            "text/plain": [
              "0.6725209657899904"
            ]
          },
          "metadata": {},
          "execution_count": 11
        }
      ],
      "source": [
        "#check the clustering result with Kmeans\n",
        "kmeans_ori = KMeans(n_clusters=4).fit(X_ds)\n",
        "kmeans_labels_ori = kmeans_ori.labels_\n",
        "\n",
        "normalized_mutual_info_score(kmeans_labels_ori, y_ds)"
      ]
    },
    {
      "cell_type": "code",
      "source": [
        "colors = ['blue', 'orange', 'green', 'red']\n",
        "plt.scatter(X_ds[:, 0], X_ds[:, 1], s=0.25, c=kmeans_labels_ori, cmap=matplotlib.colors.ListedColormap(colors))\n",
        "plt.show()"
      ],
      "metadata": {
        "outputId": "69701ea2-7782-4b12-daf2-2e2992e7b135",
        "colab": {
          "base_uri": "https://localhost:8080/",
          "height": 265
        },
        "id": "7iFLGYp9_3fa"
      },
      "execution_count": 12,
      "outputs": [
        {
          "output_type": "display_data",
          "data": {
            "text/plain": [
              "<Figure size 432x288 with 1 Axes>"
            ],
            "image/png": "[encoded data removed]"
          },
          "metadata": {
            "needs_background": "light"
          }
        }
      ]
    },
    {
      "cell_type": "markdown",
      "source": [
        "## Data Augmentation"
      ],
      "metadata": {
        "id": "cR6Lx66iF5Qw"
      }
    },
    {
      "cell_type": "markdown",
      "source": [
        "####MixUp"
      ],
      "metadata": {
        "id": "tO72X3KYICDE"
      }
    },
    {
      "cell_type": "code",
      "source": [
        "def mixup(data):\n",
        "  view = data.copy()\n",
        "  for i in range(len(view)):\n",
        "    random_row_index = random.randint(0, len(view)-1)\n",
        "    view[i] = view[i]*0.5  + view[random_row_index]*0.5\n",
        "  return view"
      ],
      "metadata": {
        "id": "OZVKCFBEF6sQ"
      },
      "execution_count": 13,
      "outputs": []
    },
    {
      "cell_type": "markdown",
      "source": [
        "####MixCut"
      ],
      "metadata": {
        "id": "CM4yTA-vIbh3"
      }
    },
    {
      "cell_type": "code",
      "source": [
        "def mixcut(data):\n",
        "  data_copy = data.copy()\n",
        "  view = data.copy()\n",
        "  mask_len = 100\n",
        "\n",
        "  for i in range(len(data_copy)):\n",
        "    random_row_id = random.randint(0, len(data_copy)-1)\n",
        "    random_column_id = random.randint(0, data_copy.shape[1]-mask_len)\n",
        "    view[i,random_column_id:(random_column_id+mask_len)] = data_copy[random_row_id,random_column_id:(random_column_id+mask_len)]\n",
        "  return view"
      ],
      "metadata": {
        "id": "bR2wqE9KIcvn"
      },
      "execution_count": 14,
      "outputs": []
    },
    {
      "cell_type": "markdown",
      "source": [
        "#### Masking with mean"
      ],
      "metadata": {
        "id": "LWUnCGGYJI3T"
      }
    },
    {
      "cell_type": "code",
      "execution_count": 15,
      "metadata": {
        "id": "YsZovZZ7ZcNc"
      },
      "outputs": [],
      "source": [
        "def get_random_indices(data, portion_of_mask):\n",
        "  return np.random.choice(data.shape[1], size=np.floor(data.shape[1]*portion_of_mask).astype(int), replace=False)"
      ]
    },
    {
      "cell_type": "code",
      "execution_count": 16,
      "metadata": {
        "id": "4wKjI9VvMGzg"
      },
      "outputs": [],
      "source": [
        "def masking_with_mean(data, portion_of_mask):\n",
        "  mean = np.mean(data, axis=0)\n",
        "  column_mu = np.mean(data, axis=0)\n",
        "  column_std = np.std(data, axis=0)\n",
        "\n",
        "  view = data.copy()\n",
        "\n",
        "  for i in range(len(data)): \n",
        "    masked_indices = get_random_indices(data, portion_of_mask)\n",
        "   \n",
        "    for j in range(len(mean)):\n",
        "      if j in masked_indices:\n",
        "        view[i,j] = column_mu[j]\n",
        "              \n",
        "  return view"
      ]
    },
    {
      "cell_type": "markdown",
      "source": [
        "####Masking with random value in domain range"
      ],
      "metadata": {
        "id": "hsByPxdTKFEQ"
      }
    },
    {
      "cell_type": "code",
      "execution_count": 17,
      "metadata": {
        "id": "WwNS_odMKNIJ"
      },
      "outputs": [],
      "source": [
        "def masking_with_random(data, portion_of_mask):\n",
        "  mean = np.mean(data, axis=0)\n",
        "  column_mu = np.mean(data, axis=0)\n",
        "  column_std = np.std(data, axis=0)\n",
        "  column_min = np.minimum(data)\n",
        "  column_max = np.maximum(data)\n",
        "\n",
        "  view = data.copy()\n",
        "\n",
        "  for i in range(len(data)): \n",
        "    masked_indices = get_random_indices(data, portion_of_mask)\n",
        "   \n",
        "    for j in range(len(mean)):\n",
        "      if j in masked_indices:\n",
        "        view[i,j] = random.randint(column_min[j], column_max[j])\n",
        "              \n",
        "  return view"
      ]
    },
    {
      "cell_type": "markdown",
      "source": [
        "####Masking with margin distribution"
      ],
      "metadata": {
        "id": "DdMnRe_oLaP0"
      }
    },
    {
      "cell_type": "code",
      "execution_count": 18,
      "metadata": {
        "id": "73ZdiItNLiWb"
      },
      "outputs": [],
      "source": [
        "def masking_with_margin_distribution(data, portion_of_mask):\n",
        "  mean = np.mean(data, axis=0)\n",
        "  column_mu = np.mean(data, axis=0)\n",
        "  column_std = np.std(data, axis=0)\n",
        "\n",
        "  view = data.copy()\n",
        "\n",
        "  for i in range(len(data)): \n",
        "    masked_indices = get_random_indices(data, portion_of_mask)\n",
        "   \n",
        "    for j in range(len(mean)):\n",
        "      if j in masked_indices:\n",
        "        view[i,j] = np.random.normal(column_mu[j], column_std[j])\n",
        "              \n",
        "  return view"
      ]
    },
    {
      "cell_type": "markdown",
      "source": [
        "####Upsampling (SMOTE like)"
      ],
      "metadata": {
        "id": "VjcGRC-PLqka"
      }
    },
    {
      "cell_type": "code",
      "source": [
        "#put all data points in kd-tree for fast searching\n",
        "kdtree = KDTree(X_ds, leaf_size=2)"
      ],
      "metadata": {
        "id": "fVtPB2xEFUDM"
      },
      "execution_count": 19,
      "outputs": []
    },
    {
      "cell_type": "code",
      "source": [
        "#get random point in the k nearest neighbors\n",
        "def get_idx_random_knn(x,k):\n",
        "   _, ids = kdtree.query(x.reshape(1, -1), k=k)\n",
        "   ids = ids.flatten()\n",
        "   ids = ids[1:-1]\n",
        "   random_id = np.random.choice(ids, 1)\n",
        "   return random_id"
      ],
      "metadata": {
        "id": "RRNpp0pBsMmI"
      },
      "execution_count": 20,
      "outputs": []
    },
    {
      "cell_type": "code",
      "source": [
        "#mix up with a random near neighbor \n",
        "def mixup_random_neighbor(data, k):\n",
        "  view = data.copy()\n",
        "  for i in range(len(view)):\n",
        "    point = data[i]\n",
        "    random_neighbor_id = get_idx_random_knn(x=point, k=k)\n",
        "    view[i] = 0.5*data[i] + 0.5*data[random_neighbor_id]\n",
        "  return view"
      ],
      "metadata": {
        "id": "15ISb58Wtz8V"
      },
      "execution_count": 21,
      "outputs": []
    },
    {
      "cell_type": "code",
      "source": [
        "#a random neighbor as augmentation\n",
        "def random_near_neighbor(data, k):\n",
        "  view = data.copy()\n",
        "  for i in range(len(view)):\n",
        "    point = data[i]\n",
        "    random_neighbor_id = get_idx_random_knn(x=point, k=k)\n",
        "    view[i] = data[random_neighbor_id]\n",
        "  return view"
      ],
      "metadata": {
        "id": "6Ml9SaG2rNoI"
      },
      "execution_count": 22,
      "outputs": []
    },
    {
      "cell_type": "markdown",
      "source": [
        "##Create Model and Train with Augmented Data"
      ],
      "metadata": {
        "id": "eY9ivgZtMzKe"
      }
    },
    {
      "cell_type": "code",
      "execution_count": 28,
      "metadata": {
        "id": "SEi44QG1OtHO"
      },
      "outputs": [],
      "source": [
        "class MyDataSet(Dataset):\n",
        "  def __init__(self, view1, view2):\n",
        " \n",
        "    X_view1 = view1.copy()\n",
        "    X_view2 = view2.copy()\n",
        "    self.X_view1 = X_view1.copy().astype(np.float32)\n",
        "    self.X_view2 = X_view2.copy().astype(np.float32)\n",
        "  \n",
        "  def __len__(self):\n",
        "    return len(self.X_view1)\n",
        "  \n",
        "  def __getitem__(self, idx):\n",
        "    return self.X_view1[idx], self.X_view2[idx]"
      ]
    },
    {
      "cell_type": "code",
      "execution_count": 24,
      "metadata": {
        "id": "fkcWKpQzD096"
      },
      "outputs": [],
      "source": [
        "# define the NN architecture\n",
        "class convBackbone(nn.Module):\n",
        "    def __init__(self):\n",
        "        super(convBackbone, self).__init__()\n",
        "\n",
        "        #turn on dropout for testing the 'cropping' data augmentation \n",
        "        #self.dropout = nn.Dropout(p=0.1)\n",
        "        \n",
        "        self.fc1 = nn.Linear(2, 2, bias=False)\n",
        "        self.bn1 = nn.BatchNorm1d(2)\n",
        "\n",
        "        self.fc2 = nn.Linear(2, 2, bias=False)\n",
        "        self.bn2 = nn.BatchNorm1d(2)\n",
        "\n",
        "        self.fc3 = nn.Linear(2, 2, bias=False)\n",
        "        self.bn3 = nn.BatchNorm1d(2)\n",
        "\n",
        "\n",
        "    def forward(self, x):\n",
        "\n",
        "        #turn on dropout for testing the 'cropping' data augmentation \n",
        "        #x = self.dropout(x)\n",
        "        \n",
        "        #x = F.relu(self.bn1(self.fc1(x)))\n",
        "        x = F.relu(self.bn2(self.fc2(x)))\n",
        "        x = self.bn3(self.fc3(x))\n",
        "                \n",
        "        return x"
      ]
    },
    {
      "cell_type": "code",
      "source": [
        "class SimSiam(nn.Module):\n",
        "    def __init__(self, backbone):\n",
        "        super().__init__()\n",
        "        self.backbone = backbone\n",
        "        self.projection_head = SimSiamProjectionHead(2, 2, 2)\n",
        "        self.prediction_head = SimSiamPredictionHead(2, 2, 2)\n",
        "\n",
        "    def forward(self, x):\n",
        "        f = self.backbone(x)\n",
        "        z = f.flatten(start_dim=1)\n",
        "        z = self.projection_head(z)\n",
        "        p = self.prediction_head(z)\n",
        "        z = z.detach()\n",
        "        return f, z, p\n",
        "\n",
        "backbone = convBackbone()\n",
        "model = SimSiam(backbone)"
      ],
      "metadata": {
        "id": "EIfNnfTtD2si"
      },
      "execution_count": 25,
      "outputs": []
    },
    {
      "cell_type": "code",
      "source": [
        "criterion = NegativeCosineSimilarity()\n",
        "optimizer = torch.optim.SGD(model.parameters(), lr=0.06)\n",
        "\n",
        "#cosine annealing lr\n",
        "scheduler = lr_scheduler.CosineAnnealingLR(optimizer,T_max=500, eta_min=0)"
      ],
      "metadata": {
        "id": "C8x5QowRD7_A"
      },
      "execution_count": 26,
      "outputs": []
    },
    {
      "cell_type": "code",
      "execution_count": 29,
      "metadata": {
        "id": "Ai5IGyxbbMHL"
      },
      "outputs": [],
      "source": [
        "view1 = random_near_neighbor(X_ds, 30)\n",
        "view2 = random_near_neighbor(X_ds, 30)\n",
        "\n",
        "#turn on the following to test other augmentations\n",
        "\n",
        "#view1 = mixup_random_neighbor(X_ds, 15)\n",
        "#view2 = mixup_random_neighbor(X_ds, 15)\n",
        "\n",
        "#view1 = mixup(X_ds)\n",
        "#view2 = mixup(X_ds)\n",
        "\n",
        "#view1 = mixcut(X_ds)\n",
        "#view2 = mixcut(X_ds)\n",
        "\n",
        "#view1 = masking_with_mean(X_ds, 0.4)\n",
        "#view2 = masking_with_mean(X_ds, 0.4)\n",
        "\n",
        "#view1 = masking_with_random(X_ds, 0.4)\n",
        "#view2 = masking_with_random(X_ds, 0.4)\n",
        "\n",
        "#view1 = masking_with_margin_distribution(X_ds, 0.4)\n",
        "#view2 = masking_with_margin_distribution(X_ds, 0.4)\n",
        "\n",
        "train_ds = MyDataSet(view1, view2)\n",
        "train_dl = DataLoader(train_ds, batch_size=256, shuffle=True)"
      ]
    },
    {
      "cell_type": "code",
      "source": [
        "device = 'cuda' if torch.cuda.is_available() else 'cpu'\n",
        "model.to(device)\n",
        "\n",
        "for epoch in range(500):\n",
        "    total_loss = 0\n",
        "    for x0,x1 in train_dl:\n",
        "        x0 = x0.to(device)\n",
        "        x1 = x1.to(device)\n",
        "        _, z0, p0 = model(x0)\n",
        "        _, z1, p1 = model(x1)\n",
        "\n",
        "        loss = 0.5 * (criterion(z0, p1) + criterion(z1, p0))\n",
        "        total_loss += loss.detach()\n",
        "        loss.backward()\n",
        "\n",
        "        optimizer.step()\n",
        "        optimizer.zero_grad()\n",
        "        scheduler.step()\n",
        "\n",
        "    avg_loss = total_loss / len(train_dl)\n",
        "    print(f\"epoch: {epoch:>02}, loss: {avg_loss:.5f}\")"
      ],
      "metadata": {
        "colab": {
          "base_uri": "https://localhost:8080/"
        },
        "id": "B9Ze5qo8EFde",
        "outputId": "b1a449c0-0b7d-414d-a475-84cd08f952c5"
      },
      "execution_count": 30,
      "outputs": [
        {
          "output_type": "stream",
          "name": "stdout",
          "text": [
            "epoch: 00, loss: -0.24966\n",
            "epoch: 01, loss: -0.40782\n",
            "epoch: 02, loss: -0.52872\n",
            "epoch: 03, loss: -0.58880\n",
            "epoch: 04, loss: -0.63737\n",
            "epoch: 05, loss: -0.17367\n",
            "epoch: 06, loss: -0.71824\n",
            "epoch: 07, loss: -0.79354\n",
            "epoch: 08, loss: -0.79589\n",
            "epoch: 09, loss: -0.76046\n",
            "epoch: 10, loss: -0.76362\n",
            "epoch: 11, loss: -0.83728\n",
            "epoch: 12, loss: -0.74244\n",
            "epoch: 13, loss: -0.81376\n",
            "epoch: 14, loss: -0.87477\n",
            "epoch: 15, loss: -0.89469\n",
            "epoch: 16, loss: -0.90451\n",
            "epoch: 17, loss: -0.92356\n",
            "epoch: 18, loss: -0.93799\n",
            "epoch: 19, loss: -0.95945\n",
            "epoch: 20, loss: -0.98257\n",
            "epoch: 21, loss: -0.98057\n",
            "epoch: 22, loss: -0.98995\n",
            "epoch: 23, loss: -0.98811\n",
            "epoch: 24, loss: -0.99043\n",
            "epoch: 25, loss: -0.98797\n",
            "epoch: 26, loss: -0.99043\n",
            "epoch: 27, loss: -0.99053\n",
            "epoch: 28, loss: -0.98922\n",
            "epoch: 29, loss: -0.99111\n",
            "epoch: 30, loss: -0.98972\n",
            "epoch: 31, loss: -0.99121\n",
            "epoch: 32, loss: -0.99045\n",
            "epoch: 33, loss: -0.99120\n",
            "epoch: 34, loss: -0.98611\n",
            "epoch: 35, loss: -0.99051\n",
            "epoch: 36, loss: -0.99146\n",
            "epoch: 37, loss: -0.99171\n",
            "epoch: 38, loss: -0.99170\n",
            "epoch: 39, loss: -0.99124\n",
            "epoch: 40, loss: -0.99213\n",
            "epoch: 41, loss: -0.99083\n",
            "epoch: 42, loss: -0.99214\n",
            "epoch: 43, loss: -0.98969\n",
            "epoch: 44, loss: -0.99069\n",
            "epoch: 45, loss: -0.99259\n",
            "epoch: 46, loss: -0.99125\n",
            "epoch: 47, loss: -0.98891\n",
            "epoch: 48, loss: -0.99109\n",
            "epoch: 49, loss: -0.99052\n",
            "epoch: 50, loss: -0.99143\n",
            "epoch: 51, loss: -0.99207\n",
            "epoch: 52, loss: -0.98876\n",
            "epoch: 53, loss: -0.99149\n",
            "epoch: 54, loss: -0.99179\n",
            "epoch: 55, loss: -0.97093\n",
            "epoch: 56, loss: -0.98794\n",
            "epoch: 57, loss: -0.99238\n",
            "epoch: 58, loss: -0.99273\n",
            "epoch: 59, loss: -0.99219\n",
            "epoch: 60, loss: -0.99301\n",
            "epoch: 61, loss: -0.99300\n",
            "epoch: 62, loss: -0.99276\n",
            "epoch: 63, loss: -0.98942\n",
            "epoch: 64, loss: -0.99194\n",
            "epoch: 65, loss: -0.99302\n",
            "epoch: 66, loss: -0.98687\n",
            "epoch: 67, loss: -0.99054\n",
            "epoch: 68, loss: -0.99274\n",
            "epoch: 69, loss: -0.99301\n",
            "epoch: 70, loss: -0.98743\n",
            "epoch: 71, loss: -0.99028\n",
            "epoch: 72, loss: -0.99186\n",
            "epoch: 73, loss: -0.99268\n",
            "epoch: 74, loss: -0.99013\n",
            "epoch: 75, loss: -0.98884\n",
            "epoch: 76, loss: -0.98736\n",
            "epoch: 77, loss: -0.99200\n",
            "epoch: 78, loss: -0.99366\n",
            "epoch: 79, loss: -0.99068\n",
            "epoch: 80, loss: -0.99038\n",
            "epoch: 81, loss: -0.99302\n",
            "epoch: 82, loss: -0.99237\n",
            "epoch: 83, loss: -0.99329\n",
            "epoch: 84, loss: -0.99345\n",
            "epoch: 85, loss: -0.99376\n",
            "epoch: 86, loss: -0.99335\n",
            "epoch: 87, loss: -0.99357\n",
            "epoch: 88, loss: -0.99398\n",
            "epoch: 89, loss: -0.99362\n",
            "epoch: 90, loss: -0.99301\n",
            "epoch: 91, loss: -0.99369\n",
            "epoch: 92, loss: -0.99348\n",
            "epoch: 93, loss: -0.98093\n",
            "epoch: 94, loss: -0.98973\n",
            "epoch: 95, loss: -0.99348\n",
            "epoch: 96, loss: -0.99310\n",
            "epoch: 97, loss: -0.99254\n",
            "epoch: 98, loss: -0.98983\n",
            "epoch: 99, loss: -0.99347\n",
            "epoch: 100, loss: -0.99390\n",
            "epoch: 101, loss: -0.99164\n",
            "epoch: 102, loss: -0.99358\n",
            "epoch: 103, loss: -0.99367\n",
            "epoch: 104, loss: -0.99391\n",
            "epoch: 105, loss: -0.99048\n",
            "epoch: 106, loss: -0.99173\n",
            "epoch: 107, loss: -0.99327\n",
            "epoch: 108, loss: -0.99330\n",
            "epoch: 109, loss: -0.99318\n",
            "epoch: 110, loss: -0.99342\n",
            "epoch: 111, loss: -0.99333\n",
            "epoch: 112, loss: -0.99233\n",
            "epoch: 113, loss: -0.99372\n",
            "epoch: 114, loss: -0.99340\n",
            "epoch: 115, loss: -0.99330\n",
            "epoch: 116, loss: -0.99354\n",
            "epoch: 117, loss: -0.99197\n",
            "epoch: 118, loss: -0.99255\n",
            "epoch: 119, loss: -0.99318\n",
            "epoch: 120, loss: -0.99341\n",
            "epoch: 121, loss: -0.99352\n",
            "epoch: 122, loss: -0.99287\n",
            "epoch: 123, loss: -0.99331\n",
            "epoch: 124, loss: -0.99381\n",
            "epoch: 125, loss: -0.99383\n",
            "epoch: 126, loss: -0.99273\n",
            "epoch: 127, loss: -0.99379\n",
            "epoch: 128, loss: -0.99061\n",
            "epoch: 129, loss: -0.99346\n",
            "epoch: 130, loss: -0.99136\n",
            "epoch: 131, loss: -0.99308\n",
            "epoch: 132, loss: -0.99362\n",
            "epoch: 133, loss: -0.99194\n",
            "epoch: 134, loss: -0.99205\n",
            "epoch: 135, loss: -0.99208\n",
            "epoch: 136, loss: -0.98058\n",
            "epoch: 137, loss: -0.98795\n",
            "epoch: 138, loss: -0.99294\n",
            "epoch: 139, loss: -0.99331\n",
            "epoch: 140, loss: -0.99290\n",
            "epoch: 141, loss: -0.99281\n",
            "epoch: 142, loss: -0.99278\n",
            "epoch: 143, loss: -0.99295\n",
            "epoch: 144, loss: -0.99365\n",
            "epoch: 145, loss: -0.99328\n",
            "epoch: 146, loss: -0.99320\n",
            "epoch: 147, loss: -0.99385\n",
            "epoch: 148, loss: -0.99237\n",
            "epoch: 149, loss: -0.99286\n",
            "epoch: 150, loss: -0.99236\n",
            "epoch: 151, loss: -0.99345\n",
            "epoch: 152, loss: -0.99048\n",
            "epoch: 153, loss: -0.99336\n",
            "epoch: 154, loss: -0.99283\n",
            "epoch: 155, loss: -0.99344\n",
            "epoch: 156, loss: -0.99404\n",
            "epoch: 157, loss: -0.99356\n",
            "epoch: 158, loss: -0.99371\n",
            "epoch: 159, loss: -0.99328\n",
            "epoch: 160, loss: -0.99166\n",
            "epoch: 161, loss: -0.99166\n",
            "epoch: 162, loss: -0.99246\n",
            "epoch: 163, loss: -0.99377\n",
            "epoch: 164, loss: -0.99330\n",
            "epoch: 165, loss: -0.99303\n",
            "epoch: 166, loss: -0.99203\n",
            "epoch: 167, loss: -0.99321\n",
            "epoch: 168, loss: -0.99201\n",
            "epoch: 169, loss: -0.99298\n",
            "epoch: 170, loss: -0.99313\n",
            "epoch: 171, loss: -0.99337\n",
            "epoch: 172, loss: -0.99342\n",
            "epoch: 173, loss: -0.99275\n",
            "epoch: 174, loss: -0.99176\n",
            "epoch: 175, loss: -0.99346\n",
            "epoch: 176, loss: -0.99326\n",
            "epoch: 177, loss: -0.99341\n",
            "epoch: 178, loss: -0.99031\n",
            "epoch: 179, loss: -0.99352\n",
            "epoch: 180, loss: -0.98983\n",
            "epoch: 181, loss: -0.99371\n",
            "epoch: 182, loss: -0.99367\n",
            "epoch: 183, loss: -0.99374\n",
            "epoch: 184, loss: -0.99348\n",
            "epoch: 185, loss: -0.99225\n",
            "epoch: 186, loss: -0.99299\n",
            "epoch: 187, loss: -0.99330\n",
            "epoch: 188, loss: -0.99152\n",
            "epoch: 189, loss: -0.98580\n",
            "epoch: 190, loss: -0.99346\n",
            "epoch: 191, loss: -0.97961\n",
            "epoch: 192, loss: -0.99352\n",
            "epoch: 193, loss: -0.99343\n",
            "epoch: 194, loss: -0.99313\n",
            "epoch: 195, loss: -0.99357\n",
            "epoch: 196, loss: -0.99387\n",
            "epoch: 197, loss: -0.99108\n",
            "epoch: 198, loss: -0.99255\n",
            "epoch: 199, loss: -0.98076\n",
            "epoch: 200, loss: -0.99300\n",
            "epoch: 201, loss: -0.99264\n",
            "epoch: 202, loss: -0.99309\n",
            "epoch: 203, loss: -0.99381\n",
            "epoch: 204, loss: -0.99357\n",
            "epoch: 205, loss: -0.99341\n",
            "epoch: 206, loss: -0.99295\n",
            "epoch: 207, loss: -0.98912\n",
            "epoch: 208, loss: -0.98869\n",
            "epoch: 209, loss: -0.99047\n",
            "epoch: 210, loss: -0.99346\n",
            "epoch: 211, loss: -0.99336\n",
            "epoch: 212, loss: -0.99365\n",
            "epoch: 213, loss: -0.98924\n",
            "epoch: 214, loss: -0.98820\n",
            "epoch: 215, loss: -0.99344\n",
            "epoch: 216, loss: -0.99313\n",
            "epoch: 217, loss: -0.99333\n",
            "epoch: 218, loss: -0.97792\n",
            "epoch: 219, loss: -0.99332\n",
            "epoch: 220, loss: -0.99341\n",
            "epoch: 221, loss: -0.99357\n",
            "epoch: 222, loss: -0.99330\n",
            "epoch: 223, loss: -0.99305\n",
            "epoch: 224, loss: -0.98866\n",
            "epoch: 225, loss: -0.99235\n",
            "epoch: 226, loss: -0.99350\n",
            "epoch: 227, loss: -0.98958\n",
            "epoch: 228, loss: -0.99292\n",
            "epoch: 229, loss: -0.99274\n",
            "epoch: 230, loss: -0.99318\n",
            "epoch: 231, loss: -0.99341\n",
            "epoch: 232, loss: -0.99289\n",
            "epoch: 233, loss: -0.98480\n",
            "epoch: 234, loss: -0.99301\n",
            "epoch: 235, loss: -0.99308\n",
            "epoch: 236, loss: -0.99330\n",
            "epoch: 237, loss: -0.99358\n",
            "epoch: 238, loss: -0.99333\n",
            "epoch: 239, loss: -0.99339\n",
            "epoch: 240, loss: -0.99270\n",
            "epoch: 241, loss: -0.99168\n",
            "epoch: 242, loss: -0.99339\n",
            "epoch: 243, loss: -0.99274\n",
            "epoch: 244, loss: -0.99365\n",
            "epoch: 245, loss: -0.99116\n",
            "epoch: 246, loss: -0.99304\n",
            "epoch: 247, loss: -0.99270\n",
            "epoch: 248, loss: -0.99198\n",
            "epoch: 249, loss: -0.99373\n",
            "epoch: 250, loss: -0.99385\n",
            "epoch: 251, loss: -0.99349\n",
            "epoch: 252, loss: -0.99314\n",
            "epoch: 253, loss: -0.99282\n",
            "epoch: 254, loss: -0.99347\n",
            "epoch: 255, loss: -0.99267\n",
            "epoch: 256, loss: -0.99300\n",
            "epoch: 257, loss: -0.99290\n",
            "epoch: 258, loss: -0.99322\n",
            "epoch: 259, loss: -0.99026\n",
            "epoch: 260, loss: -0.99304\n",
            "epoch: 261, loss: -0.99031\n",
            "epoch: 262, loss: -0.99346\n",
            "epoch: 263, loss: -0.99304\n",
            "epoch: 264, loss: -0.99307\n",
            "epoch: 265, loss: -0.99320\n",
            "epoch: 266, loss: -0.99327\n",
            "epoch: 267, loss: -0.99311\n",
            "epoch: 268, loss: -0.99319\n",
            "epoch: 269, loss: -0.98487\n",
            "epoch: 270, loss: -0.99265\n",
            "epoch: 271, loss: -0.99336\n",
            "epoch: 272, loss: -0.99374\n",
            "epoch: 273, loss: -0.99337\n",
            "epoch: 274, loss: -0.99319\n",
            "epoch: 275, loss: -0.99290\n",
            "epoch: 276, loss: -0.99356\n",
            "epoch: 277, loss: -0.99356\n",
            "epoch: 278, loss: -0.99341\n",
            "epoch: 279, loss: -0.99358\n",
            "epoch: 280, loss: -0.99349\n",
            "epoch: 281, loss: -0.99250\n",
            "epoch: 282, loss: -0.99285\n",
            "epoch: 283, loss: -0.99333\n",
            "epoch: 284, loss: -0.99206\n",
            "epoch: 285, loss: -0.99360\n",
            "epoch: 286, loss: -0.99313\n",
            "epoch: 287, loss: -0.99336\n",
            "epoch: 288, loss: -0.99278\n",
            "epoch: 289, loss: -0.99339\n",
            "epoch: 290, loss: -0.99245\n",
            "epoch: 291, loss: -0.99243\n",
            "epoch: 292, loss: -0.98735\n",
            "epoch: 293, loss: -0.99306\n",
            "epoch: 294, loss: -0.99320\n",
            "epoch: 295, loss: -0.99222\n",
            "epoch: 296, loss: -0.99251\n",
            "epoch: 297, loss: -0.98853\n",
            "epoch: 298, loss: -0.99325\n",
            "epoch: 299, loss: -0.99318\n",
            "epoch: 300, loss: -0.99213\n",
            "epoch: 301, loss: -0.97459\n",
            "epoch: 302, loss: -0.99292\n",
            "epoch: 303, loss: -0.98852\n",
            "epoch: 304, loss: -0.99345\n",
            "epoch: 305, loss: -0.99284\n",
            "epoch: 306, loss: -0.99205\n",
            "epoch: 307, loss: -0.99330\n",
            "epoch: 308, loss: -0.99294\n",
            "epoch: 309, loss: -0.99228\n",
            "epoch: 310, loss: -0.98852\n",
            "epoch: 311, loss: -0.99145\n",
            "epoch: 312, loss: -0.99212\n",
            "epoch: 313, loss: -0.99280\n",
            "epoch: 314, loss: -0.99080\n",
            "epoch: 315, loss: -0.98903\n",
            "epoch: 316, loss: -0.99239\n",
            "epoch: 317, loss: -0.98887\n",
            "epoch: 318, loss: -0.99291\n",
            "epoch: 319, loss: -0.99351\n",
            "epoch: 320, loss: -0.99258\n",
            "epoch: 321, loss: -0.99277\n",
            "epoch: 322, loss: -0.99232\n",
            "epoch: 323, loss: -0.99337\n",
            "epoch: 324, loss: -0.99150\n",
            "epoch: 325, loss: -0.99233\n",
            "epoch: 326, loss: -0.99303\n",
            "epoch: 327, loss: -0.99285\n",
            "epoch: 328, loss: -0.99308\n",
            "epoch: 329, loss: -0.99281\n",
            "epoch: 330, loss: -0.99359\n",
            "epoch: 331, loss: -0.99355\n",
            "epoch: 332, loss: -0.99245\n",
            "epoch: 333, loss: -0.99321\n",
            "epoch: 334, loss: -0.99139\n",
            "epoch: 335, loss: -0.99326\n",
            "epoch: 336, loss: -0.99328\n",
            "epoch: 337, loss: -0.99336\n",
            "epoch: 338, loss: -0.99319\n",
            "epoch: 339, loss: -0.99168\n",
            "epoch: 340, loss: -0.99181\n",
            "epoch: 341, loss: -0.99173\n",
            "epoch: 342, loss: -0.99325\n",
            "epoch: 343, loss: -0.99295\n",
            "epoch: 344, loss: -0.99192\n",
            "epoch: 345, loss: -0.99323\n",
            "epoch: 346, loss: -0.99321\n",
            "epoch: 347, loss: -0.99281\n",
            "epoch: 348, loss: -0.99336\n",
            "epoch: 349, loss: -0.99329\n",
            "epoch: 350, loss: -0.99255\n",
            "epoch: 351, loss: -0.99296\n",
            "epoch: 352, loss: -0.99308\n",
            "epoch: 353, loss: -0.99309\n",
            "epoch: 354, loss: -0.99297\n",
            "epoch: 355, loss: -0.99341\n",
            "epoch: 356, loss: -0.99321\n",
            "epoch: 357, loss: -0.99147\n",
            "epoch: 358, loss: -0.99307\n",
            "epoch: 359, loss: -0.97818\n",
            "epoch: 360, loss: -0.99294\n",
            "epoch: 361, loss: -0.99074\n",
            "epoch: 362, loss: -0.99049\n",
            "epoch: 363, loss: -0.99282\n",
            "epoch: 364, loss: -0.99287\n",
            "epoch: 365, loss: -0.99320\n",
            "epoch: 366, loss: -0.99240\n",
            "epoch: 367, loss: -0.99289\n",
            "epoch: 368, loss: -0.99294\n",
            "epoch: 369, loss: -0.99242\n",
            "epoch: 370, loss: -0.99305\n",
            "epoch: 371, loss: -0.99075\n",
            "epoch: 372, loss: -0.99335\n",
            "epoch: 373, loss: -0.99243\n",
            "epoch: 374, loss: -0.99244\n",
            "epoch: 375, loss: -0.99322\n",
            "epoch: 376, loss: -0.99173\n",
            "epoch: 377, loss: -0.99222\n",
            "epoch: 378, loss: -0.99211\n",
            "epoch: 379, loss: -0.99324\n",
            "epoch: 380, loss: -0.99371\n",
            "epoch: 381, loss: -0.99126\n",
            "epoch: 382, loss: -0.99314\n",
            "epoch: 383, loss: -0.99337\n",
            "epoch: 384, loss: -0.99307\n",
            "epoch: 385, loss: -0.99327\n",
            "epoch: 386, loss: -0.99198\n",
            "epoch: 387, loss: -0.99234\n",
            "epoch: 388, loss: -0.99332\n",
            "epoch: 389, loss: -0.98844\n",
            "epoch: 390, loss: -0.99301\n",
            "epoch: 391, loss: -0.99191\n",
            "epoch: 392, loss: -0.99261\n",
            "epoch: 393, loss: -0.99216\n",
            "epoch: 394, loss: -0.99297\n",
            "epoch: 395, loss: -0.99340\n",
            "epoch: 396, loss: -0.99306\n",
            "epoch: 397, loss: -0.99300\n",
            "epoch: 398, loss: -0.99201\n",
            "epoch: 399, loss: -0.99316\n",
            "epoch: 400, loss: -0.99283\n",
            "epoch: 401, loss: -0.99294\n",
            "epoch: 402, loss: -0.99331\n",
            "epoch: 403, loss: -0.99285\n",
            "epoch: 404, loss: -0.99019\n",
            "epoch: 405, loss: -0.99270\n",
            "epoch: 406, loss: -0.99226\n",
            "epoch: 407, loss: -0.99308\n",
            "epoch: 408, loss: -0.99308\n",
            "epoch: 409, loss: -0.99295\n",
            "epoch: 410, loss: -0.99292\n",
            "epoch: 411, loss: -0.99082\n",
            "epoch: 412, loss: -0.98365\n",
            "epoch: 413, loss: -0.99237\n",
            "epoch: 414, loss: -0.99349\n",
            "epoch: 415, loss: -0.99166\n",
            "epoch: 416, loss: -0.99309\n",
            "epoch: 417, loss: -0.99277\n",
            "epoch: 418, loss: -0.99369\n",
            "epoch: 419, loss: -0.99212\n",
            "epoch: 420, loss: -0.98664\n",
            "epoch: 421, loss: -0.99045\n",
            "epoch: 422, loss: -0.99212\n",
            "epoch: 423, loss: -0.99224\n",
            "epoch: 424, loss: -0.98926\n",
            "epoch: 425, loss: -0.99191\n",
            "epoch: 426, loss: -0.98997\n",
            "epoch: 427, loss: -0.99275\n",
            "epoch: 428, loss: -0.99300\n",
            "epoch: 429, loss: -0.99244\n",
            "epoch: 430, loss: -0.99203\n",
            "epoch: 431, loss: -0.99166\n",
            "epoch: 432, loss: -0.99281\n",
            "epoch: 433, loss: -0.99254\n",
            "epoch: 434, loss: -0.99273\n",
            "epoch: 435, loss: -0.99248\n",
            "epoch: 436, loss: -0.99273\n",
            "epoch: 437, loss: -0.99297\n",
            "epoch: 438, loss: -0.99287\n",
            "epoch: 439, loss: -0.99296\n",
            "epoch: 440, loss: -0.99250\n",
            "epoch: 441, loss: -0.99303\n",
            "epoch: 442, loss: -0.99321\n",
            "epoch: 443, loss: -0.99273\n",
            "epoch: 444, loss: -0.99312\n",
            "epoch: 445, loss: -0.99333\n",
            "epoch: 446, loss: -0.99165\n",
            "epoch: 447, loss: -0.99259\n",
            "epoch: 448, loss: -0.99214\n",
            "epoch: 449, loss: -0.99329\n",
            "epoch: 450, loss: -0.99296\n",
            "epoch: 451, loss: -0.98948\n",
            "epoch: 452, loss: -0.99277\n",
            "epoch: 453, loss: -0.99230\n",
            "epoch: 454, loss: -0.99217\n",
            "epoch: 455, loss: -0.99311\n",
            "epoch: 456, loss: -0.99243\n",
            "epoch: 457, loss: -0.99161\n",
            "epoch: 458, loss: -0.99243\n",
            "epoch: 459, loss: -0.99145\n",
            "epoch: 460, loss: -0.99355\n",
            "epoch: 461, loss: -0.99076\n",
            "epoch: 462, loss: -0.99295\n",
            "epoch: 463, loss: -0.99268\n",
            "epoch: 464, loss: -0.98810\n",
            "epoch: 465, loss: -0.99270\n",
            "epoch: 466, loss: -0.99264\n",
            "epoch: 467, loss: -0.96762\n",
            "epoch: 468, loss: -0.99002\n",
            "epoch: 469, loss: -0.99148\n",
            "epoch: 470, loss: -0.99146\n",
            "epoch: 471, loss: -0.99184\n",
            "epoch: 472, loss: -0.99205\n",
            "epoch: 473, loss: -0.99131\n",
            "epoch: 474, loss: -0.99146\n",
            "epoch: 475, loss: -0.99111\n",
            "epoch: 476, loss: -0.99224\n",
            "epoch: 477, loss: -0.99141\n",
            "epoch: 478, loss: -0.99244\n",
            "epoch: 479, loss: -0.99198\n",
            "epoch: 480, loss: -0.99245\n",
            "epoch: 481, loss: -0.99217\n",
            "epoch: 482, loss: -0.99230\n",
            "epoch: 483, loss: -0.99236\n",
            "epoch: 484, loss: -0.99323\n",
            "epoch: 485, loss: -0.99276\n",
            "epoch: 486, loss: -0.99322\n",
            "epoch: 487, loss: -0.99313\n",
            "epoch: 488, loss: -0.99275\n",
            "epoch: 489, loss: -0.99151\n",
            "epoch: 490, loss: -0.99248\n",
            "epoch: 491, loss: -0.99265\n",
            "epoch: 492, loss: -0.99303\n",
            "epoch: 493, loss: -0.99267\n",
            "epoch: 494, loss: -0.99254\n",
            "epoch: 495, loss: -0.98993\n",
            "epoch: 496, loss: -0.99280\n",
            "epoch: 497, loss: -0.99302\n",
            "epoch: 498, loss: -0.99131\n",
            "epoch: 499, loss: -0.99245\n"
          ]
        }
      ]
    },
    {
      "cell_type": "markdown",
      "source": [
        "##Check the Training Result"
      ],
      "metadata": {
        "id": "gP9q1mKoOa54"
      }
    },
    {
      "cell_type": "code",
      "execution_count": 31,
      "metadata": {
        "id": "tFJTq7KjgZQK"
      },
      "outputs": [],
      "source": [
        "ds_cl= MyDataSet(X_ds, X_ds)\n",
        "dl_cl = DataLoader(ds_cl, batch_size=256)"
      ]
    },
    {
      "cell_type": "code",
      "source": [
        "embeddings = []\n",
        "\n",
        "# disable gradients for faster calculations\n",
        "model.eval()\n",
        "with torch.no_grad():\n",
        "    for dl_cl1, dl_cl2 in dl_cl:\n",
        "\n",
        "        dl_cl1 = dl_cl1.to(device)\n",
        "        f, z, p = model(dl_cl1)\n",
        "        \n",
        "        # store the embeddings in lists\n",
        "        embeddings.append(f)\n",
        "\n",
        "# concatenate the embeddings, targets and convert to numpy\n",
        "embeddings = torch.cat(embeddings, dim=0)\n",
        "embeddings = embeddings.cpu().numpy()"
      ],
      "metadata": {
        "id": "JonEPXjEEMfS"
      },
      "execution_count": 32,
      "outputs": []
    },
    {
      "cell_type": "code",
      "source": [
        "test = (embeddings - embeddings.mean(axis=0)) / (embeddings.std(axis=0))"
      ],
      "metadata": {
        "id": "WYm55Kzrxtuh"
      },
      "execution_count": 33,
      "outputs": []
    },
    {
      "cell_type": "code",
      "execution_count": 35,
      "metadata": {
        "id": "8hjHslrXcfs1"
      },
      "outputs": [],
      "source": [
        "#KMeans in latent space\n",
        "kmeans_backbone = KMeans(n_clusters=4).fit(test)\n",
        "kmeans_labels_backbone = kmeans_backbone.labels_"
      ]
    },
    {
      "cell_type": "code",
      "execution_count": 36,
      "metadata": {
        "id": "eSL9AYi68PzG",
        "colab": {
          "base_uri": "https://localhost:8080/"
        },
        "outputId": "3b73d0a3-398b-4a65-a262-ca1aef8f60ff"
      },
      "outputs": [
        {
          "output_type": "execute_result",
          "data": {
            "text/plain": [
              "0.7950474210402625"
            ]
          },
          "metadata": {},
          "execution_count": 36
        }
      ],
      "source": [
        "normalized_mutual_info_score(kmeans_labels_backbone, y_ds)"
      ]
    },
    {
      "cell_type": "code",
      "source": [
        "colors = ['blue', 'orange', 'green', 'red']\n",
        "plt.scatter(test[:, 0], test[:, 1], s=0.25, c=kmeans_labels_backbone, cmap=matplotlib.colors.ListedColormap(colors))\n",
        "plt.show()"
      ],
      "metadata": {
        "outputId": "a96e8e9a-3798-453e-ad3b-1eae6c818fc7",
        "colab": {
          "base_uri": "https://localhost:8080/",
          "height": 265
        },
        "id": "fKs0YKIJAfTt"
      },
      "execution_count": 37,
      "outputs": [
        {
          "output_type": "display_data",
          "data": {
            "text/plain": [
              "<Figure size 432x288 with 1 Axes>"
            ],
            "image/png": "[encoded data removed]"
          },
          "metadata": {
            "needs_background": "light"
          }
        }
      ]
    },
    {
      "cell_type": "code",
      "source": [
        "#NMI increases from 0.67 to 0.79"
      ],
      "metadata": {
        "id": "TfoMwpddbHuu"
      },
      "execution_count": null,
      "outputs": []
    }
  ]
}